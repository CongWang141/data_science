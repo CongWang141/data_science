{
 "cells": [
  {
   "cell_type": "markdown",
   "metadata": {},
   "source": [
    "### Assignment 2: Forecasting with Linear Model\n",
    "\n",
    "We will continue using the FRED_MD dataset. Our goal of the day is to forecast US industrial production (INDPRO in our dataset.)"
   ]
  },
  {
   "cell_type": "markdown",
   "metadata": {},
   "source": [
    "### Import the required moduls\n",
    "\n",
    "There are the basic imports, but feel free to add anything you may need."
   ]
  },
  {
   "cell_type": "code",
   "execution_count": 1,
   "metadata": {},
   "outputs": [],
   "source": [
    "import pandas as pd\n",
    "import numpy as np\n",
    "import seaborn as sns\n",
    "import sklearn \n",
    "import matplotlib.pyplot as plt\n",
    "import matplotlib.dates as mdates"
   ]
  },
  {
   "cell_type": "markdown",
   "metadata": {},
   "source": [
    "### Read the data\n",
    "\n",
    "I have uploaded the transformed data on github. So we will read it directly from: https://raw.githubusercontent.com/barcelonagse-datascience/academic_datasets/main/fredmd_transformed.csv.\n",
    "\n",
    "Create a variable called ``dt`` to hold the data, and use pandas to read it from the link above."
   ]
  },
  {
   "cell_type": "code",
   "execution_count": 2,
   "metadata": {},
   "outputs": [
    {
     "data": {
      "text/html": [
       "<div>\n",
       "<style scoped>\n",
       "    .dataframe tbody tr th:only-of-type {\n",
       "        vertical-align: middle;\n",
       "    }\n",
       "\n",
       "    .dataframe tbody tr th {\n",
       "        vertical-align: top;\n",
       "    }\n",
       "\n",
       "    .dataframe thead th {\n",
       "        text-align: right;\n",
       "    }\n",
       "</style>\n",
       "<table border=\"1\" class=\"dataframe\">\n",
       "  <thead>\n",
       "    <tr style=\"text-align: right;\">\n",
       "      <th></th>\n",
       "      <th>dates</th>\n",
       "      <th>RPI</th>\n",
       "      <th>W875RX1</th>\n",
       "      <th>DPCERA3M086SBEA</th>\n",
       "      <th>CMRMTSPLx</th>\n",
       "      <th>RETAILx</th>\n",
       "      <th>INDPRO</th>\n",
       "      <th>IPFPNSS</th>\n",
       "      <th>IPFINAL</th>\n",
       "      <th>IPCONGD</th>\n",
       "      <th>...</th>\n",
       "      <th>DDURRG3M086SBEA</th>\n",
       "      <th>DNDGRG3M086SBEA</th>\n",
       "      <th>DSERRG3M086SBEA</th>\n",
       "      <th>CES0600000008</th>\n",
       "      <th>CES2000000008</th>\n",
       "      <th>CES3000000008</th>\n",
       "      <th>DTCOLNVHFNM</th>\n",
       "      <th>DTCTHFNM</th>\n",
       "      <th>INVEST</th>\n",
       "      <th>VIXCLSx</th>\n",
       "    </tr>\n",
       "  </thead>\n",
       "  <tbody>\n",
       "    <tr>\n",
       "      <th>0</th>\n",
       "      <td>1959-03-01</td>\n",
       "      <td>0.006430</td>\n",
       "      <td>0.007359</td>\n",
       "      <td>0.009410</td>\n",
       "      <td>-0.003423</td>\n",
       "      <td>0.008321</td>\n",
       "      <td>0.014303</td>\n",
       "      <td>0.006036</td>\n",
       "      <td>0.004899</td>\n",
       "      <td>0.000000</td>\n",
       "      <td>...</td>\n",
       "      <td>0.000666</td>\n",
       "      <td>-0.001124</td>\n",
       "      <td>0.000262</td>\n",
       "      <td>-0.000022</td>\n",
       "      <td>-0.008147</td>\n",
       "      <td>0.004819</td>\n",
       "      <td>0.004929</td>\n",
       "      <td>0.004138</td>\n",
       "      <td>-0.014792</td>\n",
       "      <td>19.311543</td>\n",
       "    </tr>\n",
       "    <tr>\n",
       "      <th>1</th>\n",
       "      <td>1959-04-01</td>\n",
       "      <td>0.006494</td>\n",
       "      <td>0.007049</td>\n",
       "      <td>-0.003639</td>\n",
       "      <td>0.019922</td>\n",
       "      <td>0.000616</td>\n",
       "      <td>0.021077</td>\n",
       "      <td>0.014338</td>\n",
       "      <td>0.014542</td>\n",
       "      <td>0.015653</td>\n",
       "      <td>...</td>\n",
       "      <td>-0.000229</td>\n",
       "      <td>0.001349</td>\n",
       "      <td>0.001752</td>\n",
       "      <td>-0.000022</td>\n",
       "      <td>0.012203</td>\n",
       "      <td>-0.004890</td>\n",
       "      <td>0.012134</td>\n",
       "      <td>0.006734</td>\n",
       "      <td>0.024929</td>\n",
       "      <td>19.311543</td>\n",
       "    </tr>\n",
       "    <tr>\n",
       "      <th>2</th>\n",
       "      <td>1959-05-01</td>\n",
       "      <td>0.005763</td>\n",
       "      <td>0.006616</td>\n",
       "      <td>0.012005</td>\n",
       "      <td>0.006797</td>\n",
       "      <td>0.007803</td>\n",
       "      <td>0.014950</td>\n",
       "      <td>0.008269</td>\n",
       "      <td>0.009583</td>\n",
       "      <td>0.004768</td>\n",
       "      <td>...</td>\n",
       "      <td>0.000646</td>\n",
       "      <td>-0.001687</td>\n",
       "      <td>-0.001937</td>\n",
       "      <td>-0.000021</td>\n",
       "      <td>-0.004090</td>\n",
       "      <td>-0.004819</td>\n",
       "      <td>0.002828</td>\n",
       "      <td>0.002020</td>\n",
       "      <td>-0.015342</td>\n",
       "      <td>19.311543</td>\n",
       "    </tr>\n",
       "    <tr>\n",
       "      <th>3</th>\n",
       "      <td>1959-06-01</td>\n",
       "      <td>0.003102</td>\n",
       "      <td>0.002974</td>\n",
       "      <td>0.003708</td>\n",
       "      <td>-0.000052</td>\n",
       "      <td>0.009064</td>\n",
       "      <td>0.001144</td>\n",
       "      <td>0.007034</td>\n",
       "      <td>0.007126</td>\n",
       "      <td>-0.004768</td>\n",
       "      <td>...</td>\n",
       "      <td>0.000329</td>\n",
       "      <td>0.003316</td>\n",
       "      <td>0.002093</td>\n",
       "      <td>-0.004619</td>\n",
       "      <td>0.003992</td>\n",
       "      <td>0.004796</td>\n",
       "      <td>0.009726</td>\n",
       "      <td>0.009007</td>\n",
       "      <td>-0.012252</td>\n",
       "      <td>19.311543</td>\n",
       "    </tr>\n",
       "    <tr>\n",
       "      <th>4</th>\n",
       "      <td>1959-07-01</td>\n",
       "      <td>-0.000589</td>\n",
       "      <td>-0.000764</td>\n",
       "      <td>-0.003427</td>\n",
       "      <td>0.012110</td>\n",
       "      <td>-0.000330</td>\n",
       "      <td>-0.024238</td>\n",
       "      <td>0.001167</td>\n",
       "      <td>0.008247</td>\n",
       "      <td>0.013056</td>\n",
       "      <td>...</td>\n",
       "      <td>-0.001521</td>\n",
       "      <td>-0.001238</td>\n",
       "      <td>-0.000100</td>\n",
       "      <td>0.000000</td>\n",
       "      <td>-0.004040</td>\n",
       "      <td>-0.004796</td>\n",
       "      <td>-0.004631</td>\n",
       "      <td>-0.001000</td>\n",
       "      <td>0.029341</td>\n",
       "      <td>19.311543</td>\n",
       "    </tr>\n",
       "  </tbody>\n",
       "</table>\n",
       "<p>5 rows × 124 columns</p>\n",
       "</div>"
      ],
      "text/plain": [
       "        dates       RPI   W875RX1  DPCERA3M086SBEA  CMRMTSPLx   RETAILx  \\\n",
       "0  1959-03-01  0.006430  0.007359         0.009410  -0.003423  0.008321   \n",
       "1  1959-04-01  0.006494  0.007049        -0.003639   0.019922  0.000616   \n",
       "2  1959-05-01  0.005763  0.006616         0.012005   0.006797  0.007803   \n",
       "3  1959-06-01  0.003102  0.002974         0.003708  -0.000052  0.009064   \n",
       "4  1959-07-01 -0.000589 -0.000764        -0.003427   0.012110 -0.000330   \n",
       "\n",
       "     INDPRO   IPFPNSS   IPFINAL   IPCONGD  ...  DDURRG3M086SBEA  \\\n",
       "0  0.014303  0.006036  0.004899  0.000000  ...         0.000666   \n",
       "1  0.021077  0.014338  0.014542  0.015653  ...        -0.000229   \n",
       "2  0.014950  0.008269  0.009583  0.004768  ...         0.000646   \n",
       "3  0.001144  0.007034  0.007126 -0.004768  ...         0.000329   \n",
       "4 -0.024238  0.001167  0.008247  0.013056  ...        -0.001521   \n",
       "\n",
       "   DNDGRG3M086SBEA  DSERRG3M086SBEA  CES0600000008  CES2000000008  \\\n",
       "0        -0.001124         0.000262      -0.000022      -0.008147   \n",
       "1         0.001349         0.001752      -0.000022       0.012203   \n",
       "2        -0.001687        -0.001937      -0.000021      -0.004090   \n",
       "3         0.003316         0.002093      -0.004619       0.003992   \n",
       "4        -0.001238        -0.000100       0.000000      -0.004040   \n",
       "\n",
       "   CES3000000008  DTCOLNVHFNM  DTCTHFNM    INVEST    VIXCLSx  \n",
       "0       0.004819     0.004929  0.004138 -0.014792  19.311543  \n",
       "1      -0.004890     0.012134  0.006734  0.024929  19.311543  \n",
       "2      -0.004819     0.002828  0.002020 -0.015342  19.311543  \n",
       "3       0.004796     0.009726  0.009007 -0.012252  19.311543  \n",
       "4      -0.004796    -0.004631 -0.001000  0.029341  19.311543  \n",
       "\n",
       "[5 rows x 124 columns]"
      ]
     },
     "execution_count": 2,
     "metadata": {},
     "output_type": "execute_result"
    }
   ],
   "source": [
    "dt = pd.read_csv(\"https://raw.githubusercontent.com/barcelonagse-datascience/academic_datasets/main/fredmd_transformed.csv\")\n",
    "\n",
    "dt.head()"
   ]
  },
  {
   "cell_type": "markdown",
   "metadata": {},
   "source": [
    "When working with time series, it is often useful to set the dates as the index of the dataframe. Use the method ``set_index()`` to set the index of our dataframe to the ``dates`` column. Then, inspect ``dt``.\n",
    "\n"
   ]
  },
  {
   "cell_type": "code",
   "execution_count": 5,
   "metadata": {},
   "outputs": [
    {
     "data": {
      "text/html": [
       "<div>\n",
       "<style scoped>\n",
       "    .dataframe tbody tr th:only-of-type {\n",
       "        vertical-align: middle;\n",
       "    }\n",
       "\n",
       "    .dataframe tbody tr th {\n",
       "        vertical-align: top;\n",
       "    }\n",
       "\n",
       "    .dataframe thead th {\n",
       "        text-align: right;\n",
       "    }\n",
       "</style>\n",
       "<table border=\"1\" class=\"dataframe\">\n",
       "  <thead>\n",
       "    <tr style=\"text-align: right;\">\n",
       "      <th></th>\n",
       "      <th>RPI</th>\n",
       "      <th>W875RX1</th>\n",
       "      <th>DPCERA3M086SBEA</th>\n",
       "      <th>CMRMTSPLx</th>\n",
       "      <th>RETAILx</th>\n",
       "      <th>INDPRO</th>\n",
       "      <th>IPFPNSS</th>\n",
       "      <th>IPFINAL</th>\n",
       "      <th>IPCONGD</th>\n",
       "      <th>IPDCONGD</th>\n",
       "      <th>...</th>\n",
       "      <th>DDURRG3M086SBEA</th>\n",
       "      <th>DNDGRG3M086SBEA</th>\n",
       "      <th>DSERRG3M086SBEA</th>\n",
       "      <th>CES0600000008</th>\n",
       "      <th>CES2000000008</th>\n",
       "      <th>CES3000000008</th>\n",
       "      <th>DTCOLNVHFNM</th>\n",
       "      <th>DTCTHFNM</th>\n",
       "      <th>INVEST</th>\n",
       "      <th>VIXCLSx</th>\n",
       "    </tr>\n",
       "    <tr>\n",
       "      <th>dates</th>\n",
       "      <th></th>\n",
       "      <th></th>\n",
       "      <th></th>\n",
       "      <th></th>\n",
       "      <th></th>\n",
       "      <th></th>\n",
       "      <th></th>\n",
       "      <th></th>\n",
       "      <th></th>\n",
       "      <th></th>\n",
       "      <th></th>\n",
       "      <th></th>\n",
       "      <th></th>\n",
       "      <th></th>\n",
       "      <th></th>\n",
       "      <th></th>\n",
       "      <th></th>\n",
       "      <th></th>\n",
       "      <th></th>\n",
       "      <th></th>\n",
       "      <th></th>\n",
       "    </tr>\n",
       "  </thead>\n",
       "  <tbody>\n",
       "    <tr>\n",
       "      <th>1959-03-01</th>\n",
       "      <td>0.006430</td>\n",
       "      <td>0.007359</td>\n",
       "      <td>0.009410</td>\n",
       "      <td>-0.003423</td>\n",
       "      <td>0.008321</td>\n",
       "      <td>0.014303</td>\n",
       "      <td>0.006036</td>\n",
       "      <td>0.004899</td>\n",
       "      <td>0.000000</td>\n",
       "      <td>0.019397</td>\n",
       "      <td>...</td>\n",
       "      <td>0.000666</td>\n",
       "      <td>-0.001124</td>\n",
       "      <td>0.000262</td>\n",
       "      <td>-0.000022</td>\n",
       "      <td>-0.008147</td>\n",
       "      <td>0.004819</td>\n",
       "      <td>0.004929</td>\n",
       "      <td>0.004138</td>\n",
       "      <td>-0.014792</td>\n",
       "      <td>19.311543</td>\n",
       "    </tr>\n",
       "    <tr>\n",
       "      <th>1959-04-01</th>\n",
       "      <td>0.006494</td>\n",
       "      <td>0.007049</td>\n",
       "      <td>-0.003639</td>\n",
       "      <td>0.019922</td>\n",
       "      <td>0.000616</td>\n",
       "      <td>0.021077</td>\n",
       "      <td>0.014338</td>\n",
       "      <td>0.014542</td>\n",
       "      <td>0.015653</td>\n",
       "      <td>0.006379</td>\n",
       "      <td>...</td>\n",
       "      <td>-0.000229</td>\n",
       "      <td>0.001349</td>\n",
       "      <td>0.001752</td>\n",
       "      <td>-0.000022</td>\n",
       "      <td>0.012203</td>\n",
       "      <td>-0.004890</td>\n",
       "      <td>0.012134</td>\n",
       "      <td>0.006734</td>\n",
       "      <td>0.024929</td>\n",
       "      <td>19.311543</td>\n",
       "    </tr>\n",
       "    <tr>\n",
       "      <th>1959-05-01</th>\n",
       "      <td>0.005763</td>\n",
       "      <td>0.006616</td>\n",
       "      <td>0.012005</td>\n",
       "      <td>0.006797</td>\n",
       "      <td>0.007803</td>\n",
       "      <td>0.014950</td>\n",
       "      <td>0.008269</td>\n",
       "      <td>0.009583</td>\n",
       "      <td>0.004768</td>\n",
       "      <td>0.020151</td>\n",
       "      <td>...</td>\n",
       "      <td>0.000646</td>\n",
       "      <td>-0.001687</td>\n",
       "      <td>-0.001937</td>\n",
       "      <td>-0.000021</td>\n",
       "      <td>-0.004090</td>\n",
       "      <td>-0.004819</td>\n",
       "      <td>0.002828</td>\n",
       "      <td>0.002020</td>\n",
       "      <td>-0.015342</td>\n",
       "      <td>19.311543</td>\n",
       "    </tr>\n",
       "    <tr>\n",
       "      <th>1959-06-01</th>\n",
       "      <td>0.003102</td>\n",
       "      <td>0.002974</td>\n",
       "      <td>0.003708</td>\n",
       "      <td>-0.000052</td>\n",
       "      <td>0.009064</td>\n",
       "      <td>0.001144</td>\n",
       "      <td>0.007034</td>\n",
       "      <td>0.007126</td>\n",
       "      <td>-0.004768</td>\n",
       "      <td>0.007452</td>\n",
       "      <td>...</td>\n",
       "      <td>0.000329</td>\n",
       "      <td>0.003316</td>\n",
       "      <td>0.002093</td>\n",
       "      <td>-0.004619</td>\n",
       "      <td>0.003992</td>\n",
       "      <td>0.004796</td>\n",
       "      <td>0.009726</td>\n",
       "      <td>0.009007</td>\n",
       "      <td>-0.012252</td>\n",
       "      <td>19.311543</td>\n",
       "    </tr>\n",
       "    <tr>\n",
       "      <th>1959-07-01</th>\n",
       "      <td>-0.000589</td>\n",
       "      <td>-0.000764</td>\n",
       "      <td>-0.003427</td>\n",
       "      <td>0.012110</td>\n",
       "      <td>-0.000330</td>\n",
       "      <td>-0.024238</td>\n",
       "      <td>0.001167</td>\n",
       "      <td>0.008247</td>\n",
       "      <td>0.013056</td>\n",
       "      <td>0.019613</td>\n",
       "      <td>...</td>\n",
       "      <td>-0.001521</td>\n",
       "      <td>-0.001238</td>\n",
       "      <td>-0.000100</td>\n",
       "      <td>0.000000</td>\n",
       "      <td>-0.004040</td>\n",
       "      <td>-0.004796</td>\n",
       "      <td>-0.004631</td>\n",
       "      <td>-0.001000</td>\n",
       "      <td>0.029341</td>\n",
       "      <td>19.311543</td>\n",
       "    </tr>\n",
       "  </tbody>\n",
       "</table>\n",
       "<p>5 rows × 123 columns</p>\n",
       "</div>"
      ],
      "text/plain": [
       "                 RPI   W875RX1  DPCERA3M086SBEA  CMRMTSPLx   RETAILx  \\\n",
       "dates                                                                  \n",
       "1959-03-01  0.006430  0.007359         0.009410  -0.003423  0.008321   \n",
       "1959-04-01  0.006494  0.007049        -0.003639   0.019922  0.000616   \n",
       "1959-05-01  0.005763  0.006616         0.012005   0.006797  0.007803   \n",
       "1959-06-01  0.003102  0.002974         0.003708  -0.000052  0.009064   \n",
       "1959-07-01 -0.000589 -0.000764        -0.003427   0.012110 -0.000330   \n",
       "\n",
       "              INDPRO   IPFPNSS   IPFINAL   IPCONGD  IPDCONGD  ...  \\\n",
       "dates                                                         ...   \n",
       "1959-03-01  0.014303  0.006036  0.004899  0.000000  0.019397  ...   \n",
       "1959-04-01  0.021077  0.014338  0.014542  0.015653  0.006379  ...   \n",
       "1959-05-01  0.014950  0.008269  0.009583  0.004768  0.020151  ...   \n",
       "1959-06-01  0.001144  0.007034  0.007126 -0.004768  0.007452  ...   \n",
       "1959-07-01 -0.024238  0.001167  0.008247  0.013056  0.019613  ...   \n",
       "\n",
       "            DDURRG3M086SBEA  DNDGRG3M086SBEA  DSERRG3M086SBEA  CES0600000008  \\\n",
       "dates                                                                          \n",
       "1959-03-01         0.000666        -0.001124         0.000262      -0.000022   \n",
       "1959-04-01        -0.000229         0.001349         0.001752      -0.000022   \n",
       "1959-05-01         0.000646        -0.001687        -0.001937      -0.000021   \n",
       "1959-06-01         0.000329         0.003316         0.002093      -0.004619   \n",
       "1959-07-01        -0.001521        -0.001238        -0.000100       0.000000   \n",
       "\n",
       "            CES2000000008  CES3000000008  DTCOLNVHFNM  DTCTHFNM    INVEST  \\\n",
       "dates                                                                       \n",
       "1959-03-01      -0.008147       0.004819     0.004929  0.004138 -0.014792   \n",
       "1959-04-01       0.012203      -0.004890     0.012134  0.006734  0.024929   \n",
       "1959-05-01      -0.004090      -0.004819     0.002828  0.002020 -0.015342   \n",
       "1959-06-01       0.003992       0.004796     0.009726  0.009007 -0.012252   \n",
       "1959-07-01      -0.004040      -0.004796    -0.004631 -0.001000  0.029341   \n",
       "\n",
       "              VIXCLSx  \n",
       "dates                  \n",
       "1959-03-01  19.311543  \n",
       "1959-04-01  19.311543  \n",
       "1959-05-01  19.311543  \n",
       "1959-06-01  19.311543  \n",
       "1959-07-01  19.311543  \n",
       "\n",
       "[5 rows x 123 columns]"
      ]
     },
     "execution_count": 5,
     "metadata": {},
     "output_type": "execute_result"
    }
   ],
   "source": [
    "dt.set_index('dates', inplace = True)\n",
    "dt.head()"
   ]
  },
  {
   "cell_type": "markdown",
   "metadata": {},
   "source": [
    "As we have seen in class, it is often useful to scale all columns of the dataset to have mean 0 and variance 1. Use `import sklearn.preprocessing.scale()` to scale the columns of ``dt``. There are many ways of doing this, this is merely a suggestion."
   ]
  },
  {
   "cell_type": "code",
   "execution_count": 7,
   "metadata": {},
   "outputs": [
    {
     "data": {
      "text/plain": [
       "(-2.819614030794048e-17, 1.0006620325121056)"
      ]
     },
     "execution_count": 7,
     "metadata": {},
     "output_type": "execute_result"
    }
   ],
   "source": [
    "import sklearn.preprocessing\n",
    "\n",
    "# set to False to perform inplace row normalization and avoid a copy\n",
    "sklearn.preprocessing.scale(dt, copy = False)\n"
   ]
  },
  {
   "cell_type": "code",
   "execution_count": null,
   "metadata": {},
   "outputs": [],
   "source": [
    "dt['INDPRO'].mean(), dt['INDPRO'].std()"
   ]
  },
  {
   "cell_type": "markdown",
   "metadata": {},
   "source": [
    "When forecasting, we typically split our data into training and testing. Create a variable called `IS` to hold a boolean \n",
    "array (a dummy variable, if you want) for the InSample data.   ``IS`` should be a vector with value True for all observations that have an index smaller than 1999-12-01, and False otherwise."
   ]
  },
  {
   "cell_type": "code",
   "execution_count": 10,
   "metadata": {},
   "outputs": [
    {
     "data": {
      "text/html": [
       "<div>\n",
       "<style scoped>\n",
       "    .dataframe tbody tr th:only-of-type {\n",
       "        vertical-align: middle;\n",
       "    }\n",
       "\n",
       "    .dataframe tbody tr th {\n",
       "        vertical-align: top;\n",
       "    }\n",
       "\n",
       "    .dataframe thead th {\n",
       "        text-align: right;\n",
       "    }\n",
       "</style>\n",
       "<table border=\"1\" class=\"dataframe\">\n",
       "  <thead>\n",
       "    <tr style=\"text-align: right;\">\n",
       "      <th></th>\n",
       "      <th>RPI</th>\n",
       "      <th>W875RX1</th>\n",
       "      <th>DPCERA3M086SBEA</th>\n",
       "      <th>CMRMTSPLx</th>\n",
       "      <th>RETAILx</th>\n",
       "      <th>INDPRO</th>\n",
       "      <th>IPFPNSS</th>\n",
       "      <th>IPFINAL</th>\n",
       "      <th>IPCONGD</th>\n",
       "      <th>IPDCONGD</th>\n",
       "      <th>...</th>\n",
       "      <th>DDURRG3M086SBEA</th>\n",
       "      <th>DNDGRG3M086SBEA</th>\n",
       "      <th>DSERRG3M086SBEA</th>\n",
       "      <th>CES0600000008</th>\n",
       "      <th>CES2000000008</th>\n",
       "      <th>CES3000000008</th>\n",
       "      <th>DTCOLNVHFNM</th>\n",
       "      <th>DTCTHFNM</th>\n",
       "      <th>INVEST</th>\n",
       "      <th>VIXCLSx</th>\n",
       "    </tr>\n",
       "    <tr>\n",
       "      <th>dates</th>\n",
       "      <th></th>\n",
       "      <th></th>\n",
       "      <th></th>\n",
       "      <th></th>\n",
       "      <th></th>\n",
       "      <th></th>\n",
       "      <th></th>\n",
       "      <th></th>\n",
       "      <th></th>\n",
       "      <th></th>\n",
       "      <th></th>\n",
       "      <th></th>\n",
       "      <th></th>\n",
       "      <th></th>\n",
       "      <th></th>\n",
       "      <th></th>\n",
       "      <th></th>\n",
       "      <th></th>\n",
       "      <th></th>\n",
       "      <th></th>\n",
       "      <th></th>\n",
       "    </tr>\n",
       "  </thead>\n",
       "  <tbody>\n",
       "    <tr>\n",
       "      <th>1999-07-01</th>\n",
       "      <td>0.001309</td>\n",
       "      <td>0.088724</td>\n",
       "      <td>-0.106757</td>\n",
       "      <td>-0.072299</td>\n",
       "      <td>0.194854</td>\n",
       "      <td>0.392177</td>\n",
       "      <td>-0.065838</td>\n",
       "      <td>-0.220264</td>\n",
       "      <td>-0.494621</td>\n",
       "      <td>0.039758</td>\n",
       "      <td>...</td>\n",
       "      <td>0.575725</td>\n",
       "      <td>0.781961</td>\n",
       "      <td>1.016208</td>\n",
       "      <td>-0.514068</td>\n",
       "      <td>-0.264617</td>\n",
       "      <td>-0.154549</td>\n",
       "      <td>-1.271805</td>\n",
       "      <td>-0.251092</td>\n",
       "      <td>-0.526421</td>\n",
       "      <td>0.313067</td>\n",
       "    </tr>\n",
       "    <tr>\n",
       "      <th>1999-08-01</th>\n",
       "      <td>0.173630</td>\n",
       "      <td>0.350246</td>\n",
       "      <td>0.303338</td>\n",
       "      <td>0.446260</td>\n",
       "      <td>0.377517</td>\n",
       "      <td>0.221689</td>\n",
       "      <td>0.553692</td>\n",
       "      <td>0.742457</td>\n",
       "      <td>1.049074</td>\n",
       "      <td>0.597781</td>\n",
       "      <td>...</td>\n",
       "      <td>-0.306471</td>\n",
       "      <td>-0.153195</td>\n",
       "      <td>-0.507431</td>\n",
       "      <td>-0.509901</td>\n",
       "      <td>-0.263205</td>\n",
       "      <td>-0.303958</td>\n",
       "      <td>1.463200</td>\n",
       "      <td>0.099927</td>\n",
       "      <td>0.151707</td>\n",
       "      <td>0.779575</td>\n",
       "    </tr>\n",
       "    <tr>\n",
       "      <th>1999-09-01</th>\n",
       "      <td>-0.247661</td>\n",
       "      <td>-0.455709</td>\n",
       "      <td>0.280034</td>\n",
       "      <td>-0.318288</td>\n",
       "      <td>-0.036253</td>\n",
       "      <td>-0.641266</td>\n",
       "      <td>-0.743355</td>\n",
       "      <td>-0.871773</td>\n",
       "      <td>-0.879087</td>\n",
       "      <td>-0.551318</td>\n",
       "      <td>...</td>\n",
       "      <td>0.064095</td>\n",
       "      <td>0.587731</td>\n",
       "      <td>0.922006</td>\n",
       "      <td>1.183701</td>\n",
       "      <td>0.590379</td>\n",
       "      <td>0.301202</td>\n",
       "      <td>-2.525567</td>\n",
       "      <td>-0.144083</td>\n",
       "      <td>-0.046818</td>\n",
       "      <td>0.969813</td>\n",
       "    </tr>\n",
       "    <tr>\n",
       "      <th>1999-10-01</th>\n",
       "      <td>0.280343</td>\n",
       "      <td>0.687956</td>\n",
       "      <td>-0.048777</td>\n",
       "      <td>0.516143</td>\n",
       "      <td>-0.178606</td>\n",
       "      <td>1.088318</td>\n",
       "      <td>1.170154</td>\n",
       "      <td>1.201696</td>\n",
       "      <td>1.659146</td>\n",
       "      <td>0.949661</td>\n",
       "      <td>...</td>\n",
       "      <td>-0.134876</td>\n",
       "      <td>-1.145285</td>\n",
       "      <td>-0.261282</td>\n",
       "      <td>-1.015771</td>\n",
       "      <td>-0.002624</td>\n",
       "      <td>-0.753473</td>\n",
       "      <td>1.346225</td>\n",
       "      <td>-0.239986</td>\n",
       "      <td>0.189323</td>\n",
       "      <td>0.872024</td>\n",
       "    </tr>\n",
       "    <tr>\n",
       "      <th>1999-11-01</th>\n",
       "      <td>0.352612</td>\n",
       "      <td>0.910220</td>\n",
       "      <td>0.268144</td>\n",
       "      <td>0.232347</td>\n",
       "      <td>0.455304</td>\n",
       "      <td>0.311983</td>\n",
       "      <td>-0.082881</td>\n",
       "      <td>-0.256028</td>\n",
       "      <td>-0.215355</td>\n",
       "      <td>-0.310423</td>\n",
       "      <td>...</td>\n",
       "      <td>-0.126115</td>\n",
       "      <td>-0.397858</td>\n",
       "      <td>-0.215423</td>\n",
       "      <td>-0.000233</td>\n",
       "      <td>-0.522461</td>\n",
       "      <td>0.301747</td>\n",
       "      <td>0.218093</td>\n",
       "      <td>0.102855</td>\n",
       "      <td>-1.092327</td>\n",
       "      <td>0.419996</td>\n",
       "    </tr>\n",
       "  </tbody>\n",
       "</table>\n",
       "<p>5 rows × 123 columns</p>\n",
       "</div>"
      ],
      "text/plain": [
       "                 RPI   W875RX1  DPCERA3M086SBEA  CMRMTSPLx   RETAILx  \\\n",
       "dates                                                                  \n",
       "1999-07-01  0.001309  0.088724        -0.106757  -0.072299  0.194854   \n",
       "1999-08-01  0.173630  0.350246         0.303338   0.446260  0.377517   \n",
       "1999-09-01 -0.247661 -0.455709         0.280034  -0.318288 -0.036253   \n",
       "1999-10-01  0.280343  0.687956        -0.048777   0.516143 -0.178606   \n",
       "1999-11-01  0.352612  0.910220         0.268144   0.232347  0.455304   \n",
       "\n",
       "              INDPRO   IPFPNSS   IPFINAL   IPCONGD  IPDCONGD  ...  \\\n",
       "dates                                                         ...   \n",
       "1999-07-01  0.392177 -0.065838 -0.220264 -0.494621  0.039758  ...   \n",
       "1999-08-01  0.221689  0.553692  0.742457  1.049074  0.597781  ...   \n",
       "1999-09-01 -0.641266 -0.743355 -0.871773 -0.879087 -0.551318  ...   \n",
       "1999-10-01  1.088318  1.170154  1.201696  1.659146  0.949661  ...   \n",
       "1999-11-01  0.311983 -0.082881 -0.256028 -0.215355 -0.310423  ...   \n",
       "\n",
       "            DDURRG3M086SBEA  DNDGRG3M086SBEA  DSERRG3M086SBEA  CES0600000008  \\\n",
       "dates                                                                          \n",
       "1999-07-01         0.575725         0.781961         1.016208      -0.514068   \n",
       "1999-08-01        -0.306471        -0.153195        -0.507431      -0.509901   \n",
       "1999-09-01         0.064095         0.587731         0.922006       1.183701   \n",
       "1999-10-01        -0.134876        -1.145285        -0.261282      -1.015771   \n",
       "1999-11-01        -0.126115        -0.397858        -0.215423      -0.000233   \n",
       "\n",
       "            CES2000000008  CES3000000008  DTCOLNVHFNM  DTCTHFNM    INVEST  \\\n",
       "dates                                                                       \n",
       "1999-07-01      -0.264617      -0.154549    -1.271805 -0.251092 -0.526421   \n",
       "1999-08-01      -0.263205      -0.303958     1.463200  0.099927  0.151707   \n",
       "1999-09-01       0.590379       0.301202    -2.525567 -0.144083 -0.046818   \n",
       "1999-10-01      -0.002624      -0.753473     1.346225 -0.239986  0.189323   \n",
       "1999-11-01      -0.522461       0.301747     0.218093  0.102855 -1.092327   \n",
       "\n",
       "             VIXCLSx  \n",
       "dates                 \n",
       "1999-07-01  0.313067  \n",
       "1999-08-01  0.779575  \n",
       "1999-09-01  0.969813  \n",
       "1999-10-01  0.872024  \n",
       "1999-11-01  0.419996  \n",
       "\n",
       "[5 rows x 123 columns]"
      ]
     },
     "execution_count": 10,
     "metadata": {},
     "output_type": "execute_result"
    }
   ],
   "source": [
    "IS = dt.index < '1999-12-01'\n"
   ]
  },
  {
   "cell_type": "markdown",
   "metadata": {},
   "source": [
    "Then, define `dt_train` as the insample (training). We define as insample everything up to and excluding 1999-12-01, so that our first forecast is for 2000-01-01. ``dt_train`` should contain all observations with index smaller than 1999-12-01.*Hint*:  The help for ``DataFrame.loc[]`` says: ``.loc[]`` is primarily label based, but may also be used with a boolean array."
   ]
  },
  {
   "cell_type": "code",
   "execution_count": null,
   "metadata": {},
   "outputs": [],
   "source": [
    "dt_train = dt.loc[IS, :]\n",
    "dt_train.tail()"
   ]
  },
  {
   "cell_type": "markdown",
   "metadata": {},
   "source": [
    "Proceed analogously for ``dt_test``. i.e. define `dt_test` as the out-of-sample (testing) version of our dataset.``dt_test`` should contain the observations that are not in ``dt_train``. *Hint*:  The help for ``DataFrame.loc[]`` says: ``.loc[]`` is primarily label based, but may also be used with a boolean array."
   ]
  },
  {
   "cell_type": "code",
   "execution_count": null,
   "metadata": {},
   "outputs": [],
   "source": [
    "dt_test = dt.loc[~IS, :]"
   ]
  },
  {
   "cell_type": "markdown",
   "metadata": {},
   "source": [
    "Now, our goal is to forecast `INDPRO`, so our $y$ variable is Industrial Production and $\\bf x $ the remaining variables in our dataset."
   ]
  },
  {
   "cell_type": "markdown",
   "metadata": {},
   "source": [
    "\n",
    "**NOTE**: if our forecasts are supposed to be helpful, they have to be made at time $t$ for $t+1$, meaning that we have to use a model similar to:\n",
    "\n",
    "$$ \\hat{y}_{t+1} = \\bf{x}_t'\\hat\\beta, $$\n",
    "\n",
    "**as opposed to**\n",
    "$$ \\hat{y}_{t+1} = \\bf{x}_{t+1}'\\hat\\beta,$$\n",
    "\n",
    "which relies on the (unknown at time $t$) vector $\\bf{x}_{t+1}$, so now we need to adjust for this in both our test and training datasets. In particular, we have to drop the first observation of $y$ and the last observation of $\\bf{x}$. \n",
    "Our dataset will then contain the pairs $(y_1,x_0),\\dots,(y_t,x_{t-1})$. \n",
    "\n",
    "Note also that $y_0$ may be included in $x_0$, meaning it is valid to forecast $y_t$ using $y_{t-1}$."
   ]
  },
  {
   "cell_type": "markdown",
   "metadata": {},
   "source": [
    "Start by defining the variable ``y_train`` as *leading* ``INDPRO``. In other words, the variable ``y_train`` should hold INDPRO from periods 1 to T (as opposed to 0 to T)"
   ]
  },
  {
   "cell_type": "code",
   "execution_count": 17,
   "metadata": {},
   "outputs": [],
   "source": [
    "y_train = dt_train['INDPRO'][1:]"
   ]
  },
  {
   "cell_type": "markdown",
   "metadata": {},
   "source": [
    "Then, define ``X_train`` to be all variables in ``dt_train`` (including INDPRO), from period 0 to period (T-1)."
   ]
  },
  {
   "cell_type": "code",
   "execution_count": 13,
   "metadata": {},
   "outputs": [],
   "source": [
    "X_train = dt_train.iloc[:-1, :]"
   ]
  },
  {
   "cell_type": "markdown",
   "metadata": {},
   "source": [
    "Now repeat the process, but for ``y_test`` and ``X_test``."
   ]
  },
  {
   "cell_type": "code",
   "execution_count": 18,
   "metadata": {},
   "outputs": [],
   "source": [
    "y_test = dt_test['INDPRO'][1:]\n",
    "X_test = dt_test.iloc[:-1, :]"
   ]
  },
  {
   "cell_type": "markdown",
   "metadata": {},
   "source": [
    "Lets create a pandas DataFrame to hold our forecasts and another for the forecast errors. Lets use as indexes of these dataframes the index of ``y_test``."
   ]
  },
  {
   "cell_type": "code",
   "execution_count": 31,
   "metadata": {},
   "outputs": [
    {
     "data": {
      "text/plain": [
       "'2000-01-01'"
      ]
     },
     "execution_count": 31,
     "metadata": {},
     "output_type": "execute_result"
    }
   ],
   "source": [
    "forecasts = pd.DataFrame(index = y_test.index)\n",
    "forecast_err = pd.DataFrame(index = y_test.index)\n",
    "forecasts.index[0]"
   ]
  },
  {
   "cell_type": "markdown",
   "metadata": {},
   "source": [
    "### Forecasting models\n",
    "\n",
    "Now we will define our forscasting models\n",
    "\n",
    "### Recall: Functions in python\n",
    "\n",
    "Below is an example of a function in python"
   ]
  },
  {
   "cell_type": "code",
   "execution_count": 20,
   "metadata": {},
   "outputs": [],
   "source": [
    "def myfun(arg):\n",
    "  out = arg + 4\n",
    "  return out"
   ]
  },
  {
   "cell_type": "code",
   "execution_count": 21,
   "metadata": {},
   "outputs": [
    {
     "data": {
      "text/plain": [
       "7"
      ]
     },
     "execution_count": 21,
     "metadata": {},
     "output_type": "execute_result"
    }
   ],
   "source": [
    "myfun(3)"
   ]
  },
  {
   "cell_type": "markdown",
   "metadata": {},
   "source": [
    "### Unconditional mean\n",
    "\n",
    "First, define a fucntion called `naive_forecaster`, this function takes as argument `y_train` and return the mean of `y_train`"
   ]
  },
  {
   "cell_type": "code",
   "execution_count": 22,
   "metadata": {},
   "outputs": [],
   "source": [
    "def naive_forecaster(y_train):\n",
    "  y_train_mean = np.mean(y_train)\n",
    "  return y_train_mean"
   ]
  },
  {
   "cell_type": "code",
   "execution_count": 23,
   "metadata": {},
   "outputs": [
    {
     "data": {
      "text/plain": [
       "0.08058108806413856"
      ]
     },
     "execution_count": 23,
     "metadata": {},
     "output_type": "execute_result"
    }
   ],
   "source": [
    "naive_forecaster(y_train)"
   ]
  },
  {
   "cell_type": "markdown",
   "metadata": {},
   "source": [
    "### Full Model\n",
    "Next, we consider a forecaster that forecasts using a linear regression of $y_t$ on $\\bf{x}_{t-1}$ without any regularization. Note that $\\bf{x}_{t-1}$ includes $y_{t-1}$.\n",
    "\n",
    "We will call this forecaster ``full_model``. This function should take as inputs `y_train`, `x_train` and `x_test`, and it should output a vector of predictions based on `x_test`. *Hint*: you may use ``from sklearn.linear_model import LinearRegression`` and follow what we did in the Linear Regression class.\n"
   ]
  },
  {
   "cell_type": "code",
   "execution_count": 33,
   "metadata": {},
   "outputs": [],
   "source": [
    "from sklearn.linear_model import LinearRegression\n",
    "\n",
    "def full_model(y_train, x_train, x_test):\n",
    "  reg = LinearRegression(fit_intercept = True)\n",
    "  reg.fit(X = x_train, y = y_train)\n",
    "  return   reg.predict(x_test)\n",
    "\n",
    "  "
   ]
  },
  {
   "cell_type": "markdown",
   "metadata": {},
   "source": [
    "### Selected Model\n",
    "As an economist, you decided to consider a forecasting model that includes only a few selected variables. In particular, you decided to include the following variables in your predictive regression `UNRATE`, `TB3SMFFM`, `CPIAUCSL`, `S&P 500` and lagged `INDPRO` itself. Create a function called ``sel_model`` that takes as inputs `y_train`, `x_train`, `x_test` and `sel_vars`, and outputs a vector of predictions based on (a subset of) `x_test`. \n",
    "_Hint_: we can use the ``full_model`` function on the subset of selected variables, for instance by creating a new dataframe to hold only the selected subset, or by indexing the original dataframe."
   ]
  },
  {
   "cell_type": "code",
   "execution_count": 25,
   "metadata": {},
   "outputs": [],
   "source": [
    "sel_vars = ['UNRATE', 'TB3SMFFM', 'CPIAUCSL', 'S&P 500', 'INDPRO']\n",
    "\n",
    "def sel_model(y_train, x_train, x_test, sel_var):\n",
    "  x_train_temp = x_train[sel_vars]\n",
    "  x_test_temp = x_test[sel_vars]\n",
    "  return full_model(y_train, x_train_temp, x_test_temp)"
   ]
  },
  {
   "cell_type": "markdown",
   "metadata": {},
   "source": [
    "### Polynomials of Selection Variables\n",
    "\n",
    "Trusting our intuition about the variables, lets also include polynomials of each variable. Create a function that takes as inputs  `y_train`, `x_train`, `x_test`, `sel_vars` and `order`, and outputs a vector of predictions based on polynomials of (a subset of) `x_test`. *Hint*: you may use\n",
    "``from sklearn.preprocessing import PolynomialFeatures as plf``"
   ]
  },
  {
   "cell_type": "code",
   "execution_count": 37,
   "metadata": {},
   "outputs": [],
   "source": [
    "from sklearn.preprocessing import PolynomialFeatures as plf\n",
    "\n",
    "def poly_reg(y_train, x_train, x_test, sel_vars, order):\n",
    "  regplf = LinearRegression(fit_intercept = False)\n",
    "  x_train_poly = plf(order).fit_transform(x_train[sel_vars])\n",
    "  x_test_poly = plf(order).fit_transform(x_test[sel_vars])\n",
    "  regplf.fit(y = y_train, X = x_train_poly)\n",
    "  return regplf.predict(x_test_poly)\n"
   ]
  },
  {
   "cell_type": "markdown",
   "metadata": {},
   "source": [
    "### LASSO\n",
    "\n",
    "Good coding practice would be to define functions to forecast, as we have been doing. But since our objective is to understand the procedures, lets leave that aside for the moment. Instead, lets create a `LassoCV` instance, and fit the instance to our data by calling the method `.fit()`. \n",
    "\n",
    "_Hint_: to avoid warnings, you may want to set the `max_iter` parameter to a large enough number."
   ]
  },
  {
   "cell_type": "code",
   "execution_count": 70,
   "metadata": {},
   "outputs": [
    {
     "data": {
      "text/html": [
       "<style>#sk-container-id-6 {color: black;background-color: white;}#sk-container-id-6 pre{padding: 0;}#sk-container-id-6 div.sk-toggleable {background-color: white;}#sk-container-id-6 label.sk-toggleable__label {cursor: pointer;display: block;width: 100%;margin-bottom: 0;padding: 0.3em;box-sizing: border-box;text-align: center;}#sk-container-id-6 label.sk-toggleable__label-arrow:before {content: \"▸\";float: left;margin-right: 0.25em;color: #696969;}#sk-container-id-6 label.sk-toggleable__label-arrow:hover:before {color: black;}#sk-container-id-6 div.sk-estimator:hover label.sk-toggleable__label-arrow:before {color: black;}#sk-container-id-6 div.sk-toggleable__content {max-height: 0;max-width: 0;overflow: hidden;text-align: left;background-color: #f0f8ff;}#sk-container-id-6 div.sk-toggleable__content pre {margin: 0.2em;color: black;border-radius: 0.25em;background-color: #f0f8ff;}#sk-container-id-6 input.sk-toggleable__control:checked~div.sk-toggleable__content {max-height: 200px;max-width: 100%;overflow: auto;}#sk-container-id-6 input.sk-toggleable__control:checked~label.sk-toggleable__label-arrow:before {content: \"▾\";}#sk-container-id-6 div.sk-estimator input.sk-toggleable__control:checked~label.sk-toggleable__label {background-color: #d4ebff;}#sk-container-id-6 div.sk-label input.sk-toggleable__control:checked~label.sk-toggleable__label {background-color: #d4ebff;}#sk-container-id-6 input.sk-hidden--visually {border: 0;clip: rect(1px 1px 1px 1px);clip: rect(1px, 1px, 1px, 1px);height: 1px;margin: -1px;overflow: hidden;padding: 0;position: absolute;width: 1px;}#sk-container-id-6 div.sk-estimator {font-family: monospace;background-color: #f0f8ff;border: 1px dotted black;border-radius: 0.25em;box-sizing: border-box;margin-bottom: 0.5em;}#sk-container-id-6 div.sk-estimator:hover {background-color: #d4ebff;}#sk-container-id-6 div.sk-parallel-item::after {content: \"\";width: 100%;border-bottom: 1px solid gray;flex-grow: 1;}#sk-container-id-6 div.sk-label:hover label.sk-toggleable__label {background-color: #d4ebff;}#sk-container-id-6 div.sk-serial::before {content: \"\";position: absolute;border-left: 1px solid gray;box-sizing: border-box;top: 0;bottom: 0;left: 50%;z-index: 0;}#sk-container-id-6 div.sk-serial {display: flex;flex-direction: column;align-items: center;background-color: white;padding-right: 0.2em;padding-left: 0.2em;position: relative;}#sk-container-id-6 div.sk-item {position: relative;z-index: 1;}#sk-container-id-6 div.sk-parallel {display: flex;align-items: stretch;justify-content: center;background-color: white;position: relative;}#sk-container-id-6 div.sk-item::before, #sk-container-id-6 div.sk-parallel-item::before {content: \"\";position: absolute;border-left: 1px solid gray;box-sizing: border-box;top: 0;bottom: 0;left: 50%;z-index: -1;}#sk-container-id-6 div.sk-parallel-item {display: flex;flex-direction: column;z-index: 1;position: relative;background-color: white;}#sk-container-id-6 div.sk-parallel-item:first-child::after {align-self: flex-end;width: 50%;}#sk-container-id-6 div.sk-parallel-item:last-child::after {align-self: flex-start;width: 50%;}#sk-container-id-6 div.sk-parallel-item:only-child::after {width: 0;}#sk-container-id-6 div.sk-dashed-wrapped {border: 1px dashed gray;margin: 0 0.4em 0.5em 0.4em;box-sizing: border-box;padding-bottom: 0.4em;background-color: white;}#sk-container-id-6 div.sk-label label {font-family: monospace;font-weight: bold;display: inline-block;line-height: 1.2em;}#sk-container-id-6 div.sk-label-container {text-align: center;}#sk-container-id-6 div.sk-container {/* jupyter's `normalize.less` sets `[hidden] { display: none; }` but bootstrap.min.css set `[hidden] { display: none !important; }` so we also need the `!important` here to be able to override the default hidden behavior on the sphinx rendered scikit-learn.org. See: https://github.com/scikit-learn/scikit-learn/issues/21755 */display: inline-block !important;position: relative;}#sk-container-id-6 div.sk-text-repr-fallback {display: none;}</style><div id=\"sk-container-id-6\" class=\"sk-top-container\"><div class=\"sk-text-repr-fallback\"><pre>LassoCV(cv=5, max_iter=1000000)</pre><b>In a Jupyter environment, please rerun this cell to show the HTML representation or trust the notebook. <br />On GitHub, the HTML representation is unable to render, please try loading this page with nbviewer.org.</b></div><div class=\"sk-container\" hidden><div class=\"sk-item\"><div class=\"sk-estimator sk-toggleable\"><input class=\"sk-toggleable__control sk-hidden--visually\" id=\"sk-estimator-id-6\" type=\"checkbox\" checked><label for=\"sk-estimator-id-6\" class=\"sk-toggleable__label sk-toggleable__label-arrow\">LassoCV</label><div class=\"sk-toggleable__content\"><pre>LassoCV(cv=5, max_iter=1000000)</pre></div></div></div></div></div>"
      ],
      "text/plain": [
       "LassoCV(cv=5, max_iter=1000000)"
      ]
     },
     "execution_count": 70,
     "metadata": {},
     "output_type": "execute_result"
    }
   ],
   "source": [
    "from sklearn.linear_model import LassoCV\n",
    "lasso = LassoCV(fit_intercept = True,\n",
    "                max_iter = 1000000,\n",
    "                cv = 5)\n",
    "lasso.fit(X = X_train, y = y_train)"
   ]
  },
  {
   "cell_type": "code",
   "execution_count": 78,
   "metadata": {},
   "outputs": [
    {
     "name": "stdout",
     "output_type": "stream",
     "text": [
      "(488, 123)\n",
      "(100, 5)\n",
      "(100,)\n"
     ]
    },
    {
     "data": {
      "text/html": [
       "<div>\n",
       "<style scoped>\n",
       "    .dataframe tbody tr th:only-of-type {\n",
       "        vertical-align: middle;\n",
       "    }\n",
       "\n",
       "    .dataframe tbody tr th {\n",
       "        vertical-align: top;\n",
       "    }\n",
       "\n",
       "    .dataframe thead th {\n",
       "        text-align: right;\n",
       "    }\n",
       "</style>\n",
       "<table border=\"1\" class=\"dataframe\">\n",
       "  <thead>\n",
       "    <tr style=\"text-align: right;\">\n",
       "      <th></th>\n",
       "      <th>0</th>\n",
       "      <th>1</th>\n",
       "      <th>2</th>\n",
       "      <th>3</th>\n",
       "      <th>4</th>\n",
       "    </tr>\n",
       "  </thead>\n",
       "  <tbody>\n",
       "    <tr>\n",
       "      <th>0</th>\n",
       "      <td>1.288055</td>\n",
       "      <td>0.907031</td>\n",
       "      <td>0.802437</td>\n",
       "      <td>0.265064</td>\n",
       "      <td>0.230522</td>\n",
       "    </tr>\n",
       "    <tr>\n",
       "      <th>1</th>\n",
       "      <td>1.284158</td>\n",
       "      <td>0.901571</td>\n",
       "      <td>0.788305</td>\n",
       "      <td>0.261769</td>\n",
       "      <td>0.229087</td>\n",
       "    </tr>\n",
       "    <tr>\n",
       "      <th>2</th>\n",
       "      <td>1.273850</td>\n",
       "      <td>0.884557</td>\n",
       "      <td>0.775746</td>\n",
       "      <td>0.258472</td>\n",
       "      <td>0.228064</td>\n",
       "    </tr>\n",
       "    <tr>\n",
       "      <th>3</th>\n",
       "      <td>1.264783</td>\n",
       "      <td>0.869579</td>\n",
       "      <td>0.763448</td>\n",
       "      <td>0.255579</td>\n",
       "      <td>0.227385</td>\n",
       "    </tr>\n",
       "    <tr>\n",
       "      <th>4</th>\n",
       "      <td>1.256804</td>\n",
       "      <td>0.856385</td>\n",
       "      <td>0.752207</td>\n",
       "      <td>0.253042</td>\n",
       "      <td>0.226990</td>\n",
       "    </tr>\n",
       "  </tbody>\n",
       "</table>\n",
       "</div>"
      ],
      "text/plain": [
       "          0         1         2         3         4\n",
       "0  1.288055  0.907031  0.802437  0.265064  0.230522\n",
       "1  1.284158  0.901571  0.788305  0.261769  0.229087\n",
       "2  1.273850  0.884557  0.775746  0.258472  0.228064\n",
       "3  1.264783  0.869579  0.763448  0.255579  0.227385\n",
       "4  1.256804  0.856385  0.752207  0.253042  0.226990"
      ]
     },
     "execution_count": 78,
     "metadata": {},
     "output_type": "execute_result"
    }
   ],
   "source": [
    "print(X_train.shape)\n",
    "print(lasso.mse_path_.shape)\n",
    "print(lasso.alphas_.shape)\n",
    "pd.DataFrame(lasso.mse_path_).head()"
   ]
  },
  {
   "cell_type": "markdown",
   "metadata": {},
   "source": [
    "### LASSO Advanced\n",
    "Lets visualize the regularization parameters. Create a plot  with `log(alphas)` on the x-axis, and the average (over folds) of the `mse_path` on the `y_axis`.\n",
    "_Hint_: inspect the attribute `.mse_path_` of our fitted `LassoCV` instance."
   ]
  },
  {
   "cell_type": "code",
   "execution_count": 76,
   "metadata": {},
   "outputs": [
    {
     "data": {
      "image/png": "[encoded data removed]",
      "text/plain": [
       "<Figure size 640x480 with 1 Axes>"
      ]
     },
     "metadata": {},
     "output_type": "display_data"
    }
   ],
   "source": [
    "plt.plot(np.log(lasso.alphas_), lasso.mse_path_.mean(axis = 1))\n",
    "plt.show()"
   ]
  },
  {
   "cell_type": "code",
   "execution_count": 81,
   "metadata": {},
   "outputs": [
    {
     "name": "stdout",
     "output_type": "stream",
     "text": [
      "112 1 12\n"
     ]
    },
    {
     "data": {
      "text/plain": [
       "Index(['IPMAT', 'IPDMAT', 'UEMP5TO14', 'NDMANEMP', 'PERMIT', 'PERMITS',\n",
       "       'AMDMUOx', 'GS1', 'AAA', 'TB3SMFFM', 'CES0600000008', 'CES2000000008'],\n",
       "      dtype='object')"
      ]
     },
     "execution_count": 81,
     "metadata": {},
     "output_type": "execute_result"
    }
   ],
   "source": [
    "from sklearn.linear_model import Lasso\n",
    "\n",
    "lasso_min = Lasso(alpha = lasso.alphas_.min(),\n",
    "                  max_iter = 1000000)\n",
    "lasso_max = Lasso(alpha = lasso.alphas_.max())\n",
    "\n",
    "lasso_min.fit(X = X_train, y = y_train)\n",
    "lasso_max.fit(X = X_train, y = y_train)\n",
    "\n",
    "print((np.abs(lasso_min.coef_) > 0).sum(),\n",
    "      (np.abs(lasso_max.coef_) > 0).sum(),\n",
    "      (np.abs(lasso.coef_) > 0).sum())\n",
    "\n",
    "X_train.columns[np.abs(lasso.coef_) > 0]"
   ]
  },
  {
   "cell_type": "markdown",
   "metadata": {},
   "source": [
    "### Ridge\n",
    "\n",
    "Lets try forecasting with Ridge now. We will proceed similarly to LASSO.\n",
    "Note that RidgeCV instances take an input `store_cv_values`. We want this to be set to True. Also note: Ridge does leave one out CV as opposed to 5-fold CV.\n",
    "Call your ``RidgeCV`` instance `ridge`."
   ]
  },
  {
   "cell_type": "code",
   "execution_count": 101,
   "metadata": {},
   "outputs": [
    {
     "data": {
      "text/html": [
       "<style>#sk-container-id-8 {color: black;background-color: white;}#sk-container-id-8 pre{padding: 0;}#sk-container-id-8 div.sk-toggleable {background-color: white;}#sk-container-id-8 label.sk-toggleable__label {cursor: pointer;display: block;width: 100%;margin-bottom: 0;padding: 0.3em;box-sizing: border-box;text-align: center;}#sk-container-id-8 label.sk-toggleable__label-arrow:before {content: \"▸\";float: left;margin-right: 0.25em;color: #696969;}#sk-container-id-8 label.sk-toggleable__label-arrow:hover:before {color: black;}#sk-container-id-8 div.sk-estimator:hover label.sk-toggleable__label-arrow:before {color: black;}#sk-container-id-8 div.sk-toggleable__content {max-height: 0;max-width: 0;overflow: hidden;text-align: left;background-color: #f0f8ff;}#sk-container-id-8 div.sk-toggleable__content pre {margin: 0.2em;color: black;border-radius: 0.25em;background-color: #f0f8ff;}#sk-container-id-8 input.sk-toggleable__control:checked~div.sk-toggleable__content {max-height: 200px;max-width: 100%;overflow: auto;}#sk-container-id-8 input.sk-toggleable__control:checked~label.sk-toggleable__label-arrow:before {content: \"▾\";}#sk-container-id-8 div.sk-estimator input.sk-toggleable__control:checked~label.sk-toggleable__label {background-color: #d4ebff;}#sk-container-id-8 div.sk-label input.sk-toggleable__control:checked~label.sk-toggleable__label {background-color: #d4ebff;}#sk-container-id-8 input.sk-hidden--visually {border: 0;clip: rect(1px 1px 1px 1px);clip: rect(1px, 1px, 1px, 1px);height: 1px;margin: -1px;overflow: hidden;padding: 0;position: absolute;width: 1px;}#sk-container-id-8 div.sk-estimator {font-family: monospace;background-color: #f0f8ff;border: 1px dotted black;border-radius: 0.25em;box-sizing: border-box;margin-bottom: 0.5em;}#sk-container-id-8 div.sk-estimator:hover {background-color: #d4ebff;}#sk-container-id-8 div.sk-parallel-item::after {content: \"\";width: 100%;border-bottom: 1px solid gray;flex-grow: 1;}#sk-container-id-8 div.sk-label:hover label.sk-toggleable__label {background-color: #d4ebff;}#sk-container-id-8 div.sk-serial::before {content: \"\";position: absolute;border-left: 1px solid gray;box-sizing: border-box;top: 0;bottom: 0;left: 50%;z-index: 0;}#sk-container-id-8 div.sk-serial {display: flex;flex-direction: column;align-items: center;background-color: white;padding-right: 0.2em;padding-left: 0.2em;position: relative;}#sk-container-id-8 div.sk-item {position: relative;z-index: 1;}#sk-container-id-8 div.sk-parallel {display: flex;align-items: stretch;justify-content: center;background-color: white;position: relative;}#sk-container-id-8 div.sk-item::before, #sk-container-id-8 div.sk-parallel-item::before {content: \"\";position: absolute;border-left: 1px solid gray;box-sizing: border-box;top: 0;bottom: 0;left: 50%;z-index: -1;}#sk-container-id-8 div.sk-parallel-item {display: flex;flex-direction: column;z-index: 1;position: relative;background-color: white;}#sk-container-id-8 div.sk-parallel-item:first-child::after {align-self: flex-end;width: 50%;}#sk-container-id-8 div.sk-parallel-item:last-child::after {align-self: flex-start;width: 50%;}#sk-container-id-8 div.sk-parallel-item:only-child::after {width: 0;}#sk-container-id-8 div.sk-dashed-wrapped {border: 1px dashed gray;margin: 0 0.4em 0.5em 0.4em;box-sizing: border-box;padding-bottom: 0.4em;background-color: white;}#sk-container-id-8 div.sk-label label {font-family: monospace;font-weight: bold;display: inline-block;line-height: 1.2em;}#sk-container-id-8 div.sk-label-container {text-align: center;}#sk-container-id-8 div.sk-container {/* jupyter's `normalize.less` sets `[hidden] { display: none; }` but bootstrap.min.css set `[hidden] { display: none !important; }` so we also need the `!important` here to be able to override the default hidden behavior on the sphinx rendered scikit-learn.org. See: https://github.com/scikit-learn/scikit-learn/issues/21755 */display: inline-block !important;position: relative;}#sk-container-id-8 div.sk-text-repr-fallback {display: none;}</style><div id=\"sk-container-id-8\" class=\"sk-top-container\"><div class=\"sk-text-repr-fallback\"><pre>RidgeCV(store_cv_values=True)</pre><b>In a Jupyter environment, please rerun this cell to show the HTML representation or trust the notebook. <br />On GitHub, the HTML representation is unable to render, please try loading this page with nbviewer.org.</b></div><div class=\"sk-container\" hidden><div class=\"sk-item\"><div class=\"sk-estimator sk-toggleable\"><input class=\"sk-toggleable__control sk-hidden--visually\" id=\"sk-estimator-id-8\" type=\"checkbox\" checked><label for=\"sk-estimator-id-8\" class=\"sk-toggleable__label sk-toggleable__label-arrow\">RidgeCV</label><div class=\"sk-toggleable__content\"><pre>RidgeCV(store_cv_values=True)</pre></div></div></div></div></div>"
      ],
      "text/plain": [
       "RidgeCV(store_cv_values=True)"
      ]
     },
     "execution_count": 101,
     "metadata": {},
     "output_type": "execute_result"
    }
   ],
   "source": [
    "from sklearn.linear_model import RidgeCV\n",
    "ridge = RidgeCV(fit_intercept = True,\n",
    "                store_cv_values = True)\n",
    "ridge.fit(X = X_train, y = y_train)"
   ]
  },
  {
   "cell_type": "code",
   "execution_count": 98,
   "metadata": {},
   "outputs": [
    {
     "name": "stdout",
     "output_type": "stream",
     "text": [
      "(488, 123)\n",
      "(488, 3)\n",
      "(0.1, 1.0, 10.0)\n"
     ]
    },
    {
     "data": {
      "text/html": [
       "<div>\n",
       "<style scoped>\n",
       "    .dataframe tbody tr th:only-of-type {\n",
       "        vertical-align: middle;\n",
       "    }\n",
       "\n",
       "    .dataframe tbody tr th {\n",
       "        vertical-align: top;\n",
       "    }\n",
       "\n",
       "    .dataframe thead th {\n",
       "        text-align: right;\n",
       "    }\n",
       "</style>\n",
       "<table border=\"1\" class=\"dataframe\">\n",
       "  <thead>\n",
       "    <tr style=\"text-align: right;\">\n",
       "      <th></th>\n",
       "      <th>0</th>\n",
       "      <th>1</th>\n",
       "      <th>2</th>\n",
       "    </tr>\n",
       "  </thead>\n",
       "  <tbody>\n",
       "    <tr>\n",
       "      <th>0</th>\n",
       "      <td>0.828575</td>\n",
       "      <td>0.730740</td>\n",
       "      <td>0.592882</td>\n",
       "    </tr>\n",
       "    <tr>\n",
       "      <th>1</th>\n",
       "      <td>0.000253</td>\n",
       "      <td>0.053041</td>\n",
       "      <td>0.133812</td>\n",
       "    </tr>\n",
       "    <tr>\n",
       "      <th>2</th>\n",
       "      <td>0.740626</td>\n",
       "      <td>0.895828</td>\n",
       "      <td>0.946971</td>\n",
       "    </tr>\n",
       "    <tr>\n",
       "      <th>3</th>\n",
       "      <td>9.296467</td>\n",
       "      <td>9.771165</td>\n",
       "      <td>9.516622</td>\n",
       "    </tr>\n",
       "    <tr>\n",
       "      <th>4</th>\n",
       "      <td>9.091973</td>\n",
       "      <td>7.401816</td>\n",
       "      <td>6.264536</td>\n",
       "    </tr>\n",
       "  </tbody>\n",
       "</table>\n",
       "</div>"
      ],
      "text/plain": [
       "          0         1         2\n",
       "0  0.828575  0.730740  0.592882\n",
       "1  0.000253  0.053041  0.133812\n",
       "2  0.740626  0.895828  0.946971\n",
       "3  9.296467  9.771165  9.516622\n",
       "4  9.091973  7.401816  6.264536"
      ]
     },
     "execution_count": 98,
     "metadata": {},
     "output_type": "execute_result"
    }
   ],
   "source": [
    "print(X_train.shape)\n",
    "print(ridge.cv_values_.shape)\n",
    "print(ridge.alphas)\n",
    "pd.DataFrame(ridge.cv_values_).head()\n"
   ]
  },
  {
   "cell_type": "code",
   "execution_count": 84,
   "metadata": {},
   "outputs": [
    {
     "data": {
      "image/png": "[encoded data removed]",
      "text/plain": [
       "<Figure size 640x480 with 1 Axes>"
      ]
     },
     "metadata": {},
     "output_type": "display_data"
    }
   ],
   "source": [
    "plt.plot(np.log(ridge.alphas), ridge.cv_values_.mean(axis = 0))\n",
    "plt.show()"
   ]
  },
  {
   "cell_type": "markdown",
   "metadata": {},
   "source": [
    "This is the importance of reading the documentation, visualizing and understanding what the code is doing! Ridge is only considering 3 values for alpha, and this is clearly suboptimal. Lets construct a better grid.\n",
    "\n",
    "First, lets start with a guess for a small enough alpha. Say `alpha_min_ridge=0.01`. Construct a Ridge instance with this alpha."
   ]
  },
  {
   "cell_type": "code",
   "execution_count": 106,
   "metadata": {},
   "outputs": [
    {
     "data": {
      "text/html": [
       "<style>#sk-container-id-11 {color: black;background-color: white;}#sk-container-id-11 pre{padding: 0;}#sk-container-id-11 div.sk-toggleable {background-color: white;}#sk-container-id-11 label.sk-toggleable__label {cursor: pointer;display: block;width: 100%;margin-bottom: 0;padding: 0.3em;box-sizing: border-box;text-align: center;}#sk-container-id-11 label.sk-toggleable__label-arrow:before {content: \"▸\";float: left;margin-right: 0.25em;color: #696969;}#sk-container-id-11 label.sk-toggleable__label-arrow:hover:before {color: black;}#sk-container-id-11 div.sk-estimator:hover label.sk-toggleable__label-arrow:before {color: black;}#sk-container-id-11 div.sk-toggleable__content {max-height: 0;max-width: 0;overflow: hidden;text-align: left;background-color: #f0f8ff;}#sk-container-id-11 div.sk-toggleable__content pre {margin: 0.2em;color: black;border-radius: 0.25em;background-color: #f0f8ff;}#sk-container-id-11 input.sk-toggleable__control:checked~div.sk-toggleable__content {max-height: 200px;max-width: 100%;overflow: auto;}#sk-container-id-11 input.sk-toggleable__control:checked~label.sk-toggleable__label-arrow:before {content: \"▾\";}#sk-container-id-11 div.sk-estimator input.sk-toggleable__control:checked~label.sk-toggleable__label {background-color: #d4ebff;}#sk-container-id-11 div.sk-label input.sk-toggleable__control:checked~label.sk-toggleable__label {background-color: #d4ebff;}#sk-container-id-11 input.sk-hidden--visually {border: 0;clip: rect(1px 1px 1px 1px);clip: rect(1px, 1px, 1px, 1px);height: 1px;margin: -1px;overflow: hidden;padding: 0;position: absolute;width: 1px;}#sk-container-id-11 div.sk-estimator {font-family: monospace;background-color: #f0f8ff;border: 1px dotted black;border-radius: 0.25em;box-sizing: border-box;margin-bottom: 0.5em;}#sk-container-id-11 div.sk-estimator:hover {background-color: #d4ebff;}#sk-container-id-11 div.sk-parallel-item::after {content: \"\";width: 100%;border-bottom: 1px solid gray;flex-grow: 1;}#sk-container-id-11 div.sk-label:hover label.sk-toggleable__label {background-color: #d4ebff;}#sk-container-id-11 div.sk-serial::before {content: \"\";position: absolute;border-left: 1px solid gray;box-sizing: border-box;top: 0;bottom: 0;left: 50%;z-index: 0;}#sk-container-id-11 div.sk-serial {display: flex;flex-direction: column;align-items: center;background-color: white;padding-right: 0.2em;padding-left: 0.2em;position: relative;}#sk-container-id-11 div.sk-item {position: relative;z-index: 1;}#sk-container-id-11 div.sk-parallel {display: flex;align-items: stretch;justify-content: center;background-color: white;position: relative;}#sk-container-id-11 div.sk-item::before, #sk-container-id-11 div.sk-parallel-item::before {content: \"\";position: absolute;border-left: 1px solid gray;box-sizing: border-box;top: 0;bottom: 0;left: 50%;z-index: -1;}#sk-container-id-11 div.sk-parallel-item {display: flex;flex-direction: column;z-index: 1;position: relative;background-color: white;}#sk-container-id-11 div.sk-parallel-item:first-child::after {align-self: flex-end;width: 50%;}#sk-container-id-11 div.sk-parallel-item:last-child::after {align-self: flex-start;width: 50%;}#sk-container-id-11 div.sk-parallel-item:only-child::after {width: 0;}#sk-container-id-11 div.sk-dashed-wrapped {border: 1px dashed gray;margin: 0 0.4em 0.5em 0.4em;box-sizing: border-box;padding-bottom: 0.4em;background-color: white;}#sk-container-id-11 div.sk-label label {font-family: monospace;font-weight: bold;display: inline-block;line-height: 1.2em;}#sk-container-id-11 div.sk-label-container {text-align: center;}#sk-container-id-11 div.sk-container {/* jupyter's `normalize.less` sets `[hidden] { display: none; }` but bootstrap.min.css set `[hidden] { display: none !important; }` so we also need the `!important` here to be able to override the default hidden behavior on the sphinx rendered scikit-learn.org. See: https://github.com/scikit-learn/scikit-learn/issues/21755 */display: inline-block !important;position: relative;}#sk-container-id-11 div.sk-text-repr-fallback {display: none;}</style><div id=\"sk-container-id-11\" class=\"sk-top-container\"><div class=\"sk-text-repr-fallback\"><pre>Ridge(alpha=0.01, max_iter=1000000)</pre><b>In a Jupyter environment, please rerun this cell to show the HTML representation or trust the notebook. <br />On GitHub, the HTML representation is unable to render, please try loading this page with nbviewer.org.</b></div><div class=\"sk-container\" hidden><div class=\"sk-item\"><div class=\"sk-estimator sk-toggleable\"><input class=\"sk-toggleable__control sk-hidden--visually\" id=\"sk-estimator-id-11\" type=\"checkbox\" checked><label for=\"sk-estimator-id-11\" class=\"sk-toggleable__label sk-toggleable__label-arrow\">Ridge</label><div class=\"sk-toggleable__content\"><pre>Ridge(alpha=0.01, max_iter=1000000)</pre></div></div></div></div></div>"
      ],
      "text/plain": [
       "Ridge(alpha=0.01, max_iter=1000000)"
      ]
     },
     "execution_count": 106,
     "metadata": {},
     "output_type": "execute_result"
    }
   ],
   "source": [
    "from sklearn.linear_model import Ridge\n",
    "alpha_min = 0.01\n",
    "ridge_min = Ridge(alpha = alpha_min, max_iter = 1000000)\n",
    "ridge_min.fit(X = X_train, y = y_train)"
   ]
  },
  {
   "cell_type": "markdown",
   "metadata": {},
   "source": [
    "Next, construct a large value for alpha, and lets see how far our coefficients are from the standard regression. (say `alpha_max_ridge=10000`)"
   ]
  },
  {
   "cell_type": "code",
   "execution_count": 103,
   "metadata": {},
   "outputs": [
    {
     "data": {
      "text/html": [
       "<style>#sk-container-id-10 {color: black;background-color: white;}#sk-container-id-10 pre{padding: 0;}#sk-container-id-10 div.sk-toggleable {background-color: white;}#sk-container-id-10 label.sk-toggleable__label {cursor: pointer;display: block;width: 100%;margin-bottom: 0;padding: 0.3em;box-sizing: border-box;text-align: center;}#sk-container-id-10 label.sk-toggleable__label-arrow:before {content: \"▸\";float: left;margin-right: 0.25em;color: #696969;}#sk-container-id-10 label.sk-toggleable__label-arrow:hover:before {color: black;}#sk-container-id-10 div.sk-estimator:hover label.sk-toggleable__label-arrow:before {color: black;}#sk-container-id-10 div.sk-toggleable__content {max-height: 0;max-width: 0;overflow: hidden;text-align: left;background-color: #f0f8ff;}#sk-container-id-10 div.sk-toggleable__content pre {margin: 0.2em;color: black;border-radius: 0.25em;background-color: #f0f8ff;}#sk-container-id-10 input.sk-toggleable__control:checked~div.sk-toggleable__content {max-height: 200px;max-width: 100%;overflow: auto;}#sk-container-id-10 input.sk-toggleable__control:checked~label.sk-toggleable__label-arrow:before {content: \"▾\";}#sk-container-id-10 div.sk-estimator input.sk-toggleable__control:checked~label.sk-toggleable__label {background-color: #d4ebff;}#sk-container-id-10 div.sk-label input.sk-toggleable__control:checked~label.sk-toggleable__label {background-color: #d4ebff;}#sk-container-id-10 input.sk-hidden--visually {border: 0;clip: rect(1px 1px 1px 1px);clip: rect(1px, 1px, 1px, 1px);height: 1px;margin: -1px;overflow: hidden;padding: 0;position: absolute;width: 1px;}#sk-container-id-10 div.sk-estimator {font-family: monospace;background-color: #f0f8ff;border: 1px dotted black;border-radius: 0.25em;box-sizing: border-box;margin-bottom: 0.5em;}#sk-container-id-10 div.sk-estimator:hover {background-color: #d4ebff;}#sk-container-id-10 div.sk-parallel-item::after {content: \"\";width: 100%;border-bottom: 1px solid gray;flex-grow: 1;}#sk-container-id-10 div.sk-label:hover label.sk-toggleable__label {background-color: #d4ebff;}#sk-container-id-10 div.sk-serial::before {content: \"\";position: absolute;border-left: 1px solid gray;box-sizing: border-box;top: 0;bottom: 0;left: 50%;z-index: 0;}#sk-container-id-10 div.sk-serial {display: flex;flex-direction: column;align-items: center;background-color: white;padding-right: 0.2em;padding-left: 0.2em;position: relative;}#sk-container-id-10 div.sk-item {position: relative;z-index: 1;}#sk-container-id-10 div.sk-parallel {display: flex;align-items: stretch;justify-content: center;background-color: white;position: relative;}#sk-container-id-10 div.sk-item::before, #sk-container-id-10 div.sk-parallel-item::before {content: \"\";position: absolute;border-left: 1px solid gray;box-sizing: border-box;top: 0;bottom: 0;left: 50%;z-index: -1;}#sk-container-id-10 div.sk-parallel-item {display: flex;flex-direction: column;z-index: 1;position: relative;background-color: white;}#sk-container-id-10 div.sk-parallel-item:first-child::after {align-self: flex-end;width: 50%;}#sk-container-id-10 div.sk-parallel-item:last-child::after {align-self: flex-start;width: 50%;}#sk-container-id-10 div.sk-parallel-item:only-child::after {width: 0;}#sk-container-id-10 div.sk-dashed-wrapped {border: 1px dashed gray;margin: 0 0.4em 0.5em 0.4em;box-sizing: border-box;padding-bottom: 0.4em;background-color: white;}#sk-container-id-10 div.sk-label label {font-family: monospace;font-weight: bold;display: inline-block;line-height: 1.2em;}#sk-container-id-10 div.sk-label-container {text-align: center;}#sk-container-id-10 div.sk-container {/* jupyter's `normalize.less` sets `[hidden] { display: none; }` but bootstrap.min.css set `[hidden] { display: none !important; }` so we also need the `!important` here to be able to override the default hidden behavior on the sphinx rendered scikit-learn.org. See: https://github.com/scikit-learn/scikit-learn/issues/21755 */display: inline-block !important;position: relative;}#sk-container-id-10 div.sk-text-repr-fallback {display: none;}</style><div id=\"sk-container-id-10\" class=\"sk-top-container\"><div class=\"sk-text-repr-fallback\"><pre>Ridge(alpha=10000, max_iter=1000000)</pre><b>In a Jupyter environment, please rerun this cell to show the HTML representation or trust the notebook. <br />On GitHub, the HTML representation is unable to render, please try loading this page with nbviewer.org.</b></div><div class=\"sk-container\" hidden><div class=\"sk-item\"><div class=\"sk-estimator sk-toggleable\"><input class=\"sk-toggleable__control sk-hidden--visually\" id=\"sk-estimator-id-10\" type=\"checkbox\" checked><label for=\"sk-estimator-id-10\" class=\"sk-toggleable__label sk-toggleable__label-arrow\">Ridge</label><div class=\"sk-toggleable__content\"><pre>Ridge(alpha=10000, max_iter=1000000)</pre></div></div></div></div></div>"
      ],
      "text/plain": [
       "Ridge(alpha=10000, max_iter=1000000)"
      ]
     },
     "execution_count": 103,
     "metadata": {},
     "output_type": "execute_result"
    }
   ],
   "source": [
    "alpha_max = 10000\n",
    "ridge_max = Ridge(alpha = alpha_max, max_iter = 1000000)\n",
    "ridge_max.fit(X = X_train, y = y_train)"
   ]
  },
  {
   "cell_type": "markdown",
   "metadata": {},
   "source": [
    "Finally, lets consider the following grid:\n"
   ]
  },
  {
   "cell_type": "code",
   "execution_count": 107,
   "metadata": {},
   "outputs": [],
   "source": [
    "alpha_grid = np.exp(np.linspace(np.log(alpha_min), np.log(alpha_max), 1000))"
   ]
  },
  {
   "cell_type": "markdown",
   "metadata": {},
   "source": [
    "and estimate our Ridge again using CV."
   ]
  },
  {
   "cell_type": "code",
   "execution_count": 108,
   "metadata": {},
   "outputs": [
    {
     "data": {
      "text/html": [
       "<style>#sk-container-id-12 {color: black;background-color: white;}#sk-container-id-12 pre{padding: 0;}#sk-container-id-12 div.sk-toggleable {background-color: white;}#sk-container-id-12 label.sk-toggleable__label {cursor: pointer;display: block;width: 100%;margin-bottom: 0;padding: 0.3em;box-sizing: border-box;text-align: center;}#sk-container-id-12 label.sk-toggleable__label-arrow:before {content: \"▸\";float: left;margin-right: 0.25em;color: #696969;}#sk-container-id-12 label.sk-toggleable__label-arrow:hover:before {color: black;}#sk-container-id-12 div.sk-estimator:hover label.sk-toggleable__label-arrow:before {color: black;}#sk-container-id-12 div.sk-toggleable__content {max-height: 0;max-width: 0;overflow: hidden;text-align: left;background-color: #f0f8ff;}#sk-container-id-12 div.sk-toggleable__content pre {margin: 0.2em;color: black;border-radius: 0.25em;background-color: #f0f8ff;}#sk-container-id-12 input.sk-toggleable__control:checked~div.sk-toggleable__content {max-height: 200px;max-width: 100%;overflow: auto;}#sk-container-id-12 input.sk-toggleable__control:checked~label.sk-toggleable__label-arrow:before {content: \"▾\";}#sk-container-id-12 div.sk-estimator input.sk-toggleable__control:checked~label.sk-toggleable__label {background-color: #d4ebff;}#sk-container-id-12 div.sk-label input.sk-toggleable__control:checked~label.sk-toggleable__label {background-color: #d4ebff;}#sk-container-id-12 input.sk-hidden--visually {border: 0;clip: rect(1px 1px 1px 1px);clip: rect(1px, 1px, 1px, 1px);height: 1px;margin: -1px;overflow: hidden;padding: 0;position: absolute;width: 1px;}#sk-container-id-12 div.sk-estimator {font-family: monospace;background-color: #f0f8ff;border: 1px dotted black;border-radius: 0.25em;box-sizing: border-box;margin-bottom: 0.5em;}#sk-container-id-12 div.sk-estimator:hover {background-color: #d4ebff;}#sk-container-id-12 div.sk-parallel-item::after {content: \"\";width: 100%;border-bottom: 1px solid gray;flex-grow: 1;}#sk-container-id-12 div.sk-label:hover label.sk-toggleable__label {background-color: #d4ebff;}#sk-container-id-12 div.sk-serial::before {content: \"\";position: absolute;border-left: 1px solid gray;box-sizing: border-box;top: 0;bottom: 0;left: 50%;z-index: 0;}#sk-container-id-12 div.sk-serial {display: flex;flex-direction: column;align-items: center;background-color: white;padding-right: 0.2em;padding-left: 0.2em;position: relative;}#sk-container-id-12 div.sk-item {position: relative;z-index: 1;}#sk-container-id-12 div.sk-parallel {display: flex;align-items: stretch;justify-content: center;background-color: white;position: relative;}#sk-container-id-12 div.sk-item::before, #sk-container-id-12 div.sk-parallel-item::before {content: \"\";position: absolute;border-left: 1px solid gray;box-sizing: border-box;top: 0;bottom: 0;left: 50%;z-index: -1;}#sk-container-id-12 div.sk-parallel-item {display: flex;flex-direction: column;z-index: 1;position: relative;background-color: white;}#sk-container-id-12 div.sk-parallel-item:first-child::after {align-self: flex-end;width: 50%;}#sk-container-id-12 div.sk-parallel-item:last-child::after {align-self: flex-start;width: 50%;}#sk-container-id-12 div.sk-parallel-item:only-child::after {width: 0;}#sk-container-id-12 div.sk-dashed-wrapped {border: 1px dashed gray;margin: 0 0.4em 0.5em 0.4em;box-sizing: border-box;padding-bottom: 0.4em;background-color: white;}#sk-container-id-12 div.sk-label label {font-family: monospace;font-weight: bold;display: inline-block;line-height: 1.2em;}#sk-container-id-12 div.sk-label-container {text-align: center;}#sk-container-id-12 div.sk-container {/* jupyter's `normalize.less` sets `[hidden] { display: none; }` but bootstrap.min.css set `[hidden] { display: none !important; }` so we also need the `!important` here to be able to override the default hidden behavior on the sphinx rendered scikit-learn.org. See: https://github.com/scikit-learn/scikit-learn/issues/21755 */display: inline-block !important;position: relative;}#sk-container-id-12 div.sk-text-repr-fallback {display: none;}</style><div id=\"sk-container-id-12\" class=\"sk-top-container\"><div class=\"sk-text-repr-fallback\"><pre>RidgeCV(alphas=array([1.00000000e-02, 1.01392541e-02, 1.02804473e-02, 1.04236067e-02,\n",
       "       1.05687597e-02, 1.07159340e-02, 1.08651577e-02, 1.10164595e-02,\n",
       "       1.11698682e-02, 1.13254132e-02, 1.14831241e-02, 1.16430313e-02,\n",
       "       1.18051653e-02, 1.19695570e-02, 1.21362380e-02, 1.23052400e-02,\n",
       "       1.24765955e-02, 1.26503372e-02, 1.28264983e-02, 1.30051125e-02,\n",
       "       1.31862140e-02, 1.33698374e-0...\n",
       "       7.27548353e+03, 7.37679760e+03, 7.47952252e+03, 7.58367791e+03,\n",
       "       7.68928372e+03, 7.79636013e+03, 7.90492762e+03, 8.01500696e+03,\n",
       "       8.12661920e+03, 8.23978568e+03, 8.35452806e+03, 8.47086827e+03,\n",
       "       8.58882856e+03, 8.70843150e+03, 8.82969996e+03, 8.95265713e+03,\n",
       "       9.07732653e+03, 9.20373200e+03, 9.33189772e+03, 9.46184819e+03,\n",
       "       9.59360829e+03, 9.72720319e+03, 9.86265846e+03, 1.00000000e+04]),\n",
       "        store_cv_values=True)</pre><b>In a Jupyter environment, please rerun this cell to show the HTML representation or trust the notebook. <br />On GitHub, the HTML representation is unable to render, please try loading this page with nbviewer.org.</b></div><div class=\"sk-container\" hidden><div class=\"sk-item\"><div class=\"sk-estimator sk-toggleable\"><input class=\"sk-toggleable__control sk-hidden--visually\" id=\"sk-estimator-id-12\" type=\"checkbox\" checked><label for=\"sk-estimator-id-12\" class=\"sk-toggleable__label sk-toggleable__label-arrow\">RidgeCV</label><div class=\"sk-toggleable__content\"><pre>RidgeCV(alphas=array([1.00000000e-02, 1.01392541e-02, 1.02804473e-02, 1.04236067e-02,\n",
       "       1.05687597e-02, 1.07159340e-02, 1.08651577e-02, 1.10164595e-02,\n",
       "       1.11698682e-02, 1.13254132e-02, 1.14831241e-02, 1.16430313e-02,\n",
       "       1.18051653e-02, 1.19695570e-02, 1.21362380e-02, 1.23052400e-02,\n",
       "       1.24765955e-02, 1.26503372e-02, 1.28264983e-02, 1.30051125e-02,\n",
       "       1.31862140e-02, 1.33698374e-0...\n",
       "       7.27548353e+03, 7.37679760e+03, 7.47952252e+03, 7.58367791e+03,\n",
       "       7.68928372e+03, 7.79636013e+03, 7.90492762e+03, 8.01500696e+03,\n",
       "       8.12661920e+03, 8.23978568e+03, 8.35452806e+03, 8.47086827e+03,\n",
       "       8.58882856e+03, 8.70843150e+03, 8.82969996e+03, 8.95265713e+03,\n",
       "       9.07732653e+03, 9.20373200e+03, 9.33189772e+03, 9.46184819e+03,\n",
       "       9.59360829e+03, 9.72720319e+03, 9.86265846e+03, 1.00000000e+04]),\n",
       "        store_cv_values=True)</pre></div></div></div></div></div>"
      ],
      "text/plain": [
       "RidgeCV(alphas=array([1.00000000e-02, 1.01392541e-02, 1.02804473e-02, 1.04236067e-02,\n",
       "       1.05687597e-02, 1.07159340e-02, 1.08651577e-02, 1.10164595e-02,\n",
       "       1.11698682e-02, 1.13254132e-02, 1.14831241e-02, 1.16430313e-02,\n",
       "       1.18051653e-02, 1.19695570e-02, 1.21362380e-02, 1.23052400e-02,\n",
       "       1.24765955e-02, 1.26503372e-02, 1.28264983e-02, 1.30051125e-02,\n",
       "       1.31862140e-02, 1.33698374e-0...\n",
       "       7.27548353e+03, 7.37679760e+03, 7.47952252e+03, 7.58367791e+03,\n",
       "       7.68928372e+03, 7.79636013e+03, 7.90492762e+03, 8.01500696e+03,\n",
       "       8.12661920e+03, 8.23978568e+03, 8.35452806e+03, 8.47086827e+03,\n",
       "       8.58882856e+03, 8.70843150e+03, 8.82969996e+03, 8.95265713e+03,\n",
       "       9.07732653e+03, 9.20373200e+03, 9.33189772e+03, 9.46184819e+03,\n",
       "       9.59360829e+03, 9.72720319e+03, 9.86265846e+03, 1.00000000e+04]),\n",
       "        store_cv_values=True)"
      ]
     },
     "execution_count": 108,
     "metadata": {},
     "output_type": "execute_result"
    }
   ],
   "source": [
    "from sklearn.linear_model import RidgeCV\n",
    "ridge = RidgeCV(fit_intercept = True,\n",
    "                store_cv_values = True,\n",
    "                alphas = alpha_grid)\n",
    "\n",
    "ridge.fit(X = X_train, y = y_train)"
   ]
  },
  {
   "cell_type": "code",
   "execution_count": 113,
   "metadata": {},
   "outputs": [
    {
     "data": {
      "text/plain": [
       "[<matplotlib.lines.Line2D at 0x295c0f4ce80>]"
      ]
     },
     "execution_count": 113,
     "metadata": {},
     "output_type": "execute_result"
    },
    {
     "data": {
      "image/png": "[encoded data removed]",
      "text/plain": [
       "<Figure size 640x480 with 1 Axes>"
      ]
     },
     "metadata": {},
     "output_type": "display_data"
    }
   ],
   "source": [
    "plt.plot(np.log(ridge.alphas), ridge.cv_values_.mean(axis = 0))"
   ]
  },
  {
   "cell_type": "markdown",
   "metadata": {},
   "source": [
    "**Much better!**"
   ]
  },
  {
   "cell_type": "markdown",
   "metadata": {},
   "source": [
    "### Elastic Net\n",
    "\n",
    "Lets try the elastic net now. We will continue using scikit learn. See the help file for ElasticNetCV for more details. Call your ``ElasticNetCV`` instance `elnet`."
   ]
  },
  {
   "cell_type": "code",
   "execution_count": 29,
   "metadata": {},
   "outputs": [
    {
     "data": {
      "text/html": [
       "<style>#sk-container-id-2 {color: black;background-color: white;}#sk-container-id-2 pre{padding: 0;}#sk-container-id-2 div.sk-toggleable {background-color: white;}#sk-container-id-2 label.sk-toggleable__label {cursor: pointer;display: block;width: 100%;margin-bottom: 0;padding: 0.3em;box-sizing: border-box;text-align: center;}#sk-container-id-2 label.sk-toggleable__label-arrow:before {content: \"▸\";float: left;margin-right: 0.25em;color: #696969;}#sk-container-id-2 label.sk-toggleable__label-arrow:hover:before {color: black;}#sk-container-id-2 div.sk-estimator:hover label.sk-toggleable__label-arrow:before {color: black;}#sk-container-id-2 div.sk-toggleable__content {max-height: 0;max-width: 0;overflow: hidden;text-align: left;background-color: #f0f8ff;}#sk-container-id-2 div.sk-toggleable__content pre {margin: 0.2em;color: black;border-radius: 0.25em;background-color: #f0f8ff;}#sk-container-id-2 input.sk-toggleable__control:checked~div.sk-toggleable__content {max-height: 200px;max-width: 100%;overflow: auto;}#sk-container-id-2 input.sk-toggleable__control:checked~label.sk-toggleable__label-arrow:before {content: \"▾\";}#sk-container-id-2 div.sk-estimator input.sk-toggleable__control:checked~label.sk-toggleable__label {background-color: #d4ebff;}#sk-container-id-2 div.sk-label input.sk-toggleable__control:checked~label.sk-toggleable__label {background-color: #d4ebff;}#sk-container-id-2 input.sk-hidden--visually {border: 0;clip: rect(1px 1px 1px 1px);clip: rect(1px, 1px, 1px, 1px);height: 1px;margin: -1px;overflow: hidden;padding: 0;position: absolute;width: 1px;}#sk-container-id-2 div.sk-estimator {font-family: monospace;background-color: #f0f8ff;border: 1px dotted black;border-radius: 0.25em;box-sizing: border-box;margin-bottom: 0.5em;}#sk-container-id-2 div.sk-estimator:hover {background-color: #d4ebff;}#sk-container-id-2 div.sk-parallel-item::after {content: \"\";width: 100%;border-bottom: 1px solid gray;flex-grow: 1;}#sk-container-id-2 div.sk-label:hover label.sk-toggleable__label {background-color: #d4ebff;}#sk-container-id-2 div.sk-serial::before {content: \"\";position: absolute;border-left: 1px solid gray;box-sizing: border-box;top: 0;bottom: 0;left: 50%;z-index: 0;}#sk-container-id-2 div.sk-serial {display: flex;flex-direction: column;align-items: center;background-color: white;padding-right: 0.2em;padding-left: 0.2em;position: relative;}#sk-container-id-2 div.sk-item {position: relative;z-index: 1;}#sk-container-id-2 div.sk-parallel {display: flex;align-items: stretch;justify-content: center;background-color: white;position: relative;}#sk-container-id-2 div.sk-item::before, #sk-container-id-2 div.sk-parallel-item::before {content: \"\";position: absolute;border-left: 1px solid gray;box-sizing: border-box;top: 0;bottom: 0;left: 50%;z-index: -1;}#sk-container-id-2 div.sk-parallel-item {display: flex;flex-direction: column;z-index: 1;position: relative;background-color: white;}#sk-container-id-2 div.sk-parallel-item:first-child::after {align-self: flex-end;width: 50%;}#sk-container-id-2 div.sk-parallel-item:last-child::after {align-self: flex-start;width: 50%;}#sk-container-id-2 div.sk-parallel-item:only-child::after {width: 0;}#sk-container-id-2 div.sk-dashed-wrapped {border: 1px dashed gray;margin: 0 0.4em 0.5em 0.4em;box-sizing: border-box;padding-bottom: 0.4em;background-color: white;}#sk-container-id-2 div.sk-label label {font-family: monospace;font-weight: bold;display: inline-block;line-height: 1.2em;}#sk-container-id-2 div.sk-label-container {text-align: center;}#sk-container-id-2 div.sk-container {/* jupyter's `normalize.less` sets `[hidden] { display: none; }` but bootstrap.min.css set `[hidden] { display: none !important; }` so we also need the `!important` here to be able to override the default hidden behavior on the sphinx rendered scikit-learn.org. See: https://github.com/scikit-learn/scikit-learn/issues/21755 */display: inline-block !important;position: relative;}#sk-container-id-2 div.sk-text-repr-fallback {display: none;}</style><div id=\"sk-container-id-2\" class=\"sk-top-container\"><div class=\"sk-text-repr-fallback\"><pre>ElasticNetCV(fit_intercept=False, max_iter=1000000)</pre><b>In a Jupyter environment, please rerun this cell to show the HTML representation or trust the notebook. <br />On GitHub, the HTML representation is unable to render, please try loading this page with nbviewer.org.</b></div><div class=\"sk-container\" hidden><div class=\"sk-item\"><div class=\"sk-estimator sk-toggleable\"><input class=\"sk-toggleable__control sk-hidden--visually\" id=\"sk-estimator-id-2\" type=\"checkbox\" checked><label for=\"sk-estimator-id-2\" class=\"sk-toggleable__label sk-toggleable__label-arrow\">ElasticNetCV</label><div class=\"sk-toggleable__content\"><pre>ElasticNetCV(fit_intercept=False, max_iter=1000000)</pre></div></div></div></div></div>"
      ],
      "text/plain": [
       "ElasticNetCV(fit_intercept=False, max_iter=1000000)"
      ]
     },
     "execution_count": 29,
     "metadata": {},
     "output_type": "execute_result"
    }
   ],
   "source": [
    "from sklearn.linear_model import ElasticNetCV\n",
    "\n",
    "elnet = ElasticNetCV(fit_intercept = False,\n",
    "                     max_iter = 1000000)\n",
    "elnet.fit(X = X_train, y = y_train) "
   ]
  },
  {
   "cell_type": "markdown",
   "metadata": {},
   "source": [
    "and our standard plot"
   ]
  },
  {
   "cell_type": "code",
   "execution_count": 117,
   "metadata": {},
   "outputs": [
    {
     "name": "stdout",
     "output_type": "stream",
     "text": [
      "(100, 5)\n"
     ]
    },
    {
     "data": {
      "text/html": [
       "<div>\n",
       "<style scoped>\n",
       "    .dataframe tbody tr th:only-of-type {\n",
       "        vertical-align: middle;\n",
       "    }\n",
       "\n",
       "    .dataframe tbody tr th {\n",
       "        vertical-align: top;\n",
       "    }\n",
       "\n",
       "    .dataframe thead th {\n",
       "        text-align: right;\n",
       "    }\n",
       "</style>\n",
       "<table border=\"1\" class=\"dataframe\">\n",
       "  <thead>\n",
       "    <tr style=\"text-align: right;\">\n",
       "      <th></th>\n",
       "      <th>0</th>\n",
       "      <th>1</th>\n",
       "      <th>2</th>\n",
       "      <th>3</th>\n",
       "      <th>4</th>\n",
       "    </tr>\n",
       "  </thead>\n",
       "  <tbody>\n",
       "    <tr>\n",
       "      <th>0</th>\n",
       "      <td>1.306026</td>\n",
       "      <td>0.886367</td>\n",
       "      <td>0.798833</td>\n",
       "      <td>0.257284</td>\n",
       "      <td>0.248411</td>\n",
       "    </tr>\n",
       "    <tr>\n",
       "      <th>1</th>\n",
       "      <td>1.306026</td>\n",
       "      <td>0.879053</td>\n",
       "      <td>0.786974</td>\n",
       "      <td>0.254704</td>\n",
       "      <td>0.246898</td>\n",
       "    </tr>\n",
       "    <tr>\n",
       "      <th>2</th>\n",
       "      <td>1.303767</td>\n",
       "      <td>0.866588</td>\n",
       "      <td>0.775005</td>\n",
       "      <td>0.252431</td>\n",
       "      <td>0.245637</td>\n",
       "    </tr>\n",
       "    <tr>\n",
       "      <th>3</th>\n",
       "      <td>1.297823</td>\n",
       "      <td>0.855144</td>\n",
       "      <td>0.764116</td>\n",
       "      <td>0.250433</td>\n",
       "      <td>0.244582</td>\n",
       "    </tr>\n",
       "    <tr>\n",
       "      <th>4</th>\n",
       "      <td>1.292383</td>\n",
       "      <td>0.842285</td>\n",
       "      <td>0.754216</td>\n",
       "      <td>0.248681</td>\n",
       "      <td>0.243731</td>\n",
       "    </tr>\n",
       "  </tbody>\n",
       "</table>\n",
       "</div>"
      ],
      "text/plain": [
       "          0         1         2         3         4\n",
       "0  1.306026  0.886367  0.798833  0.257284  0.248411\n",
       "1  1.306026  0.879053  0.786974  0.254704  0.246898\n",
       "2  1.303767  0.866588  0.775005  0.252431  0.245637\n",
       "3  1.297823  0.855144  0.764116  0.250433  0.244582\n",
       "4  1.292383  0.842285  0.754216  0.248681  0.243731"
      ]
     },
     "execution_count": 117,
     "metadata": {},
     "output_type": "execute_result"
    }
   ],
   "source": [
    "print(elnet.mse_path_.shape)\n",
    "pd.DataFrame(elnet.mse_path_).head()"
   ]
  },
  {
   "cell_type": "code",
   "execution_count": 115,
   "metadata": {},
   "outputs": [
    {
     "data": {
      "text/plain": [
       "[<matplotlib.lines.Line2D at 0x295c0fefb20>]"
      ]
     },
     "execution_count": 115,
     "metadata": {},
     "output_type": "execute_result"
    },
    {
     "data": {
      "image/png": "[encoded data removed]",
      "text/plain": [
       "<Figure size 640x480 with 1 Axes>"
      ]
     },
     "metadata": {},
     "output_type": "display_data"
    }
   ],
   "source": [
    "plt.plot(np.log(elnet.alphas_), elnet.mse_path_.mean(axis = 1))"
   ]
  },
  {
   "cell_type": "markdown",
   "metadata": {},
   "source": [
    "### Out-of-sample forecasting\n",
    "\n",
    "Lets now construct our forecasts. There are a number of ways to do this. For our functions, we just need to call the functions and that should already output forecasts. For the methods for which we did not create a function, we need to use the ``.predict()`` method. \n",
    "\n",
    "Assign a column in the ``forecasts`` DataFrame to each of the methods considered. For example, ``forecasts['naive']`` should hold the naive forecasts (one for each out of sample observation), and ``forecast_err['naive']`` should hold the series of squared errors (one for each out of sample observation, **not their average!**) -- the squared difference between the ``y_test`` and our forecasts. "
   ]
  },
  {
   "cell_type": "code",
   "execution_count": 40,
   "metadata": {},
   "outputs": [],
   "source": [
    "forecasts['naive'] = naive_forecaster(y_train)\n",
    "forecast_err['naive'] = (y_test - forecasts['naive'])**2\n",
    "\n",
    "forecasts['Full'] = full_model(y_train, X_train, X_test)\n",
    "forecast_err['Full'] = ( y_test - forecasts['Full'])**2\n",
    "\n",
    "forecasts['Selected'] = sel_model(y_train, X_train, X_test, sel_vars)\n",
    "forecast_err['Selected'] = ( y_test - forecasts['Selected'])**2\n",
    "\n",
    "forecasts['SelectedNL'] = poly_reg(y_train, X_train, X_test, sel_vars, 2)\n",
    "forecast_err['SelectedNL'] = ( y_test - forecasts['SelectedNL'])**2\n",
    "\n",
    "forecasts['LASSO'] = lasso.predict(X_test) \n",
    "forecast_err['LASSO'] = ( y_test - forecasts['LASSO'])**2\n",
    "\n",
    "forecasts['Ridge'] = ridge.predict( X_test ) \n",
    "forecast_err['Ridge'] = ( y_test - forecasts['Ridge'])**2\n",
    "\n",
    "forecasts['ElNet'] = elnet.predict( X_test ) \n",
    "forecast_err['ElNet'] = ( y_test - forecasts['ElNet'])**2"
   ]
  },
  {
   "cell_type": "markdown",
   "metadata": {},
   "source": [
    "and compute our MSE as the average of each column in our ``forecast_err`` dataframe. Print the MSE. Which model does the best out of sample? "
   ]
  },
  {
   "cell_type": "code",
   "execution_count": 41,
   "metadata": {},
   "outputs": [
    {
     "data": {
      "text/html": [
       "<div>\n",
       "<style scoped>\n",
       "    .dataframe tbody tr th:only-of-type {\n",
       "        vertical-align: middle;\n",
       "    }\n",
       "\n",
       "    .dataframe tbody tr th {\n",
       "        vertical-align: top;\n",
       "    }\n",
       "\n",
       "    .dataframe thead th {\n",
       "        text-align: right;\n",
       "    }\n",
       "</style>\n",
       "<table border=\"1\" class=\"dataframe\">\n",
       "  <thead>\n",
       "    <tr style=\"text-align: right;\">\n",
       "      <th></th>\n",
       "      <th>naive</th>\n",
       "      <th>Full</th>\n",
       "      <th>Selected</th>\n",
       "      <th>SelectedNL</th>\n",
       "      <th>LASSO</th>\n",
       "      <th>Ridge</th>\n",
       "      <th>ElNet</th>\n",
       "    </tr>\n",
       "  </thead>\n",
       "  <tbody>\n",
       "    <tr>\n",
       "      <th>MSE</th>\n",
       "      <td>1.575803</td>\n",
       "      <td>15.803573</td>\n",
       "      <td>1.784812</td>\n",
       "      <td>91.24108</td>\n",
       "      <td>1.558627</td>\n",
       "      <td>1.796195</td>\n",
       "      <td>1.492542</td>\n",
       "    </tr>\n",
       "  </tbody>\n",
       "</table>\n",
       "</div>"
      ],
      "text/plain": [
       "        naive       Full  Selected  SelectedNL     LASSO     Ridge     ElNet\n",
       "MSE  1.575803  15.803573  1.784812    91.24108  1.558627  1.796195  1.492542"
      ]
     },
     "execution_count": 41,
     "metadata": {},
     "output_type": "execute_result"
    }
   ],
   "source": [
    "MSE =  pd.DataFrame(forecast_err.mean(axis=0), columns=['MSE']).transpose()\n",
    "MSE"
   ]
  }
 ],
 "metadata": {
  "kernelspec": {
   "display_name": "Python 3.10.5 64-bit",
   "language": "python",
   "name": "python3"
  },
  "language_info": {
   "codemirror_mode": {
    "name": "ipython",
    "version": 3
   },
   "file_extension": ".py",
   "mimetype": "text/x-python",
   "name": "python",
   "nbconvert_exporter": "python",
   "pygments_lexer": "ipython3",
   "version": "3.10.5"
  },
  "orig_nbformat": 4,
  "vscode": {
   "interpreter": {
    "hash": "cb7eae22b3a28430044b167b2f91d2eb913632173e49b3dfc217d3fa48268c7b"
   }
  }
 },
 "nbformat": 4,
 "nbformat_minor": 2
}
