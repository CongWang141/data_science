{
 "cells": [
  {
   "cell_type": "markdown",
   "metadata": {},
   "source": [
    "### Handling Missing Data\n",
    "Missing data is so often, we need to handle them carefully"
   ]
  },
  {
   "cell_type": "code",
   "execution_count": 1,
   "metadata": {},
   "outputs": [],
   "source": [
    "## Load the relevant modules\n",
    "import matplotlib.pylab as plt\n",
    "import pandas as pd\n",
    "import numpy as np\n",
    "import seaborn as sns\n",
    "import sklearn"
   ]
  },
  {
   "cell_type": "code",
   "execution_count": 2,
   "metadata": {},
   "outputs": [],
   "source": [
    "# set random seed for reproducibility\n",
    "np.random.seed(20221001)"
   ]
  },
  {
   "cell_type": "code",
   "execution_count": 4,
   "metadata": {},
   "outputs": [],
   "source": [
    "# Load the data and view its shape and content\n",
    "data = pd.read_csv(\"https://github.com/barcelonagse-datascience/academic_files/raw/master/data/titanic3.csv\")"
   ]
  },
  {
   "cell_type": "code",
   "execution_count": 6,
   "metadata": {},
   "outputs": [
    {
     "name": "stdout",
     "output_type": "stream",
     "text": [
      "(1309, 14)\n",
      "   pclass  survived                                             name     sex  \\\n",
      "0       1         1                    Allen, Miss. Elisabeth Walton  female   \n",
      "1       1         1                   Allison, Master. Hudson Trevor    male   \n",
      "2       1         0                     Allison, Miss. Helen Loraine  female   \n",
      "3       1         0             Allison, Mr. Hudson Joshua Creighton    male   \n",
      "4       1         0  Allison, Mrs. Hudson J C (Bessie Waldo Daniels)  female   \n",
      "\n",
      "     age  sibsp  parch  ticket      fare    cabin embarked boat   body  \\\n",
      "0  29.00      0      0   24160  211.3375       B5        S    2    NaN   \n",
      "1   0.92      1      2  113781  151.5500  C22 C26        S   11    NaN   \n",
      "2   2.00      1      2  113781  151.5500  C22 C26        S  NaN    NaN   \n",
      "3  30.00      1      2  113781  151.5500  C22 C26        S  NaN  135.0   \n",
      "4  25.00      1      2  113781  151.5500  C22 C26        S  NaN    NaN   \n",
      "\n",
      "                         home.dest  \n",
      "0                     St Louis, MO  \n",
      "1  Montreal, PQ / Chesterville, ON  \n",
      "2  Montreal, PQ / Chesterville, ON  \n",
      "3  Montreal, PQ / Chesterville, ON  \n",
      "4  Montreal, PQ / Chesterville, ON  \n",
      "Index(['pclass', 'survived', 'name', 'sex', 'age', 'sibsp', 'parch', 'ticket',\n",
      "       'fare', 'cabin', 'embarked', 'boat', 'body', 'home.dest'],\n",
      "      dtype='object')\n"
     ]
    }
   ],
   "source": [
    "# explore the data\n",
    "print(data.shape)\n",
    "print(data.head())\n",
    "print(data.columns)"
   ]
  },
  {
   "cell_type": "code",
   "execution_count": 7,
   "metadata": {},
   "outputs": [
    {
     "data": {
      "text/html": [
       "<div>\n",
       "<style scoped>\n",
       "    .dataframe tbody tr th:only-of-type {\n",
       "        vertical-align: middle;\n",
       "    }\n",
       "\n",
       "    .dataframe tbody tr th {\n",
       "        vertical-align: top;\n",
       "    }\n",
       "\n",
       "    .dataframe thead th {\n",
       "        text-align: right;\n",
       "    }\n",
       "</style>\n",
       "<table border=\"1\" class=\"dataframe\">\n",
       "  <thead>\n",
       "    <tr style=\"text-align: right;\">\n",
       "      <th></th>\n",
       "      <th>pclass</th>\n",
       "      <th>survived</th>\n",
       "      <th>sex</th>\n",
       "      <th>age</th>\n",
       "      <th>sibsp</th>\n",
       "      <th>parch</th>\n",
       "      <th>fare</th>\n",
       "      <th>cabin</th>\n",
       "    </tr>\n",
       "  </thead>\n",
       "  <tbody>\n",
       "    <tr>\n",
       "      <th>0</th>\n",
       "      <td>1</td>\n",
       "      <td>1</td>\n",
       "      <td>female</td>\n",
       "      <td>29.00</td>\n",
       "      <td>0</td>\n",
       "      <td>0</td>\n",
       "      <td>211.3375</td>\n",
       "      <td>B5</td>\n",
       "    </tr>\n",
       "    <tr>\n",
       "      <th>1</th>\n",
       "      <td>1</td>\n",
       "      <td>1</td>\n",
       "      <td>male</td>\n",
       "      <td>0.92</td>\n",
       "      <td>1</td>\n",
       "      <td>2</td>\n",
       "      <td>151.5500</td>\n",
       "      <td>C22 C26</td>\n",
       "    </tr>\n",
       "    <tr>\n",
       "      <th>2</th>\n",
       "      <td>1</td>\n",
       "      <td>0</td>\n",
       "      <td>female</td>\n",
       "      <td>2.00</td>\n",
       "      <td>1</td>\n",
       "      <td>2</td>\n",
       "      <td>151.5500</td>\n",
       "      <td>C22 C26</td>\n",
       "    </tr>\n",
       "    <tr>\n",
       "      <th>3</th>\n",
       "      <td>1</td>\n",
       "      <td>0</td>\n",
       "      <td>male</td>\n",
       "      <td>30.00</td>\n",
       "      <td>1</td>\n",
       "      <td>2</td>\n",
       "      <td>151.5500</td>\n",
       "      <td>C22 C26</td>\n",
       "    </tr>\n",
       "    <tr>\n",
       "      <th>4</th>\n",
       "      <td>1</td>\n",
       "      <td>0</td>\n",
       "      <td>female</td>\n",
       "      <td>25.00</td>\n",
       "      <td>1</td>\n",
       "      <td>2</td>\n",
       "      <td>151.5500</td>\n",
       "      <td>C22 C26</td>\n",
       "    </tr>\n",
       "  </tbody>\n",
       "</table>\n",
       "</div>"
      ],
      "text/plain": [
       "   pclass  survived     sex    age  sibsp  parch      fare    cabin\n",
       "0       1         1  female  29.00      0      0  211.3375       B5\n",
       "1       1         1    male   0.92      1      2  151.5500  C22 C26\n",
       "2       1         0  female   2.00      1      2  151.5500  C22 C26\n",
       "3       1         0    male  30.00      1      2  151.5500  C22 C26\n",
       "4       1         0  female  25.00      1      2  151.5500  C22 C26"
      ]
     },
     "execution_count": 7,
     "metadata": {},
     "output_type": "execute_result"
    }
   ],
   "source": [
    "data = data.drop(['name', 'body', 'ticket', 'embarked', 'home.dest', 'boat'], axis=1)\n",
    "data.head()"
   ]
  },
  {
   "cell_type": "code",
   "execution_count": 8,
   "metadata": {},
   "outputs": [
    {
     "data": {
      "text/plain": [
       "pclass       0.000000\n",
       "survived     0.000000\n",
       "sex          0.000000\n",
       "age         20.091673\n",
       "sibsp        0.000000\n",
       "parch        0.000000\n",
       "fare         0.076394\n",
       "cabin       77.463713\n",
       "dtype: float64"
      ]
     },
     "execution_count": 8,
     "metadata": {},
     "output_type": "execute_result"
    }
   ],
   "source": [
    "# check how may missing values in each col\n",
    "nulls = data.isnull().mean()*100\n",
    "nulls"
   ]
  },
  {
   "cell_type": "code",
   "execution_count": 26,
   "metadata": {},
   "outputs": [
    {
     "name": "stdout",
     "output_type": "stream",
     "text": [
      "Our data has 1309 rows and 8 colums.\n"
     ]
    },
    {
     "data": {
      "image/png": "[encoded data removed]",
      "text/plain": [
       "<Figure size 900x400 with 1 Axes>"
      ]
     },
     "metadata": {},
     "output_type": "display_data"
    }
   ],
   "source": [
    "# plot null in each col\n",
    "fig = plt.figure(figsize=(9,4))\n",
    "plt.bar(nulls.index, nulls.values)\n",
    "# rotate the x ticks\n",
    "# plt.xticks(rotation='vertical')\n",
    "\n",
    "# add y axis label\n",
    "plt.ylabel('Missing data persentage')\n",
    "print('Our data has %s rows and %s colums.' % data.shape)\n"
   ]
  },
  {
   "cell_type": "markdown",
   "metadata": {},
   "source": [
    "we can see that _age_, _fare_, and _carbn_ have missing values, for _age_ and _fare_ the number of missing value is large."
   ]
  },
  {
   "cell_type": "markdown",
   "metadata": {},
   "source": [
    "### Methods of handling missing values"
   ]
  },
  {
   "cell_type": "markdown",
   "metadata": {},
   "source": [
    "1. Remove empty colums/rows"
   ]
  },
  {
   "cell_type": "code",
   "execution_count": 32,
   "metadata": {},
   "outputs": [
    {
     "name": "stdout",
     "output_type": "stream",
     "text": [
      "(1309, 8)\n",
      "(1309, 7)\n"
     ]
    }
   ],
   "source": [
    "# remove col 'survived'\n",
    "X = data.drop('survived', axis=1)\n",
    "print(data.shape)\n",
    "print(X.shape)"
   ]
  },
  {
   "cell_type": "code",
   "execution_count": 44,
   "metadata": {},
   "outputs": [
    {
     "name": "stdout",
     "output_type": "stream",
     "text": [
      "Index(['age', 'fare', 'cabin'], dtype='object')\n"
     ]
    },
    {
     "data": {
      "text/plain": [
       "(1309, 5)"
      ]
     },
     "execution_count": 44,
     "metadata": {},
     "output_type": "execute_result"
    }
   ],
   "source": [
    "# remove col with any missing value\n",
    "missing_data_col = data.columns[nulls > 0]\n",
    "print(missing_data_col)\n",
    "data_nona = data.drop(missing_data_col, axis=1)\n",
    "data_nona.shape"
   ]
  },
  {
   "cell_type": "code",
   "execution_count": 48,
   "metadata": {},
   "outputs": [
    {
     "data": {
      "text/plain": [
       "pclass      0\n",
       "survived    0\n",
       "sex         0\n",
       "sibsp       0\n",
       "parch       0\n",
       "dtype: int64"
      ]
     },
     "execution_count": 48,
     "metadata": {},
     "output_type": "execute_result"
    }
   ],
   "source": [
    "data_nona.isna().sum()"
   ]
  },
  {
   "cell_type": "markdown",
   "metadata": {},
   "source": [
    "We have dealt with the NAS by removing the columns that had any NAs. But this may cost us a lot. In particular, we can no longer use the information in _age_ and _fare_ to predict _survived_ . "
   ]
  },
  {
   "cell_type": "code",
   "execution_count": 51,
   "metadata": {},
   "outputs": [
    {
     "data": {
      "text/plain": [
       "0.24426546891481227"
      ]
     },
     "execution_count": 51,
     "metadata": {},
     "output_type": "execute_result"
    }
   ],
   "source": [
    "# check the corr between fare and survived\n",
    "data.fare.corr(data.survived)"
   ]
  },
  {
   "cell_type": "code",
   "execution_count": 54,
   "metadata": {},
   "outputs": [
    {
     "name": "stdout",
     "output_type": "stream",
     "text": [
      "survived\n",
      "0    23.353831\n",
      "1    49.361184\n",
      "Name: fare, dtype: float64\n"
     ]
    },
    {
     "data": {
      "text/plain": [
       "survived\n",
       "0    10.5\n",
       "1    26.0\n",
       "Name: fare, dtype: float64"
      ]
     },
     "execution_count": 54,
     "metadata": {},
     "output_type": "execute_result"
    }
   ],
   "source": [
    "# or \n",
    "print(data.groupby('survived').fare.mean())\n",
    "data.groupby('survived').fare.median()"
   ]
  },
  {
   "cell_type": "code",
   "execution_count": 56,
   "metadata": {},
   "outputs": [
    {
     "data": {
      "text/plain": [
       "children\n",
       "False    0.362903\n",
       "True     0.492228\n",
       "Name: survived, dtype: float64"
      ]
     },
     "execution_count": 56,
     "metadata": {},
     "output_type": "execute_result"
    }
   ],
   "source": [
    "# also \n",
    "data['children'] = (data.age <= 18)\n",
    "data.groupby('children').survived.mean()"
   ]
  },
  {
   "cell_type": "markdown",
   "metadata": {},
   "source": [
    "This may not be a great idea.\n",
    "\n",
    "The correlation between _fare_ and _survived_ is not negligible, so we would like to keep this variable. In addition to that, children also were more likely to survive than adults, so we also would like to keep _age_ as a predictor"
   ]
  },
  {
   "cell_type": "markdown",
   "metadata": {},
   "source": [
    "An alternative to completely removing columns with some missing data is to remove rows with missing data.\n",
    "\n",
    "Clearly, this may cost us observations, so a better strategy is to *mix* both column and row deletion:\n",
    "\n",
    "1. Remove columns (features) with high percentage of missing data;\n",
    "2. Then, for the remaining dataset, remove rows with missing data\n",
    "\n",
    "We can use the *dropna* function to delete nas on each axis (0=rows,1=columns)\n",
    "``` python\n",
    "    data.dropna(axis=1, thresh=round(my_percentage_valid*len(data.index)))\n",
    "```"
   ]
  },
  {
   "cell_type": "markdown",
   "metadata": {},
   "source": [
    "### Propagate previous or next value"
   ]
  },
  {
   "cell_type": "markdown",
   "metadata": {},
   "source": [
    "This method basically consists of filling a gap with previous or posterior observations of the same feature.\n",
    "\n",
    "This approach would typically make sense when there is a natural ordering in data (e.g. time series), **but we have to be careful!** if the goal is prediction, it may not be a great idea to use future values to replace past values.\n",
    "\n",
    "For an example of when this could be sensible, if we have a sequence of daily stock prices where one day is a holiday, we may just want to fill this using the last available price.\n",
    "\n",
    "One can easily code it using $fillna$ method for dataframes:\n",
    "\n",
    "``` python\n",
    "    # backward\n",
    "    my_data.fillna(method='bfill',inplace=True)\n",
    "\n",
    "    # forward\n",
    "    my_data.fillna(method='ffill',inplace=True)\n",
    "\n",
    "```\n",
    "\n",
    "If there are consecutive observations with missing data for the same feature, the method is recursively applied to make sure that all gaps are filled."
   ]
  },
  {
   "cell_type": "code",
   "execution_count": 57,
   "metadata": {},
   "outputs": [
    {
     "data": {
      "text/html": [
       "<div>\n",
       "<style scoped>\n",
       "    .dataframe tbody tr th:only-of-type {\n",
       "        vertical-align: middle;\n",
       "    }\n",
       "\n",
       "    .dataframe tbody tr th {\n",
       "        vertical-align: top;\n",
       "    }\n",
       "\n",
       "    .dataframe thead th {\n",
       "        text-align: right;\n",
       "    }\n",
       "</style>\n",
       "<table border=\"1\" class=\"dataframe\">\n",
       "  <thead>\n",
       "    <tr style=\"text-align: right;\">\n",
       "      <th></th>\n",
       "      <th>x</th>\n",
       "      <th>y</th>\n",
       "    </tr>\n",
       "  </thead>\n",
       "  <tbody>\n",
       "    <tr>\n",
       "      <th>0</th>\n",
       "      <td>1</td>\n",
       "      <td>1.0</td>\n",
       "    </tr>\n",
       "    <tr>\n",
       "      <th>1</th>\n",
       "      <td>2</td>\n",
       "      <td>1.0</td>\n",
       "    </tr>\n",
       "    <tr>\n",
       "      <th>2</th>\n",
       "      <td>3</td>\n",
       "      <td>3.0</td>\n",
       "    </tr>\n",
       "    <tr>\n",
       "      <th>3</th>\n",
       "      <td>4</td>\n",
       "      <td>4.0</td>\n",
       "    </tr>\n",
       "    <tr>\n",
       "      <th>4</th>\n",
       "      <td>5</td>\n",
       "      <td>5.0</td>\n",
       "    </tr>\n",
       "    <tr>\n",
       "      <th>5</th>\n",
       "      <td>6</td>\n",
       "      <td>5.0</td>\n",
       "    </tr>\n",
       "    <tr>\n",
       "      <th>6</th>\n",
       "      <td>7</td>\n",
       "      <td>5.0</td>\n",
       "    </tr>\n",
       "    <tr>\n",
       "      <th>7</th>\n",
       "      <td>8</td>\n",
       "      <td>5.0</td>\n",
       "    </tr>\n",
       "    <tr>\n",
       "      <th>8</th>\n",
       "      <td>9</td>\n",
       "      <td>9.0</td>\n",
       "    </tr>\n",
       "    <tr>\n",
       "      <th>9</th>\n",
       "      <td>10</td>\n",
       "      <td>10.0</td>\n",
       "    </tr>\n",
       "  </tbody>\n",
       "</table>\n",
       "</div>"
      ],
      "text/plain": [
       "    x     y\n",
       "0   1   1.0\n",
       "1   2   1.0\n",
       "2   3   3.0\n",
       "3   4   4.0\n",
       "4   5   5.0\n",
       "5   6   5.0\n",
       "6   7   5.0\n",
       "7   8   5.0\n",
       "8   9   9.0\n",
       "9  10  10.0"
      ]
     },
     "execution_count": 57,
     "metadata": {},
     "output_type": "execute_result"
    }
   ],
   "source": [
    "# An example of forward filling works\n",
    "test_data = pd.DataFrame({'x':[1,2,3,4,5,6,7,8,9,10],'y':[1,None,3,4,5,None,None,None,9,10]})\n",
    "test_data.fillna(method='ffill', inplace=True)\n",
    "test_data"
   ]
  },
  {
   "cell_type": "code",
   "execution_count": 59,
   "metadata": {},
   "outputs": [
    {
     "data": {
      "text/html": [
       "<div>\n",
       "<style scoped>\n",
       "    .dataframe tbody tr th:only-of-type {\n",
       "        vertical-align: middle;\n",
       "    }\n",
       "\n",
       "    .dataframe tbody tr th {\n",
       "        vertical-align: top;\n",
       "    }\n",
       "\n",
       "    .dataframe thead th {\n",
       "        text-align: right;\n",
       "    }\n",
       "</style>\n",
       "<table border=\"1\" class=\"dataframe\">\n",
       "  <thead>\n",
       "    <tr style=\"text-align: right;\">\n",
       "      <th></th>\n",
       "      <th>x</th>\n",
       "      <th>y</th>\n",
       "    </tr>\n",
       "  </thead>\n",
       "  <tbody>\n",
       "    <tr>\n",
       "      <th>0</th>\n",
       "      <td>1</td>\n",
       "      <td>1.0</td>\n",
       "    </tr>\n",
       "    <tr>\n",
       "      <th>1</th>\n",
       "      <td>2</td>\n",
       "      <td>3.0</td>\n",
       "    </tr>\n",
       "    <tr>\n",
       "      <th>2</th>\n",
       "      <td>3</td>\n",
       "      <td>3.0</td>\n",
       "    </tr>\n",
       "    <tr>\n",
       "      <th>3</th>\n",
       "      <td>4</td>\n",
       "      <td>4.0</td>\n",
       "    </tr>\n",
       "    <tr>\n",
       "      <th>4</th>\n",
       "      <td>5</td>\n",
       "      <td>5.0</td>\n",
       "    </tr>\n",
       "    <tr>\n",
       "      <th>5</th>\n",
       "      <td>6</td>\n",
       "      <td>9.0</td>\n",
       "    </tr>\n",
       "    <tr>\n",
       "      <th>6</th>\n",
       "      <td>7</td>\n",
       "      <td>9.0</td>\n",
       "    </tr>\n",
       "    <tr>\n",
       "      <th>7</th>\n",
       "      <td>8</td>\n",
       "      <td>9.0</td>\n",
       "    </tr>\n",
       "    <tr>\n",
       "      <th>8</th>\n",
       "      <td>9</td>\n",
       "      <td>9.0</td>\n",
       "    </tr>\n",
       "    <tr>\n",
       "      <th>9</th>\n",
       "      <td>10</td>\n",
       "      <td>10.0</td>\n",
       "    </tr>\n",
       "  </tbody>\n",
       "</table>\n",
       "</div>"
      ],
      "text/plain": [
       "    x     y\n",
       "0   1   1.0\n",
       "1   2   3.0\n",
       "2   3   3.0\n",
       "3   4   4.0\n",
       "4   5   5.0\n",
       "5   6   9.0\n",
       "6   7   9.0\n",
       "7   8   9.0\n",
       "8   9   9.0\n",
       "9  10  10.0"
      ]
     },
     "execution_count": 59,
     "metadata": {},
     "output_type": "execute_result"
    }
   ],
   "source": [
    "# and backward filling\n",
    "test_data = pd.DataFrame({'x':[1,2,3,4,5,6,7,8,9,10],'y':[1,None,3,4,5,None,None,None,9,10]})\n",
    "test_data.fillna(method='bfill', inplace=True)\n",
    "test_data"
   ]
  },
  {
   "cell_type": "markdown",
   "metadata": {},
   "source": [
    "### Replace by statistics (mean/ median/ mode)\n",
    "\n",
    "One strategy that is typically used is to replace missing data by unconditional statistics obtained over the whole sample:\n",
    "- *Mean* for numerical features where ouliers are not significant;\n",
    "- *Median* for numerical features where outliers clearly affect the mean;\n",
    "- *Mode* for categorical features;\n",
    "\n",
    "E.g.:\n",
    "``` python\n",
    " my_data.my_column.fillna(my_data.my_column.mean(),inplace=True)\n",
    "```\n",
    "This imputation strategy is interesting as it preserves the unconditional mean of the series.\n",
    "This simple imputation shrinks overall values towards the unconditional mean or median, reducing variability. \n",
    "\n",
    "We can think of different ways to avoid this, such as replacing by *conditional* statistics, i.e using particular subgroups of data and categorical variables.\n",
    "\n",
    "``` python\n",
    "    my_data[my_col].fillna(my_data.groupby(my_category)[my_col].transform(\"mean\"), inplace=True)\n",
    "```"
   ]
  },
  {
   "cell_type": "code",
   "execution_count": 79,
   "metadata": {},
   "outputs": [
    {
     "name": "stdout",
     "output_type": "stream",
     "text": [
      "pclass       0\n",
      "sex          0\n",
      "age          0\n",
      "sibsp        0\n",
      "parch        0\n",
      "fare         1\n",
      "cabin     1014\n",
      "dtype: int64\n"
     ]
    },
    {
     "data": {
      "text/html": [
       "<div>\n",
       "<style scoped>\n",
       "    .dataframe tbody tr th:only-of-type {\n",
       "        vertical-align: middle;\n",
       "    }\n",
       "\n",
       "    .dataframe tbody tr th {\n",
       "        vertical-align: top;\n",
       "    }\n",
       "\n",
       "    .dataframe thead th {\n",
       "        text-align: right;\n",
       "    }\n",
       "</style>\n",
       "<table border=\"1\" class=\"dataframe\">\n",
       "  <thead>\n",
       "    <tr style=\"text-align: right;\">\n",
       "      <th></th>\n",
       "      <th>pclass</th>\n",
       "      <th>sex</th>\n",
       "      <th>age</th>\n",
       "      <th>sibsp</th>\n",
       "      <th>parch</th>\n",
       "      <th>fare</th>\n",
       "      <th>cabin</th>\n",
       "    </tr>\n",
       "  </thead>\n",
       "  <tbody>\n",
       "    <tr>\n",
       "      <th>1299</th>\n",
       "      <td>3</td>\n",
       "      <td>male</td>\n",
       "      <td>27.000000</td>\n",
       "      <td>1</td>\n",
       "      <td>0</td>\n",
       "      <td>14.4542</td>\n",
       "      <td>NaN</td>\n",
       "    </tr>\n",
       "    <tr>\n",
       "      <th>1300</th>\n",
       "      <td>3</td>\n",
       "      <td>female</td>\n",
       "      <td>15.000000</td>\n",
       "      <td>1</td>\n",
       "      <td>0</td>\n",
       "      <td>14.4542</td>\n",
       "      <td>NaN</td>\n",
       "    </tr>\n",
       "    <tr>\n",
       "      <th>1301</th>\n",
       "      <td>3</td>\n",
       "      <td>male</td>\n",
       "      <td>45.500000</td>\n",
       "      <td>0</td>\n",
       "      <td>0</td>\n",
       "      <td>7.2250</td>\n",
       "      <td>NaN</td>\n",
       "    </tr>\n",
       "    <tr>\n",
       "      <th>1302</th>\n",
       "      <td>3</td>\n",
       "      <td>male</td>\n",
       "      <td>30.585228</td>\n",
       "      <td>0</td>\n",
       "      <td>0</td>\n",
       "      <td>7.2250</td>\n",
       "      <td>NaN</td>\n",
       "    </tr>\n",
       "    <tr>\n",
       "      <th>1303</th>\n",
       "      <td>3</td>\n",
       "      <td>male</td>\n",
       "      <td>30.585228</td>\n",
       "      <td>0</td>\n",
       "      <td>0</td>\n",
       "      <td>14.4583</td>\n",
       "      <td>NaN</td>\n",
       "    </tr>\n",
       "    <tr>\n",
       "      <th>1304</th>\n",
       "      <td>3</td>\n",
       "      <td>female</td>\n",
       "      <td>14.500000</td>\n",
       "      <td>1</td>\n",
       "      <td>0</td>\n",
       "      <td>14.4542</td>\n",
       "      <td>NaN</td>\n",
       "    </tr>\n",
       "    <tr>\n",
       "      <th>1305</th>\n",
       "      <td>3</td>\n",
       "      <td>female</td>\n",
       "      <td>28.687088</td>\n",
       "      <td>1</td>\n",
       "      <td>0</td>\n",
       "      <td>14.4542</td>\n",
       "      <td>NaN</td>\n",
       "    </tr>\n",
       "    <tr>\n",
       "      <th>1306</th>\n",
       "      <td>3</td>\n",
       "      <td>male</td>\n",
       "      <td>26.500000</td>\n",
       "      <td>0</td>\n",
       "      <td>0</td>\n",
       "      <td>7.2250</td>\n",
       "      <td>NaN</td>\n",
       "    </tr>\n",
       "    <tr>\n",
       "      <th>1307</th>\n",
       "      <td>3</td>\n",
       "      <td>male</td>\n",
       "      <td>27.000000</td>\n",
       "      <td>0</td>\n",
       "      <td>0</td>\n",
       "      <td>7.2250</td>\n",
       "      <td>NaN</td>\n",
       "    </tr>\n",
       "    <tr>\n",
       "      <th>1308</th>\n",
       "      <td>3</td>\n",
       "      <td>male</td>\n",
       "      <td>29.000000</td>\n",
       "      <td>0</td>\n",
       "      <td>0</td>\n",
       "      <td>7.8750</td>\n",
       "      <td>NaN</td>\n",
       "    </tr>\n",
       "  </tbody>\n",
       "</table>\n",
       "</div>"
      ],
      "text/plain": [
       "      pclass     sex        age  sibsp  parch     fare cabin\n",
       "1299       3    male  27.000000      1      0  14.4542   NaN\n",
       "1300       3  female  15.000000      1      0  14.4542   NaN\n",
       "1301       3    male  45.500000      0      0   7.2250   NaN\n",
       "1302       3    male  30.585228      0      0   7.2250   NaN\n",
       "1303       3    male  30.585228      0      0  14.4583   NaN\n",
       "1304       3  female  14.500000      1      0  14.4542   NaN\n",
       "1305       3  female  28.687088      1      0  14.4542   NaN\n",
       "1306       3    male  26.500000      0      0   7.2250   NaN\n",
       "1307       3    male  27.000000      0      0   7.2250   NaN\n",
       "1308       3    male  29.000000      0      0   7.8750   NaN"
      ]
     },
     "execution_count": 79,
     "metadata": {},
     "output_type": "execute_result"
    }
   ],
   "source": [
    "X_complete = X.copy()\n",
    "X_complete['age'].fillna(X_complete.groupby('sex')['age'].transform('mean'), inplace=True)\n",
    "print(X_complete.isnull().sum())\n",
    "X_complete.tail(10)"
   ]
  },
  {
   "cell_type": "code",
   "execution_count": null,
   "metadata": {},
   "outputs": [
    {
     "data": {
      "text/html": [
       "<div>\n",
       "<style scoped>\n",
       "    .dataframe tbody tr th:only-of-type {\n",
       "        vertical-align: middle;\n",
       "    }\n",
       "\n",
       "    .dataframe tbody tr th {\n",
       "        vertical-align: top;\n",
       "    }\n",
       "\n",
       "    .dataframe thead th {\n",
       "        text-align: right;\n",
       "    }\n",
       "</style>\n",
       "<table border=\"1\" class=\"dataframe\">\n",
       "  <thead>\n",
       "    <tr style=\"text-align: right;\">\n",
       "      <th></th>\n",
       "      <th>pclass</th>\n",
       "      <th>sex</th>\n",
       "      <th>age</th>\n",
       "      <th>sibsp</th>\n",
       "      <th>parch</th>\n",
       "      <th>fare</th>\n",
       "      <th>cabin</th>\n",
       "    </tr>\n",
       "  </thead>\n",
       "  <tbody>\n",
       "    <tr>\n",
       "      <th>1299</th>\n",
       "      <td>3</td>\n",
       "      <td>male</td>\n",
       "      <td>27.0</td>\n",
       "      <td>1</td>\n",
       "      <td>0</td>\n",
       "      <td>14.4542</td>\n",
       "      <td>NaN</td>\n",
       "    </tr>\n",
       "    <tr>\n",
       "      <th>1300</th>\n",
       "      <td>3</td>\n",
       "      <td>female</td>\n",
       "      <td>15.0</td>\n",
       "      <td>1</td>\n",
       "      <td>0</td>\n",
       "      <td>14.4542</td>\n",
       "      <td>NaN</td>\n",
       "    </tr>\n",
       "    <tr>\n",
       "      <th>1301</th>\n",
       "      <td>3</td>\n",
       "      <td>male</td>\n",
       "      <td>45.5</td>\n",
       "      <td>0</td>\n",
       "      <td>0</td>\n",
       "      <td>7.2250</td>\n",
       "      <td>NaN</td>\n",
       "    </tr>\n",
       "    <tr>\n",
       "      <th>1302</th>\n",
       "      <td>3</td>\n",
       "      <td>male</td>\n",
       "      <td>NaN</td>\n",
       "      <td>0</td>\n",
       "      <td>0</td>\n",
       "      <td>7.2250</td>\n",
       "      <td>NaN</td>\n",
       "    </tr>\n",
       "    <tr>\n",
       "      <th>1303</th>\n",
       "      <td>3</td>\n",
       "      <td>male</td>\n",
       "      <td>NaN</td>\n",
       "      <td>0</td>\n",
       "      <td>0</td>\n",
       "      <td>14.4583</td>\n",
       "      <td>NaN</td>\n",
       "    </tr>\n",
       "    <tr>\n",
       "      <th>1304</th>\n",
       "      <td>3</td>\n",
       "      <td>female</td>\n",
       "      <td>14.5</td>\n",
       "      <td>1</td>\n",
       "      <td>0</td>\n",
       "      <td>14.4542</td>\n",
       "      <td>NaN</td>\n",
       "    </tr>\n",
       "    <tr>\n",
       "      <th>1305</th>\n",
       "      <td>3</td>\n",
       "      <td>female</td>\n",
       "      <td>NaN</td>\n",
       "      <td>1</td>\n",
       "      <td>0</td>\n",
       "      <td>14.4542</td>\n",
       "      <td>NaN</td>\n",
       "    </tr>\n",
       "    <tr>\n",
       "      <th>1306</th>\n",
       "      <td>3</td>\n",
       "      <td>male</td>\n",
       "      <td>26.5</td>\n",
       "      <td>0</td>\n",
       "      <td>0</td>\n",
       "      <td>7.2250</td>\n",
       "      <td>NaN</td>\n",
       "    </tr>\n",
       "    <tr>\n",
       "      <th>1307</th>\n",
       "      <td>3</td>\n",
       "      <td>male</td>\n",
       "      <td>27.0</td>\n",
       "      <td>0</td>\n",
       "      <td>0</td>\n",
       "      <td>7.2250</td>\n",
       "      <td>NaN</td>\n",
       "    </tr>\n",
       "    <tr>\n",
       "      <th>1308</th>\n",
       "      <td>3</td>\n",
       "      <td>male</td>\n",
       "      <td>29.0</td>\n",
       "      <td>0</td>\n",
       "      <td>0</td>\n",
       "      <td>7.8750</td>\n",
       "      <td>NaN</td>\n",
       "    </tr>\n",
       "  </tbody>\n",
       "</table>\n",
       "</div>"
      ],
      "text/plain": [
       "      pclass     sex   age  sibsp  parch     fare cabin\n",
       "1299       3    male  27.0      1      0  14.4542   NaN\n",
       "1300       3  female  15.0      1      0  14.4542   NaN\n",
       "1301       3    male  45.5      0      0   7.2250   NaN\n",
       "1302       3    male   NaN      0      0   7.2250   NaN\n",
       "1303       3    male   NaN      0      0  14.4583   NaN\n",
       "1304       3  female  14.5      1      0  14.4542   NaN\n",
       "1305       3  female   NaN      1      0  14.4542   NaN\n",
       "1306       3    male  26.5      0      0   7.2250   NaN\n",
       "1307       3    male  27.0      0      0   7.2250   NaN\n",
       "1308       3    male  29.0      0      0   7.8750   NaN"
      ]
     },
     "metadata": {},
     "output_type": "display_data"
    }
   ],
   "source": [
    "X.tail(10)"
   ]
  },
  {
   "cell_type": "code",
   "execution_count": 111,
   "metadata": {},
   "outputs": [
    {
     "data": {
      "text/html": [
       "<div>\n",
       "<style scoped>\n",
       "    .dataframe tbody tr th:only-of-type {\n",
       "        vertical-align: middle;\n",
       "    }\n",
       "\n",
       "    .dataframe tbody tr th {\n",
       "        vertical-align: top;\n",
       "    }\n",
       "\n",
       "    .dataframe thead th {\n",
       "        text-align: right;\n",
       "    }\n",
       "</style>\n",
       "<table border=\"1\" class=\"dataframe\">\n",
       "  <thead>\n",
       "    <tr style=\"text-align: right;\">\n",
       "      <th></th>\n",
       "      <th>age</th>\n",
       "      <th>sex</th>\n",
       "    </tr>\n",
       "  </thead>\n",
       "  <tbody>\n",
       "    <tr>\n",
       "      <th>15</th>\n",
       "      <td>30.585228</td>\n",
       "      <td>male</td>\n",
       "    </tr>\n",
       "    <tr>\n",
       "      <th>37</th>\n",
       "      <td>30.585228</td>\n",
       "      <td>male</td>\n",
       "    </tr>\n",
       "    <tr>\n",
       "      <th>40</th>\n",
       "      <td>30.585228</td>\n",
       "      <td>male</td>\n",
       "    </tr>\n",
       "    <tr>\n",
       "      <th>46</th>\n",
       "      <td>30.585228</td>\n",
       "      <td>male</td>\n",
       "    </tr>\n",
       "    <tr>\n",
       "      <th>59</th>\n",
       "      <td>28.687088</td>\n",
       "      <td>female</td>\n",
       "    </tr>\n",
       "    <tr>\n",
       "      <th>...</th>\n",
       "      <td>...</td>\n",
       "      <td>...</td>\n",
       "    </tr>\n",
       "    <tr>\n",
       "      <th>1293</th>\n",
       "      <td>30.585228</td>\n",
       "      <td>male</td>\n",
       "    </tr>\n",
       "    <tr>\n",
       "      <th>1297</th>\n",
       "      <td>30.585228</td>\n",
       "      <td>male</td>\n",
       "    </tr>\n",
       "    <tr>\n",
       "      <th>1302</th>\n",
       "      <td>30.585228</td>\n",
       "      <td>male</td>\n",
       "    </tr>\n",
       "    <tr>\n",
       "      <th>1303</th>\n",
       "      <td>30.585228</td>\n",
       "      <td>male</td>\n",
       "    </tr>\n",
       "    <tr>\n",
       "      <th>1305</th>\n",
       "      <td>28.687088</td>\n",
       "      <td>female</td>\n",
       "    </tr>\n",
       "  </tbody>\n",
       "</table>\n",
       "<p>263 rows × 2 columns</p>\n",
       "</div>"
      ],
      "text/plain": [
       "            age     sex\n",
       "15    30.585228    male\n",
       "37    30.585228    male\n",
       "40    30.585228    male\n",
       "46    30.585228    male\n",
       "59    28.687088  female\n",
       "...         ...     ...\n",
       "1293  30.585228    male\n",
       "1297  30.585228    male\n",
       "1302  30.585228    male\n",
       "1303  30.585228    male\n",
       "1305  28.687088  female\n",
       "\n",
       "[263 rows x 2 columns]"
      ]
     },
     "execution_count": 111,
     "metadata": {},
     "output_type": "execute_result"
    }
   ],
   "source": [
    "# do it manully \n",
    "\n",
    "X_complete = X.copy()\n",
    "na_idx = X_complete['age'].isna() # find the indices of the missing age value\n",
    "\n",
    "sex_na = X_complete[na_idx]['sex'] # find the gender of those observations which missing age value\n",
    "\n",
    "my_mean = X.groupby('sex').age.mean() # get the mean age for each gender\n",
    "replace_age = my_mean[sex_na].reset_index()# merge my_mean with sex_na & add index to replace values \n",
    "replace_age.set_index(sex_na.index, inplace=True) # set replacement index as those that need to be replaced\n",
    "\n",
    "X_complete.loc[sex_na.index, 'age'] = replace_age['age']\n",
    "X_complete[na_idx][['age', 'sex']]\n",
    "\n"
   ]
  },
  {
   "cell_type": "markdown",
   "metadata": {},
   "source": [
    "### Using models to impute data\n",
    "\n",
    "We can also use formal statistical models to impute data. \n",
    "\n",
    "In particular, we can just treat the missing data as a prediction problem, and predict the missing value using any of the models we will see in the upcoming lectures. There are also other more complex ways of dealing with this, but we will not go in more detail. See [here](https://scikit-learn.org/stable/modules/generated/sklearn.impute.IterativeImputer.html#sklearn.impute.IterativeImputer) for more details.\n"
   ]
  },
  {
   "cell_type": "markdown",
   "metadata": {},
   "source": [
    "### Feature transformation\n",
    "\n",
    "### Binning\n",
    "\n",
    "This is process of aggregating a continuous variable into bins. For example, from *grades* to *grade_class* (A, B, C).\n",
    "\n",
    "Check $sklearn$ function [`KBinsDiscretizer()`](https://scikit-learn.org/stable/modules/generated/sklearn.preprocessing.KBinsDiscretizer.html#sklearn.preprocessing.KBinsDiscretizer).\n",
    "\n",
    "### Log transform\n",
    "You may want to consider log transformations of your variables (this is very standard in economics and finance). Takings logs may decrease the effect of outliers on our models and provide a natural interpretation of coefficients in percentage terms.\n",
    "\n",
    "Note that the log should be used with caution for negative or zero valued random variables (one may use log (abs(x+1)) plus a dummy for negatives)\n",
    "\n",
    "### Example\n",
    "Toy example with titanic dataset.\n"
   ]
  },
  {
   "cell_type": "code",
   "execution_count": 114,
   "metadata": {},
   "outputs": [
    {
     "data": {
      "text/plain": [
       "Index(['pclass', 'survived', 'name', 'sex', 'age', 'sibsp', 'parch', 'ticket',\n",
       "       'fare', 'cabin', 'embarked', 'boat', 'body', 'home.dest'],\n",
       "      dtype='object')"
      ]
     },
     "execution_count": 114,
     "metadata": {},
     "output_type": "execute_result"
    }
   ],
   "source": [
    "# load it again to use features we had previously deleted\n",
    "data = pd.read_csv(\"https://github.com/barcelonagse-datascience/academic_files/raw/master/data/titanic3.csv\")\n",
    "\n",
    "data.columns"
   ]
  },
  {
   "cell_type": "code",
   "execution_count": 116,
   "metadata": {},
   "outputs": [
    {
     "data": {
      "text/plain": [
       "count    1308.000000\n",
       "mean       33.295479\n",
       "std        51.758668\n",
       "min         0.000000\n",
       "25%         7.895800\n",
       "50%        14.454200\n",
       "75%        31.275000\n",
       "max       512.329200\n",
       "Name: fare, dtype: float64"
      ]
     },
     "execution_count": 116,
     "metadata": {},
     "output_type": "execute_result"
    }
   ],
   "source": [
    "data.fare.describe()"
   ]
  },
  {
   "cell_type": "code",
   "execution_count": 176,
   "metadata": {},
   "outputs": [
    {
     "data": {
      "text/plain": [
       "<seaborn.axisgrid.FacetGrid at 0x167a84ba1d0>"
      ]
     },
     "execution_count": 176,
     "metadata": {},
     "output_type": "execute_result"
    },
    {
     "data": {
      "image/png": "[encoded data removed]",
      "text/plain": [
       "<Figure size 900x600 with 1 Axes>"
      ]
     },
     "metadata": {},
     "output_type": "display_data"
    },
    {
     "data": {
      "image/png": "[encoded data removed]",
      "text/plain": [
       "<Figure size 500x500 with 1 Axes>"
      ]
     },
     "metadata": {},
     "output_type": "display_data"
    }
   ],
   "source": [
    "# plot the distribution of fare with histogram, density plot\n",
    "fig = plt.figure(figsize=(9, 6))\n",
    "plt.hist(data.fare, bins=20)\n",
    "\n",
    "# by using sns\n",
    "sns.displot(data.fare, kde=True, bins=20)"
   ]
  },
  {
   "cell_type": "code",
   "execution_count": 143,
   "metadata": {},
   "outputs": [
    {
     "data": {
      "text/plain": [
       "<seaborn.axisgrid.FacetGrid at 0x1679d4c6620>"
      ]
     },
     "execution_count": 143,
     "metadata": {},
     "output_type": "execute_result"
    },
    {
     "data": {
      "image/png": "[encoded data removed]",
      "text/plain": [
       "<Figure size 500x500 with 1 Axes>"
      ]
     },
     "metadata": {},
     "output_type": "display_data"
    }
   ],
   "source": [
    "# construct the log of the fare\n",
    "data['log_fare'] = np.log(data.fare + 1) # remember there is 0 in the value\n",
    "\n",
    "sns.displot(data.log_fare, kde=True, bins=20)"
   ]
  },
  {
   "cell_type": "markdown",
   "metadata": {},
   "source": [
    "### Scaling (Normalization/Standardization)\n",
    "\n",
    "We typically want variables to have, loosely speaking, a sensible scale.\n",
    "A few usual options are ( see also [$sklearn.preprocessing$](https://scikit-learn.org/stable/modules/preprocessing.html) ):\n",
    "\n",
    "+ [`StandardScaler`](https://scikit-learn.org/stable/modules/generated/sklearn.preprocessing.StandardScaler.html): Removes the mean and scales to unit variance. This is the standard definition of scaling. After the transformation, all variables have the same mean (0) and variance (1).\n",
    "\n",
    "+ [`RobustScaler`](https://scikit-learn.org/stable/modules/generated/sklearn.preprocessing.RobustScaler.html): Similar to the StandardScaler but more robust to outliers. Removes the median and scales the data according to the quantile range (defaults to IQR: Interquartile Range). Note that now output won't have a mean of 0 and a standard deviation of 1\n",
    "+ [`MinMaxScaler`](https://scikit-learn.org/stable/modules/generated/sklearn.preprocessing.MinMaxScaler.html): Linear scaling to an output range, just considering the minimum and maximum. Just note that default range is (0,1). The output is not necessarily _well behaved_  and this is very sensible to outliers.\n"
   ]
  },
  {
   "cell_type": "code",
   "execution_count": 163,
   "metadata": {},
   "outputs": [
    {
     "data": {
      "text/html": [
       "<div>\n",
       "<style scoped>\n",
       "    .dataframe tbody tr th:only-of-type {\n",
       "        vertical-align: middle;\n",
       "    }\n",
       "\n",
       "    .dataframe tbody tr th {\n",
       "        vertical-align: top;\n",
       "    }\n",
       "\n",
       "    .dataframe thead th {\n",
       "        text-align: right;\n",
       "    }\n",
       "</style>\n",
       "<table border=\"1\" class=\"dataframe\">\n",
       "  <thead>\n",
       "    <tr style=\"text-align: right;\">\n",
       "      <th></th>\n",
       "      <th>fare_SS</th>\n",
       "      <th>fare_RS</th>\n",
       "      <th>fare_MMS</th>\n",
       "    </tr>\n",
       "  </thead>\n",
       "  <tbody>\n",
       "    <tr>\n",
       "      <th>count</th>\n",
       "      <td>1.308000e+03</td>\n",
       "      <td>1308.000000</td>\n",
       "      <td>1308.000000</td>\n",
       "    </tr>\n",
       "    <tr>\n",
       "      <th>mean</th>\n",
       "      <td>-8.691654e-17</td>\n",
       "      <td>0.805899</td>\n",
       "      <td>0.064988</td>\n",
       "    </tr>\n",
       "    <tr>\n",
       "      <th>std</th>\n",
       "      <td>1.000382e+00</td>\n",
       "      <td>2.213877</td>\n",
       "      <td>0.101026</td>\n",
       "    </tr>\n",
       "    <tr>\n",
       "      <th>min</th>\n",
       "      <td>-6.435292e-01</td>\n",
       "      <td>-0.618250</td>\n",
       "      <td>0.000000</td>\n",
       "    </tr>\n",
       "    <tr>\n",
       "      <th>25%</th>\n",
       "      <td>-4.909206e-01</td>\n",
       "      <td>-0.280523</td>\n",
       "      <td>0.015412</td>\n",
       "    </tr>\n",
       "    <tr>\n",
       "      <th>50%</th>\n",
       "      <td>-3.641609e-01</td>\n",
       "      <td>0.000000</td>\n",
       "      <td>0.028213</td>\n",
       "    </tr>\n",
       "    <tr>\n",
       "      <th>75%</th>\n",
       "      <td>-3.905147e-02</td>\n",
       "      <td>0.719477</td>\n",
       "      <td>0.061045</td>\n",
       "    </tr>\n",
       "    <tr>\n",
       "      <th>max</th>\n",
       "      <td>9.258680e+00</td>\n",
       "      <td>21.295639</td>\n",
       "      <td>1.000000</td>\n",
       "    </tr>\n",
       "  </tbody>\n",
       "</table>\n",
       "</div>"
      ],
      "text/plain": [
       "            fare_SS      fare_RS     fare_MMS\n",
       "count  1.308000e+03  1308.000000  1308.000000\n",
       "mean  -8.691654e-17     0.805899     0.064988\n",
       "std    1.000382e+00     2.213877     0.101026\n",
       "min   -6.435292e-01    -0.618250     0.000000\n",
       "25%   -4.909206e-01    -0.280523     0.015412\n",
       "50%   -3.641609e-01     0.000000     0.028213\n",
       "75%   -3.905147e-02     0.719477     0.061045\n",
       "max    9.258680e+00    21.295639     1.000000"
      ]
     },
     "execution_count": 163,
     "metadata": {},
     "output_type": "execute_result"
    }
   ],
   "source": [
    "from sklearn.preprocessing import RobustScaler, StandardScaler, MinMaxScaler\n",
    "\n",
    "SS = StandardScaler()\n",
    "RS = RobustScaler()\n",
    "MMS = MinMaxScaler()\n",
    "\n",
    "data['fare_SS'] = SS.fit_transform(data[['fare']])\n",
    "data['fare_RS'] = RS.fit_transform(data[['fare']])\n",
    "data['fare_MMS'] = MMS.fit_transform(data[['fare']])\n",
    "\n",
    "data[['fare_SS', 'fare_RS', 'fare_MMS']].describe()"
   ]
  },
  {
   "cell_type": "code",
   "execution_count": 177,
   "metadata": {},
   "outputs": [
    {
     "data": {
      "text/plain": [
       "<AxesSubplot: xlabel='fare_MMS', ylabel='Count'>"
      ]
     },
     "execution_count": 177,
     "metadata": {},
     "output_type": "execute_result"
    },
    {
     "data": {
      "image/png": "[encoded data removed]",
      "text/plain": [
       "<Figure size 1600x900 with 3 Axes>"
      ]
     },
     "metadata": {},
     "output_type": "display_data"
    }
   ],
   "source": [
    "# plot the standardized data\n",
    "\n",
    "fig, axes = plt.subplots(nrows=1, ncols=3, \n",
    "                         figsize=(16, 9),\n",
    "                         sharey=True)\n",
    "\n",
    "sns.histplot(data.fare_SS, kde=True, bins=20, ax=axes[0])\n",
    "sns.histplot(data.fare_RS, kde=True, bins=20, ax=axes[1])\n",
    "sns.histplot(data.fare_MMS, kde=True, bins=20, ax=axes[2])"
   ]
  },
  {
   "cell_type": "markdown",
   "metadata": {},
   "source": [
    "### Feature Split\n",
    "\n",
    "Especially valid for categorical data. After data exploration, you may observe that there is some structure in your data that you may want to exploit. One way to do so would be to split the data using some heuristics.\n",
    "\n",
    "For example, for the titanic dataset, the *cabin* column has values such as B22, C12, A4, which indicates that it's probably worth to split into two (e.g. B+22, C+12, A+4) for a better representation of a spatial distribution of cabins. With hotel rooms, it may be similar (e.g. room 112 into 1(floor)+12(room number))."
   ]
  },
  {
   "cell_type": "code",
   "execution_count": 178,
   "metadata": {},
   "outputs": [
    {
     "data": {
      "text/plain": [
       "0         B5\n",
       "1    C22 C26\n",
       "2    C22 C26\n",
       "3    C22 C26\n",
       "4    C22 C26\n",
       "Name: cabin, dtype: object"
      ]
     },
     "execution_count": 178,
     "metadata": {},
     "output_type": "execute_result"
    }
   ],
   "source": [
    "data.cabin.head()"
   ]
  },
  {
   "cell_type": "code",
   "execution_count": 195,
   "metadata": {},
   "outputs": [
    {
     "data": {
      "text/html": [
       "<div>\n",
       "<style scoped>\n",
       "    .dataframe tbody tr th:only-of-type {\n",
       "        vertical-align: middle;\n",
       "    }\n",
       "\n",
       "    .dataframe tbody tr th {\n",
       "        vertical-align: top;\n",
       "    }\n",
       "\n",
       "    .dataframe thead th {\n",
       "        text-align: right;\n",
       "    }\n",
       "</style>\n",
       "<table border=\"1\" class=\"dataframe\">\n",
       "  <thead>\n",
       "    <tr style=\"text-align: right;\">\n",
       "      <th></th>\n",
       "      <th>cabin</th>\n",
       "      <th>cabin1</th>\n",
       "      <th>cabin2</th>\n",
       "    </tr>\n",
       "  </thead>\n",
       "  <tbody>\n",
       "    <tr>\n",
       "      <th>0</th>\n",
       "      <td>B5</td>\n",
       "      <td>B</td>\n",
       "      <td>5</td>\n",
       "    </tr>\n",
       "    <tr>\n",
       "      <th>1</th>\n",
       "      <td>C22 C26</td>\n",
       "      <td>C</td>\n",
       "      <td>22</td>\n",
       "    </tr>\n",
       "    <tr>\n",
       "      <th>2</th>\n",
       "      <td>C22 C26</td>\n",
       "      <td>C</td>\n",
       "      <td>22</td>\n",
       "    </tr>\n",
       "    <tr>\n",
       "      <th>3</th>\n",
       "      <td>C22 C26</td>\n",
       "      <td>C</td>\n",
       "      <td>22</td>\n",
       "    </tr>\n",
       "    <tr>\n",
       "      <th>4</th>\n",
       "      <td>C22 C26</td>\n",
       "      <td>C</td>\n",
       "      <td>22</td>\n",
       "    </tr>\n",
       "    <tr>\n",
       "      <th>5</th>\n",
       "      <td>E12</td>\n",
       "      <td>E</td>\n",
       "      <td>12</td>\n",
       "    </tr>\n",
       "    <tr>\n",
       "      <th>6</th>\n",
       "      <td>D7</td>\n",
       "      <td>D</td>\n",
       "      <td>7</td>\n",
       "    </tr>\n",
       "    <tr>\n",
       "      <th>7</th>\n",
       "      <td>A36</td>\n",
       "      <td>A</td>\n",
       "      <td>36</td>\n",
       "    </tr>\n",
       "    <tr>\n",
       "      <th>8</th>\n",
       "      <td>C101</td>\n",
       "      <td>C</td>\n",
       "      <td>101</td>\n",
       "    </tr>\n",
       "    <tr>\n",
       "      <th>9</th>\n",
       "      <td>0000000</td>\n",
       "      <td>0</td>\n",
       "      <td>000000</td>\n",
       "    </tr>\n",
       "  </tbody>\n",
       "</table>\n",
       "</div>"
      ],
      "text/plain": [
       "     cabin cabin1  cabin2\n",
       "0       B5      B       5\n",
       "1  C22 C26      C      22\n",
       "2  C22 C26      C      22\n",
       "3  C22 C26      C      22\n",
       "4  C22 C26      C      22\n",
       "5      E12      E      12\n",
       "6       D7      D       7\n",
       "7      A36      A      36\n",
       "8     C101      C     101\n",
       "9  0000000      0  000000"
      ]
     },
     "execution_count": 195,
     "metadata": {},
     "output_type": "execute_result"
    }
   ],
   "source": [
    "# Cabin has a few NAS, for simplicity of exposition, lets replace them with a clear NA string\n",
    "\n",
    "data.cabin.fillna('0000000', inplace=True)\n",
    "\n",
    "# Split cabin in two\n",
    "data['cabin1'] = [x.split()[0][0] for x in data.cabin]\n",
    "data['cabin2'] = [x.split()[0][1:] for x in data.cabin]\n",
    "data[['cabin','cabin1','cabin2']].head(10)"
   ]
  },
  {
   "cell_type": "markdown",
   "metadata": {},
   "source": [
    "### Date-time category extraction\n",
    "\n",
    "From a date input, it might be useful to extract features like *day of week*, *month*, *year*, etc.. These could be important if there is some seasonality related to those units of measure.  For example, dummies like *Holiday_period* or *Working_day* might be important.\n",
    "\n",
    "### Combine Sparse Classes\n",
    "When dealing with categories, you might test the frequency of certain classes, and group the less frequent classes, but making sure that their behavior is similar with respect to the target to predict. \n"
   ]
  },
  {
   "cell_type": "markdown",
   "metadata": {},
   "source": [
    "### Outlier detection\n",
    "\n",
    "Training our model on data that has *strange* observations may be misleading.\n",
    "\n",
    "That's why it might be important to remove or treat those observations from our training dataset. Also identifying those in the test set for prediction is important, because one should expect bad performance of our model on those.\n",
    "\n",
    "Outliers in the target output are also interesting to isolate in a regression problem.\n",
    "\n",
    "Here we point out some methods of outlier detection:\n",
    "- One dimension:\n",
    "    - **Standard Deviation method**: Values beyond $|\\bar{x}+k\\sigma|$, for some $k>0$ (typically, $k=3$ could be a choice). \n",
    "    - **Interquartile Range method**: Values below $Q_1-1.5IQR$ or above $Q_3+1.5IQR$, which is the criteria used for boxplots. $Q_1$ and $Q_3$ are quartiles, $IQR$ the interquartile range.\n",
    "- Multiple dimensions:\n",
    "    - [**Mahalanobis distance** with Minimum Covariance Determinant estimator (MCD)](https://scikit-learn.org/stable/auto_examples/covariance/plot_mahalanobis_distances.html). Just for numerical features, and better if they have been normalized.\n",
    "    - [**Isolation forests**](https://scikit-learn.org/stable/modules/generated/sklearn.ensemble.IsolationForest.html), a tree-based anomaly detection algorithm. Main idea: do random cuts in the dataset until we isolate observations. When a forest of random trees collectively produce shorter path lengths for particular samples, they are highly likely to be anomalies.\n",
    "    - [**Local Outlier Factor**](https://scikit-learn.org/stable/modules/generated/sklearn.neighbors.LocalOutlierFactor.html). Main idea is to locate those examples that are far from the other examples in the feature space, using certain measure of distance, following nearest neighbor general idea. \n",
    "    - [**One-Class SVM**](https://scikit-learn.org/stable/modules/generated/sklearn.svm.OneClassSVM.html). It turns out that we can frame outlier detection as a classification problem with only one class using SVM. Depending on the kernel, we find a non-linear boundary for outliers. Find an [example here](https://scikit-learn.org/stable/auto_examples/applications/plot_outlier_detection_wine.html#sphx-glr-auto-examples-applications-plot-outlier-detection-wine-py).\n",
    "    \n",
    "Check this [complete example](https://scikit-learn.org/stable/auto_examples/miscellaneous/plot_anomaly_comparison.html#sphx-glr-auto-examples-miscellaneous-plot-anomaly-comparison-py) for comparing methods for a particular use case.\n",
    "\n",
    "As an alternative to $sklearn$, you can check the Python Outlier Detection package [$PyOD$](https://github.com/yzhao062/pyod), that includes many more methods including neural networks and autoencoders. \n",
    "\n",
    "### Caution: \n",
    "Outliers should not *always* be thrown out. For instance, for economic time series, should we \"trim\" out the covid-19 crisis episode?"
   ]
  },
  {
   "cell_type": "markdown",
   "metadata": {},
   "source": [
    "## Feature generation"
   ]
  },
  {
   "cell_type": "markdown",
   "metadata": {},
   "source": [
    "### Create interaction features\n",
    "Linearity is a convenient modeling assumption, but it may be restrictive. It then becomes useful to consider interaction between features (or feature transformations) to capture relevant nonlinearities. We will see more about this in a bit.\n",
    "\n",
    "### Numerical features\n",
    "\n",
    "We may, for instance, consider polynomials of some inputs by raising them to a certain power. We may also consider cross-products of inputs (e.g. convert units sold to revenue by multiplying by prices), sums (e.g. if they are two subcategories), differences (e.g. difference in date) or ratios (e.g. students per professor) between two input features. \n",
    "\n",
    "If you don't scale your data, you can also create *ratios* or *differences* of features versus an average value.\n",
    "\n",
    "In terms of out-of-the box functions, to generate polynomial features you can use [`PolynomialFeatures`](https://scikit-learn.org/stable/modules/generated/sklearn.preprocessing.PolynomialFeatures.html), find an [example here](https://machinelearningmastery.com/polynomial-features-transforms-for-machine-learning/).\n",
    "Here you have another [example](https://towardsdatascience.com/feature-engineering-combination-polynomial-features-3caa4c77a755) that explores just for a linear model combinations of features using `itertools.combinations` to generate them. \n",
    "\n",
    "Alternatively, we may prefer methods that explicitly incorporates nonlinearties, such as *decision trees* or *neural networks*. \n",
    "\n",
    "### Adding domain knowledge\n",
    "This simple step basically consists of adding as features any relevant information that you may have about your data. Generally speaking, one can easily include some information as a dummy or category.\n",
    "\n",
    "Easiest example is adding 'events' to a time series, such as sovereign debt crisis, housing debt crisis etc. This helps the model to treat a subset of data in a different way. \n",
    "\n",
    "### Adding External data\n",
    "Not having a good understanding of the context of your prediction problem may lead you to miss some relevant factors that affect your outcome. This is a hint for you to complement your input data with external information that might be relevant.\n",
    "\n",
    "You may probably scrape data on internet to find this external data.\n",
    "\n",
    "Here some examples:\n",
    "+ Context Economic indicators (GDP, average salary, etc.), political indicators, social indicators, etc.\n",
    "+ Time series evolution/pattern of similar entities.\n",
    "+ Geographical info: From city, region info, obtain average position (UTM coordinates, latitude, longitude), so that you can identify neighbor observations (even add average features of close observations). The inverse also holds: from latitude/longitude or coordinates, compute not only features of neighbor observations, but also categories such as country, city, region, etc."
   ]
  },
  {
   "cell_type": "markdown",
   "metadata": {},
   "source": [
    "## Error Analysis\n",
    "After one modeling round, this consists of analyzing your errors and trying to find patterns related to your inputs. For instance, you may infer that your performance is poor for a particular city, or social class, or a combination of those. This would give you some hints to improve your feature engineering. You might do some clustering on you *'bad prediction'* dataset, to help you detect patterns.\n",
    "\n",
    "You can also check observations with huge errors (especially for regression problems), which may lead you to new data preprocessing (e.g. outlier management), or to a new feature engineering step."
   ]
  },
  {
   "cell_type": "markdown",
   "metadata": {},
   "source": [
    "## Hints for practitioners\n",
    "\n",
    "### Quick imputation\n",
    "\n",
    "For a quick fix, one can use $sklearn.impute.SimpleImputer$ function, that has following parameters:\n",
    "\n",
    "+ *missing_values* : Which value has to be considered as a missing value.\n",
    "+ *strategy* : The imputation strategy ('mean', 'median', 'most_frequent', 'constant'), by column of missing data\n",
    "+ *fill_value* : Assign string or numerical value, optional (default=None)\n",
    "+ *add_indicator* : boolean. Creates a boolean feature (column) per column with missing data \n",
    "\n",
    "### Missing indicator: Don't lose information\n",
    "\n",
    "Add boolean columns to keep track of data that was originally missing.\n",
    "\n",
    "``` python\n",
    "dataframe['is_null_Column_Name'] = dataframe.Column_Name.isnull().astype(int)\n",
    "```\n",
    "As an alternative, use $sklearn.impute.MissingIndicator$.\n"
   ]
  },
  {
   "cell_type": "markdown",
   "metadata": {},
   "source": [
    "### Time series imputation\n",
    "Filling gaps in time series is a particular case of handling missing data. \n",
    "Time series vary by nature, but there are a few common patterns.\n",
    "\n",
    "Often, there are missing values in the _beginning_ of the dataframe. A general solution here is to start analysis at a later date, when this is possible.\n",
    "\n",
    "Alternatively, there may be missing values in the _end_ of the dataframe due to some series being updated faster than others. A general solution here is to cut-off the last, say, couple of observations.\n",
    "\n",
    "More problematic cases happen when we have missing data in the _middle_ of the dataframe. If the missing data is randomly missing, a suggestion is to simply use the mean of the column. **However**, if the missing data is due to a particular event (say a stock market's circuit breakers), then the mean may be an overly optimistic value for the missing value, and care must be taken.\n",
    "\n",
    "In addition, interpolation may be used for time series as well."
   ]
  },
  {
   "cell_type": "markdown",
   "metadata": {},
   "source": [
    "## Making pipelines\n",
    "$Sklearn$ library *pipeline* allows sequencing your tasks and quickly build a pipeline to transform you data and apply any model.\n",
    "\n",
    "```python\n",
    "from sklearn.pipeline import make_pipeline\n",
    "\n",
    "model = make_pipeline(Imputer(strategy='mean'),\n",
    "                      PolynomialFeatures(degree=2),\n",
    "                      LinearRegression())\n",
    "model.fit(X, y)\n",
    "```\n",
    "\n",
    "## *ColumnTransformer*\n",
    "\n",
    "sklearn $ColumnTransformer$ allows to generate different pipelines for different columns. Very useful when splitting the preprocessing for categorical and numerical columns, for instance.\n",
    "\n",
    "Check [this example](https://scikit-learn.org/stable/auto_examples/compose/plot_column_transformer_mixed_types.html#sphx-glr-auto-examples-compose-plot-column-transformer-mixed-types-py) from sklearn documention for a joint use of ColumnTransformer and Pipeline.\n"
   ]
  },
  {
   "cell_type": "code",
   "execution_count": 247,
   "metadata": {},
   "outputs": [
    {
     "name": "stdout",
     "output_type": "stream",
     "text": [
      "pclass       0\n",
      "sex          0\n",
      "age        263\n",
      "sibsp        0\n",
      "parch        0\n",
      "fare         1\n",
      "cabin     1014\n",
      "dtype: int64\n"
     ]
    },
    {
     "data": {
      "text/plain": [
       "age       263\n",
       "fare        1\n",
       "cabin    1014\n",
       "dtype: int64"
      ]
     },
     "execution_count": 247,
     "metadata": {},
     "output_type": "execute_result"
    }
   ],
   "source": [
    "# Example of missing indicator generation\n",
    "\n",
    "from sklearn.impute import MissingIndicator\n",
    "indicator = MissingIndicator(features='missing-only')\n",
    "\n",
    "indicator.fit(X)\n",
    "print(X.isnull().sum())\n",
    "\n",
    "X2 = pd.DataFrame(indicator.transform(X))\n",
    "nulls = X.isnull().sum()\n",
    "X2.columns = X.columns[nulls > 0]\n",
    "X2.sum()\n",
    "\n"
   ]
  },
  {
   "cell_type": "markdown",
   "metadata": {},
   "source": [
    "### References\n",
    "\n",
    "Casari, A., Zheng, A., 2018. *Feature Engineering for Machine Learning*. O'Reilly Media.\n",
    "\n",
    "Kuhn, M., Johnson, K. . 2019. [*Feature Engineering and Selection: A Practical Approach for Predictive Models*](http://www.feat.engineering/)\n",
    "\n",
    "Skit-Learn documentation. [*Feature extraction*](https://scikit-learn.org/stable/modules/feature_extraction.html)\n",
    "\n",
    "Scikit-learn documentation. *Imputing missing values with variants of IterativeImputer*.  https://scikit-learn.org/stable/auto_examples/impute/plot_iterative_imputer_variants_comparison.html\n",
    "\n"
   ]
  }
 ],
 "metadata": {
  "kernelspec": {
   "display_name": "Python 3 (ipykernel)",
   "language": "python",
   "name": "python3"
  },
  "language_info": {
   "codemirror_mode": {
    "name": "ipython",
    "version": 3
   },
   "file_extension": ".py",
   "mimetype": "text/x-python",
   "name": "python",
   "nbconvert_exporter": "python",
   "pygments_lexer": "ipython3",
   "version": "3.9.12"
  },
  "vscode": {
   "interpreter": {
    "hash": "cb7eae22b3a28430044b167b2f91d2eb913632173e49b3dfc217d3fa48268c7b"
   }
  }
 },
 "nbformat": 4,
 "nbformat_minor": 2
}
