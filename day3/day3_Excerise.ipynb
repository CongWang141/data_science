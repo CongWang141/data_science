{
 "cells": [
  {
   "cell_type": "markdown",
   "metadata": {},
   "source": [
    "## Exercise session 3: Forcasting with non-linear models\n",
    "\n",
    "We will continue our industrial production forecasting exercise, but now we will include more flexibel models into our toolkit."
   ]
  },
  {
   "cell_type": "markdown",
   "metadata": {},
   "source": [
    "## Import the required modules\n",
    "\n",
    "There are the basic imports, but feel free to add anything you my need."
   ]
  },
  {
   "cell_type": "code",
   "execution_count": 4,
   "metadata": {},
   "outputs": [],
   "source": [
    "import pandas as pd\n",
    "import numpy as np\n",
    "import seaborn as sns\n",
    "import sklearn \n",
    "import matplotlib.pyplot as plt\n",
    "import matplotlib.dates as mdates"
   ]
  },
  {
   "cell_type": "markdown",
   "metadata": {},
   "source": [
    "## Read the data\n",
    "Remember that the data can be found on \n",
    "https://raw.githubusercontent.com/barcelonagse-datascience/academic_datasets/main/fredmd_transformed.csv"
   ]
  },
  {
   "cell_type": "code",
   "execution_count": 5,
   "metadata": {},
   "outputs": [
    {
     "data": {
      "text/html": [
       "<div>\n",
       "<style scoped>\n",
       "    .dataframe tbody tr th:only-of-type {\n",
       "        vertical-align: middle;\n",
       "    }\n",
       "\n",
       "    .dataframe tbody tr th {\n",
       "        vertical-align: top;\n",
       "    }\n",
       "\n",
       "    .dataframe thead th {\n",
       "        text-align: right;\n",
       "    }\n",
       "</style>\n",
       "<table border=\"1\" class=\"dataframe\">\n",
       "  <thead>\n",
       "    <tr style=\"text-align: right;\">\n",
       "      <th></th>\n",
       "      <th>dates</th>\n",
       "      <th>RPI</th>\n",
       "      <th>W875RX1</th>\n",
       "      <th>DPCERA3M086SBEA</th>\n",
       "      <th>CMRMTSPLx</th>\n",
       "      <th>RETAILx</th>\n",
       "      <th>INDPRO</th>\n",
       "      <th>IPFPNSS</th>\n",
       "      <th>IPFINAL</th>\n",
       "      <th>IPCONGD</th>\n",
       "      <th>...</th>\n",
       "      <th>DDURRG3M086SBEA</th>\n",
       "      <th>DNDGRG3M086SBEA</th>\n",
       "      <th>DSERRG3M086SBEA</th>\n",
       "      <th>CES0600000008</th>\n",
       "      <th>CES2000000008</th>\n",
       "      <th>CES3000000008</th>\n",
       "      <th>DTCOLNVHFNM</th>\n",
       "      <th>DTCTHFNM</th>\n",
       "      <th>INVEST</th>\n",
       "      <th>VIXCLSx</th>\n",
       "    </tr>\n",
       "  </thead>\n",
       "  <tbody>\n",
       "    <tr>\n",
       "      <th>0</th>\n",
       "      <td>1959-03-01</td>\n",
       "      <td>0.006430</td>\n",
       "      <td>0.007359</td>\n",
       "      <td>0.009410</td>\n",
       "      <td>-0.003423</td>\n",
       "      <td>0.008321</td>\n",
       "      <td>0.014303</td>\n",
       "      <td>0.006036</td>\n",
       "      <td>0.004899</td>\n",
       "      <td>0.000000</td>\n",
       "      <td>...</td>\n",
       "      <td>0.000666</td>\n",
       "      <td>-0.001124</td>\n",
       "      <td>0.000262</td>\n",
       "      <td>-0.000022</td>\n",
       "      <td>-0.008147</td>\n",
       "      <td>0.004819</td>\n",
       "      <td>0.004929</td>\n",
       "      <td>0.004138</td>\n",
       "      <td>-0.014792</td>\n",
       "      <td>19.311543</td>\n",
       "    </tr>\n",
       "    <tr>\n",
       "      <th>1</th>\n",
       "      <td>1959-04-01</td>\n",
       "      <td>0.006494</td>\n",
       "      <td>0.007049</td>\n",
       "      <td>-0.003639</td>\n",
       "      <td>0.019922</td>\n",
       "      <td>0.000616</td>\n",
       "      <td>0.021077</td>\n",
       "      <td>0.014338</td>\n",
       "      <td>0.014542</td>\n",
       "      <td>0.015653</td>\n",
       "      <td>...</td>\n",
       "      <td>-0.000229</td>\n",
       "      <td>0.001349</td>\n",
       "      <td>0.001752</td>\n",
       "      <td>-0.000022</td>\n",
       "      <td>0.012203</td>\n",
       "      <td>-0.004890</td>\n",
       "      <td>0.012134</td>\n",
       "      <td>0.006734</td>\n",
       "      <td>0.024929</td>\n",
       "      <td>19.311543</td>\n",
       "    </tr>\n",
       "    <tr>\n",
       "      <th>2</th>\n",
       "      <td>1959-05-01</td>\n",
       "      <td>0.005763</td>\n",
       "      <td>0.006616</td>\n",
       "      <td>0.012005</td>\n",
       "      <td>0.006797</td>\n",
       "      <td>0.007803</td>\n",
       "      <td>0.014950</td>\n",
       "      <td>0.008269</td>\n",
       "      <td>0.009583</td>\n",
       "      <td>0.004768</td>\n",
       "      <td>...</td>\n",
       "      <td>0.000646</td>\n",
       "      <td>-0.001687</td>\n",
       "      <td>-0.001937</td>\n",
       "      <td>-0.000021</td>\n",
       "      <td>-0.004090</td>\n",
       "      <td>-0.004819</td>\n",
       "      <td>0.002828</td>\n",
       "      <td>0.002020</td>\n",
       "      <td>-0.015342</td>\n",
       "      <td>19.311543</td>\n",
       "    </tr>\n",
       "    <tr>\n",
       "      <th>3</th>\n",
       "      <td>1959-06-01</td>\n",
       "      <td>0.003102</td>\n",
       "      <td>0.002974</td>\n",
       "      <td>0.003708</td>\n",
       "      <td>-0.000052</td>\n",
       "      <td>0.009064</td>\n",
       "      <td>0.001144</td>\n",
       "      <td>0.007034</td>\n",
       "      <td>0.007126</td>\n",
       "      <td>-0.004768</td>\n",
       "      <td>...</td>\n",
       "      <td>0.000329</td>\n",
       "      <td>0.003316</td>\n",
       "      <td>0.002093</td>\n",
       "      <td>-0.004619</td>\n",
       "      <td>0.003992</td>\n",
       "      <td>0.004796</td>\n",
       "      <td>0.009726</td>\n",
       "      <td>0.009007</td>\n",
       "      <td>-0.012252</td>\n",
       "      <td>19.311543</td>\n",
       "    </tr>\n",
       "    <tr>\n",
       "      <th>4</th>\n",
       "      <td>1959-07-01</td>\n",
       "      <td>-0.000589</td>\n",
       "      <td>-0.000764</td>\n",
       "      <td>-0.003427</td>\n",
       "      <td>0.012110</td>\n",
       "      <td>-0.000330</td>\n",
       "      <td>-0.024238</td>\n",
       "      <td>0.001167</td>\n",
       "      <td>0.008247</td>\n",
       "      <td>0.013056</td>\n",
       "      <td>...</td>\n",
       "      <td>-0.001521</td>\n",
       "      <td>-0.001238</td>\n",
       "      <td>-0.000100</td>\n",
       "      <td>0.000000</td>\n",
       "      <td>-0.004040</td>\n",
       "      <td>-0.004796</td>\n",
       "      <td>-0.004631</td>\n",
       "      <td>-0.001000</td>\n",
       "      <td>0.029341</td>\n",
       "      <td>19.311543</td>\n",
       "    </tr>\n",
       "  </tbody>\n",
       "</table>\n",
       "<p>5 rows × 124 columns</p>\n",
       "</div>"
      ],
      "text/plain": [
       "        dates       RPI   W875RX1  DPCERA3M086SBEA  CMRMTSPLx   RETAILx  \\\n",
       "0  1959-03-01  0.006430  0.007359         0.009410  -0.003423  0.008321   \n",
       "1  1959-04-01  0.006494  0.007049        -0.003639   0.019922  0.000616   \n",
       "2  1959-05-01  0.005763  0.006616         0.012005   0.006797  0.007803   \n",
       "3  1959-06-01  0.003102  0.002974         0.003708  -0.000052  0.009064   \n",
       "4  1959-07-01 -0.000589 -0.000764        -0.003427   0.012110 -0.000330   \n",
       "\n",
       "     INDPRO   IPFPNSS   IPFINAL   IPCONGD  ...  DDURRG3M086SBEA  \\\n",
       "0  0.014303  0.006036  0.004899  0.000000  ...         0.000666   \n",
       "1  0.021077  0.014338  0.014542  0.015653  ...        -0.000229   \n",
       "2  0.014950  0.008269  0.009583  0.004768  ...         0.000646   \n",
       "3  0.001144  0.007034  0.007126 -0.004768  ...         0.000329   \n",
       "4 -0.024238  0.001167  0.008247  0.013056  ...        -0.001521   \n",
       "\n",
       "   DNDGRG3M086SBEA  DSERRG3M086SBEA  CES0600000008  CES2000000008  \\\n",
       "0        -0.001124         0.000262      -0.000022      -0.008147   \n",
       "1         0.001349         0.001752      -0.000022       0.012203   \n",
       "2        -0.001687        -0.001937      -0.000021      -0.004090   \n",
       "3         0.003316         0.002093      -0.004619       0.003992   \n",
       "4        -0.001238        -0.000100       0.000000      -0.004040   \n",
       "\n",
       "   CES3000000008  DTCOLNVHFNM  DTCTHFNM    INVEST    VIXCLSx  \n",
       "0       0.004819     0.004929  0.004138 -0.014792  19.311543  \n",
       "1      -0.004890     0.012134  0.006734  0.024929  19.311543  \n",
       "2      -0.004819     0.002828  0.002020 -0.015342  19.311543  \n",
       "3       0.004796     0.009726  0.009007 -0.012252  19.311543  \n",
       "4      -0.004796    -0.004631 -0.001000  0.029341  19.311543  \n",
       "\n",
       "[5 rows x 124 columns]"
      ]
     },
     "execution_count": 5,
     "metadata": {},
     "output_type": "execute_result"
    }
   ],
   "source": [
    "dt = pd.read_csv('https://raw.githubusercontent.com/barcelonagse-datascience/academic_datasets/main/fredmd_transformed.csv')\n",
    "\n",
    "dt.head()"
   ]
  },
  {
   "cell_type": "markdown",
   "metadata": {},
   "source": [
    "Next, lets set the date to be the index.\n"
   ]
  },
  {
   "cell_type": "code",
   "execution_count": 6,
   "metadata": {},
   "outputs": [
    {
     "data": {
      "text/html": [
       "<div>\n",
       "<style scoped>\n",
       "    .dataframe tbody tr th:only-of-type {\n",
       "        vertical-align: middle;\n",
       "    }\n",
       "\n",
       "    .dataframe tbody tr th {\n",
       "        vertical-align: top;\n",
       "    }\n",
       "\n",
       "    .dataframe thead th {\n",
       "        text-align: right;\n",
       "    }\n",
       "</style>\n",
       "<table border=\"1\" class=\"dataframe\">\n",
       "  <thead>\n",
       "    <tr style=\"text-align: right;\">\n",
       "      <th></th>\n",
       "      <th>RPI</th>\n",
       "      <th>W875RX1</th>\n",
       "      <th>DPCERA3M086SBEA</th>\n",
       "      <th>CMRMTSPLx</th>\n",
       "      <th>RETAILx</th>\n",
       "      <th>INDPRO</th>\n",
       "      <th>IPFPNSS</th>\n",
       "      <th>IPFINAL</th>\n",
       "      <th>IPCONGD</th>\n",
       "      <th>IPDCONGD</th>\n",
       "      <th>...</th>\n",
       "      <th>DDURRG3M086SBEA</th>\n",
       "      <th>DNDGRG3M086SBEA</th>\n",
       "      <th>DSERRG3M086SBEA</th>\n",
       "      <th>CES0600000008</th>\n",
       "      <th>CES2000000008</th>\n",
       "      <th>CES3000000008</th>\n",
       "      <th>DTCOLNVHFNM</th>\n",
       "      <th>DTCTHFNM</th>\n",
       "      <th>INVEST</th>\n",
       "      <th>VIXCLSx</th>\n",
       "    </tr>\n",
       "    <tr>\n",
       "      <th>dates</th>\n",
       "      <th></th>\n",
       "      <th></th>\n",
       "      <th></th>\n",
       "      <th></th>\n",
       "      <th></th>\n",
       "      <th></th>\n",
       "      <th></th>\n",
       "      <th></th>\n",
       "      <th></th>\n",
       "      <th></th>\n",
       "      <th></th>\n",
       "      <th></th>\n",
       "      <th></th>\n",
       "      <th></th>\n",
       "      <th></th>\n",
       "      <th></th>\n",
       "      <th></th>\n",
       "      <th></th>\n",
       "      <th></th>\n",
       "      <th></th>\n",
       "      <th></th>\n",
       "    </tr>\n",
       "  </thead>\n",
       "  <tbody>\n",
       "    <tr>\n",
       "      <th>1959-03-01</th>\n",
       "      <td>0.006430</td>\n",
       "      <td>0.007359</td>\n",
       "      <td>0.009410</td>\n",
       "      <td>-0.003423</td>\n",
       "      <td>0.008321</td>\n",
       "      <td>0.014303</td>\n",
       "      <td>0.006036</td>\n",
       "      <td>0.004899</td>\n",
       "      <td>0.000000</td>\n",
       "      <td>0.019397</td>\n",
       "      <td>...</td>\n",
       "      <td>0.000666</td>\n",
       "      <td>-0.001124</td>\n",
       "      <td>0.000262</td>\n",
       "      <td>-0.000022</td>\n",
       "      <td>-0.008147</td>\n",
       "      <td>0.004819</td>\n",
       "      <td>0.004929</td>\n",
       "      <td>0.004138</td>\n",
       "      <td>-0.014792</td>\n",
       "      <td>19.311543</td>\n",
       "    </tr>\n",
       "    <tr>\n",
       "      <th>1959-04-01</th>\n",
       "      <td>0.006494</td>\n",
       "      <td>0.007049</td>\n",
       "      <td>-0.003639</td>\n",
       "      <td>0.019922</td>\n",
       "      <td>0.000616</td>\n",
       "      <td>0.021077</td>\n",
       "      <td>0.014338</td>\n",
       "      <td>0.014542</td>\n",
       "      <td>0.015653</td>\n",
       "      <td>0.006379</td>\n",
       "      <td>...</td>\n",
       "      <td>-0.000229</td>\n",
       "      <td>0.001349</td>\n",
       "      <td>0.001752</td>\n",
       "      <td>-0.000022</td>\n",
       "      <td>0.012203</td>\n",
       "      <td>-0.004890</td>\n",
       "      <td>0.012134</td>\n",
       "      <td>0.006734</td>\n",
       "      <td>0.024929</td>\n",
       "      <td>19.311543</td>\n",
       "    </tr>\n",
       "    <tr>\n",
       "      <th>1959-05-01</th>\n",
       "      <td>0.005763</td>\n",
       "      <td>0.006616</td>\n",
       "      <td>0.012005</td>\n",
       "      <td>0.006797</td>\n",
       "      <td>0.007803</td>\n",
       "      <td>0.014950</td>\n",
       "      <td>0.008269</td>\n",
       "      <td>0.009583</td>\n",
       "      <td>0.004768</td>\n",
       "      <td>0.020151</td>\n",
       "      <td>...</td>\n",
       "      <td>0.000646</td>\n",
       "      <td>-0.001687</td>\n",
       "      <td>-0.001937</td>\n",
       "      <td>-0.000021</td>\n",
       "      <td>-0.004090</td>\n",
       "      <td>-0.004819</td>\n",
       "      <td>0.002828</td>\n",
       "      <td>0.002020</td>\n",
       "      <td>-0.015342</td>\n",
       "      <td>19.311543</td>\n",
       "    </tr>\n",
       "    <tr>\n",
       "      <th>1959-06-01</th>\n",
       "      <td>0.003102</td>\n",
       "      <td>0.002974</td>\n",
       "      <td>0.003708</td>\n",
       "      <td>-0.000052</td>\n",
       "      <td>0.009064</td>\n",
       "      <td>0.001144</td>\n",
       "      <td>0.007034</td>\n",
       "      <td>0.007126</td>\n",
       "      <td>-0.004768</td>\n",
       "      <td>0.007452</td>\n",
       "      <td>...</td>\n",
       "      <td>0.000329</td>\n",
       "      <td>0.003316</td>\n",
       "      <td>0.002093</td>\n",
       "      <td>-0.004619</td>\n",
       "      <td>0.003992</td>\n",
       "      <td>0.004796</td>\n",
       "      <td>0.009726</td>\n",
       "      <td>0.009007</td>\n",
       "      <td>-0.012252</td>\n",
       "      <td>19.311543</td>\n",
       "    </tr>\n",
       "    <tr>\n",
       "      <th>1959-07-01</th>\n",
       "      <td>-0.000589</td>\n",
       "      <td>-0.000764</td>\n",
       "      <td>-0.003427</td>\n",
       "      <td>0.012110</td>\n",
       "      <td>-0.000330</td>\n",
       "      <td>-0.024238</td>\n",
       "      <td>0.001167</td>\n",
       "      <td>0.008247</td>\n",
       "      <td>0.013056</td>\n",
       "      <td>0.019613</td>\n",
       "      <td>...</td>\n",
       "      <td>-0.001521</td>\n",
       "      <td>-0.001238</td>\n",
       "      <td>-0.000100</td>\n",
       "      <td>0.000000</td>\n",
       "      <td>-0.004040</td>\n",
       "      <td>-0.004796</td>\n",
       "      <td>-0.004631</td>\n",
       "      <td>-0.001000</td>\n",
       "      <td>0.029341</td>\n",
       "      <td>19.311543</td>\n",
       "    </tr>\n",
       "  </tbody>\n",
       "</table>\n",
       "<p>5 rows × 123 columns</p>\n",
       "</div>"
      ],
      "text/plain": [
       "                 RPI   W875RX1  DPCERA3M086SBEA  CMRMTSPLx   RETAILx  \\\n",
       "dates                                                                  \n",
       "1959-03-01  0.006430  0.007359         0.009410  -0.003423  0.008321   \n",
       "1959-04-01  0.006494  0.007049        -0.003639   0.019922  0.000616   \n",
       "1959-05-01  0.005763  0.006616         0.012005   0.006797  0.007803   \n",
       "1959-06-01  0.003102  0.002974         0.003708  -0.000052  0.009064   \n",
       "1959-07-01 -0.000589 -0.000764        -0.003427   0.012110 -0.000330   \n",
       "\n",
       "              INDPRO   IPFPNSS   IPFINAL   IPCONGD  IPDCONGD  ...  \\\n",
       "dates                                                         ...   \n",
       "1959-03-01  0.014303  0.006036  0.004899  0.000000  0.019397  ...   \n",
       "1959-04-01  0.021077  0.014338  0.014542  0.015653  0.006379  ...   \n",
       "1959-05-01  0.014950  0.008269  0.009583  0.004768  0.020151  ...   \n",
       "1959-06-01  0.001144  0.007034  0.007126 -0.004768  0.007452  ...   \n",
       "1959-07-01 -0.024238  0.001167  0.008247  0.013056  0.019613  ...   \n",
       "\n",
       "            DDURRG3M086SBEA  DNDGRG3M086SBEA  DSERRG3M086SBEA  CES0600000008  \\\n",
       "dates                                                                          \n",
       "1959-03-01         0.000666        -0.001124         0.000262      -0.000022   \n",
       "1959-04-01        -0.000229         0.001349         0.001752      -0.000022   \n",
       "1959-05-01         0.000646        -0.001687        -0.001937      -0.000021   \n",
       "1959-06-01         0.000329         0.003316         0.002093      -0.004619   \n",
       "1959-07-01        -0.001521        -0.001238        -0.000100       0.000000   \n",
       "\n",
       "            CES2000000008  CES3000000008  DTCOLNVHFNM  DTCTHFNM    INVEST  \\\n",
       "dates                                                                       \n",
       "1959-03-01      -0.008147       0.004819     0.004929  0.004138 -0.014792   \n",
       "1959-04-01       0.012203      -0.004890     0.012134  0.006734  0.024929   \n",
       "1959-05-01      -0.004090      -0.004819     0.002828  0.002020 -0.015342   \n",
       "1959-06-01       0.003992       0.004796     0.009726  0.009007 -0.012252   \n",
       "1959-07-01      -0.004040      -0.004796    -0.004631 -0.001000  0.029341   \n",
       "\n",
       "              VIXCLSx  \n",
       "dates                  \n",
       "1959-03-01  19.311543  \n",
       "1959-04-01  19.311543  \n",
       "1959-05-01  19.311543  \n",
       "1959-06-01  19.311543  \n",
       "1959-07-01  19.311543  \n",
       "\n",
       "[5 rows x 123 columns]"
      ]
     },
     "execution_count": 6,
     "metadata": {},
     "output_type": "execute_result"
    }
   ],
   "source": [
    "dt.set_index('dates', inplace = True)\n",
    "dt.head()"
   ]
  },
  {
   "cell_type": "markdown",
   "metadata": {},
   "source": [
    "Scale all columns of the dataset to have mean 0 and variance 1.\n",
    "_hint_: you may use `import sklearn.preprocessing`"
   ]
  },
  {
   "cell_type": "code",
   "execution_count": 7,
   "metadata": {},
   "outputs": [
    {
     "data": {
      "text/html": [
       "<div>\n",
       "<style scoped>\n",
       "    .dataframe tbody tr th:only-of-type {\n",
       "        vertical-align: middle;\n",
       "    }\n",
       "\n",
       "    .dataframe tbody tr th {\n",
       "        vertical-align: top;\n",
       "    }\n",
       "\n",
       "    .dataframe thead th {\n",
       "        text-align: right;\n",
       "    }\n",
       "</style>\n",
       "<table border=\"1\" class=\"dataframe\">\n",
       "  <thead>\n",
       "    <tr style=\"text-align: right;\">\n",
       "      <th></th>\n",
       "      <th>RPI</th>\n",
       "      <th>W875RX1</th>\n",
       "      <th>DPCERA3M086SBEA</th>\n",
       "      <th>CMRMTSPLx</th>\n",
       "      <th>RETAILx</th>\n",
       "      <th>INDPRO</th>\n",
       "      <th>IPFPNSS</th>\n",
       "      <th>IPFINAL</th>\n",
       "      <th>IPCONGD</th>\n",
       "      <th>IPDCONGD</th>\n",
       "      <th>...</th>\n",
       "      <th>DDURRG3M086SBEA</th>\n",
       "      <th>DNDGRG3M086SBEA</th>\n",
       "      <th>DSERRG3M086SBEA</th>\n",
       "      <th>CES0600000008</th>\n",
       "      <th>CES2000000008</th>\n",
       "      <th>CES3000000008</th>\n",
       "      <th>DTCOLNVHFNM</th>\n",
       "      <th>DTCTHFNM</th>\n",
       "      <th>INVEST</th>\n",
       "      <th>VIXCLSx</th>\n",
       "    </tr>\n",
       "  </thead>\n",
       "  <tbody>\n",
       "    <tr>\n",
       "      <th>count</th>\n",
       "      <td>7.560000e+02</td>\n",
       "      <td>7.560000e+02</td>\n",
       "      <td>7.560000e+02</td>\n",
       "      <td>7.560000e+02</td>\n",
       "      <td>7.560000e+02</td>\n",
       "      <td>7.560000e+02</td>\n",
       "      <td>7.560000e+02</td>\n",
       "      <td>7.560000e+02</td>\n",
       "      <td>7.560000e+02</td>\n",
       "      <td>7.560000e+02</td>\n",
       "      <td>...</td>\n",
       "      <td>7.560000e+02</td>\n",
       "      <td>7.560000e+02</td>\n",
       "      <td>756.000000</td>\n",
       "      <td>7.560000e+02</td>\n",
       "      <td>7.560000e+02</td>\n",
       "      <td>7.560000e+02</td>\n",
       "      <td>7.560000e+02</td>\n",
       "      <td>7.560000e+02</td>\n",
       "      <td>7.560000e+02</td>\n",
       "      <td>7.560000e+02</td>\n",
       "    </tr>\n",
       "    <tr>\n",
       "      <th>mean</th>\n",
       "      <td>-1.174839e-17</td>\n",
       "      <td>6.579099e-17</td>\n",
       "      <td>2.819614e-17</td>\n",
       "      <td>-4.699357e-18</td>\n",
       "      <td>-1.409807e-17</td>\n",
       "      <td>-2.819614e-17</td>\n",
       "      <td>-2.819614e-17</td>\n",
       "      <td>-9.398713e-18</td>\n",
       "      <td>-1.879743e-17</td>\n",
       "      <td>1.174839e-17</td>\n",
       "      <td>...</td>\n",
       "      <td>-5.580486e-18</td>\n",
       "      <td>1.116097e-17</td>\n",
       "      <td>0.000000</td>\n",
       "      <td>7.930164e-18</td>\n",
       "      <td>-1.468549e-19</td>\n",
       "      <td>-5.139921e-18</td>\n",
       "      <td>2.937098e-18</td>\n",
       "      <td>8.077019e-18</td>\n",
       "      <td>-2.643388e-17</td>\n",
       "      <td>-6.579099e-17</td>\n",
       "    </tr>\n",
       "    <tr>\n",
       "      <th>std</th>\n",
       "      <td>1.000662e+00</td>\n",
       "      <td>1.000662e+00</td>\n",
       "      <td>1.000662e+00</td>\n",
       "      <td>1.000662e+00</td>\n",
       "      <td>1.000662e+00</td>\n",
       "      <td>1.000662e+00</td>\n",
       "      <td>1.000662e+00</td>\n",
       "      <td>1.000662e+00</td>\n",
       "      <td>1.000662e+00</td>\n",
       "      <td>1.000662e+00</td>\n",
       "      <td>...</td>\n",
       "      <td>1.000662e+00</td>\n",
       "      <td>1.000662e+00</td>\n",
       "      <td>1.000662</td>\n",
       "      <td>1.000662e+00</td>\n",
       "      <td>1.000662e+00</td>\n",
       "      <td>1.000662e+00</td>\n",
       "      <td>1.000662e+00</td>\n",
       "      <td>1.000662e+00</td>\n",
       "      <td>1.000662e+00</td>\n",
       "      <td>1.000662e+00</td>\n",
       "    </tr>\n",
       "    <tr>\n",
       "      <th>min</th>\n",
       "      <td>-1.242462e+01</td>\n",
       "      <td>-1.028163e+01</td>\n",
       "      <td>-1.549383e+01</td>\n",
       "      <td>-9.843525e+00</td>\n",
       "      <td>-1.073914e+01</td>\n",
       "      <td>-1.460038e+01</td>\n",
       "      <td>-1.563609e+01</td>\n",
       "      <td>-1.523883e+01</td>\n",
       "      <td>-1.167044e+01</td>\n",
       "      <td>-1.462878e+01</td>\n",
       "      <td>...</td>\n",
       "      <td>-4.340731e+00</td>\n",
       "      <td>-6.232716e+00</td>\n",
       "      <td>-5.904988</td>\n",
       "      <td>-7.396798e+00</td>\n",
       "      <td>-7.533595e+00</td>\n",
       "      <td>-5.659297e+00</td>\n",
       "      <td>-7.378700e+00</td>\n",
       "      <td>-1.309921e+01</td>\n",
       "      <td>-7.485062e+00</td>\n",
       "      <td>-1.414470e+00</td>\n",
       "    </tr>\n",
       "    <tr>\n",
       "      <th>25%</th>\n",
       "      <td>-1.632271e-01</td>\n",
       "      <td>-3.595907e-01</td>\n",
       "      <td>-3.139022e-01</td>\n",
       "      <td>-4.824972e-01</td>\n",
       "      <td>-3.706509e-01</td>\n",
       "      <td>-3.729558e-01</td>\n",
       "      <td>-4.249124e-01</td>\n",
       "      <td>-4.128702e-01</td>\n",
       "      <td>-4.586841e-01</td>\n",
       "      <td>-3.179502e-01</td>\n",
       "      <td>...</td>\n",
       "      <td>-5.374330e-01</td>\n",
       "      <td>-4.393429e-01</td>\n",
       "      <td>-0.523145</td>\n",
       "      <td>-5.477844e-01</td>\n",
       "      <td>-3.829426e-01</td>\n",
       "      <td>-5.045325e-01</td>\n",
       "      <td>-2.922384e-01</td>\n",
       "      <td>-2.086809e-01</td>\n",
       "      <td>-5.459749e-01</td>\n",
       "      <td>-7.034632e-01</td>\n",
       "    </tr>\n",
       "    <tr>\n",
       "      <th>50%</th>\n",
       "      <td>1.256528e-02</td>\n",
       "      <td>7.221165e-02</td>\n",
       "      <td>-1.164952e-03</td>\n",
       "      <td>-6.722099e-03</td>\n",
       "      <td>5.081663e-03</td>\n",
       "      <td>4.921314e-02</td>\n",
       "      <td>4.765765e-02</td>\n",
       "      <td>2.349049e-02</td>\n",
       "      <td>2.576197e-02</td>\n",
       "      <td>1.645651e-02</td>\n",
       "      <td>...</td>\n",
       "      <td>-1.503014e-03</td>\n",
       "      <td>7.905672e-03</td>\n",
       "      <td>-0.050272</td>\n",
       "      <td>-3.094968e-03</td>\n",
       "      <td>-2.777845e-03</td>\n",
       "      <td>-1.257342e-03</td>\n",
       "      <td>2.131623e-02</td>\n",
       "      <td>2.979170e-02</td>\n",
       "      <td>3.746222e-02</td>\n",
       "      <td>-1.833793e-01</td>\n",
       "    </tr>\n",
       "    <tr>\n",
       "      <th>75%</th>\n",
       "      <td>1.794693e-01</td>\n",
       "      <td>4.101448e-01</td>\n",
       "      <td>3.653208e-01</td>\n",
       "      <td>5.033178e-01</td>\n",
       "      <td>3.827306e-01</td>\n",
       "      <td>4.466236e-01</td>\n",
       "      <td>4.656015e-01</td>\n",
       "      <td>4.699518e-01</td>\n",
       "      <td>4.827687e-01</td>\n",
       "      <td>3.406371e-01</td>\n",
       "      <td>...</td>\n",
       "      <td>5.464641e-01</td>\n",
       "      <td>4.836568e-01</td>\n",
       "      <td>0.490176</td>\n",
       "      <td>5.006779e-01</td>\n",
       "      <td>3.861573e-01</td>\n",
       "      <td>4.482282e-01</td>\n",
       "      <td>2.869060e-01</td>\n",
       "      <td>2.472941e-01</td>\n",
       "      <td>5.585715e-01</td>\n",
       "      <td>4.293951e-01</td>\n",
       "    </tr>\n",
       "    <tr>\n",
       "      <th>max</th>\n",
       "      <td>1.496211e+01</td>\n",
       "      <td>6.150492e+00</td>\n",
       "      <td>9.189616e+00</td>\n",
       "      <td>5.896904e+00</td>\n",
       "      <td>1.052245e+01</td>\n",
       "      <td>5.726670e+00</td>\n",
       "      <td>6.446423e+00</td>\n",
       "      <td>7.070150e+00</td>\n",
       "      <td>7.093082e+00</td>\n",
       "      <td>9.693228e+00</td>\n",
       "      <td>...</td>\n",
       "      <td>5.174846e+00</td>\n",
       "      <td>4.609044e+00</td>\n",
       "      <td>9.988570</td>\n",
       "      <td>4.838749e+00</td>\n",
       "      <td>5.870688e+00</td>\n",
       "      <td>5.231250e+00</td>\n",
       "      <td>7.855875e+00</td>\n",
       "      <td>1.302253e+01</td>\n",
       "      <td>4.636349e+00</td>\n",
       "      <td>6.283231e+00</td>\n",
       "    </tr>\n",
       "  </tbody>\n",
       "</table>\n",
       "<p>8 rows × 123 columns</p>\n",
       "</div>"
      ],
      "text/plain": [
       "                RPI       W875RX1  DPCERA3M086SBEA     CMRMTSPLx  \\\n",
       "count  7.560000e+02  7.560000e+02     7.560000e+02  7.560000e+02   \n",
       "mean  -1.174839e-17  6.579099e-17     2.819614e-17 -4.699357e-18   \n",
       "std    1.000662e+00  1.000662e+00     1.000662e+00  1.000662e+00   \n",
       "min   -1.242462e+01 -1.028163e+01    -1.549383e+01 -9.843525e+00   \n",
       "25%   -1.632271e-01 -3.595907e-01    -3.139022e-01 -4.824972e-01   \n",
       "50%    1.256528e-02  7.221165e-02    -1.164952e-03 -6.722099e-03   \n",
       "75%    1.794693e-01  4.101448e-01     3.653208e-01  5.033178e-01   \n",
       "max    1.496211e+01  6.150492e+00     9.189616e+00  5.896904e+00   \n",
       "\n",
       "            RETAILx        INDPRO       IPFPNSS       IPFINAL       IPCONGD  \\\n",
       "count  7.560000e+02  7.560000e+02  7.560000e+02  7.560000e+02  7.560000e+02   \n",
       "mean  -1.409807e-17 -2.819614e-17 -2.819614e-17 -9.398713e-18 -1.879743e-17   \n",
       "std    1.000662e+00  1.000662e+00  1.000662e+00  1.000662e+00  1.000662e+00   \n",
       "min   -1.073914e+01 -1.460038e+01 -1.563609e+01 -1.523883e+01 -1.167044e+01   \n",
       "25%   -3.706509e-01 -3.729558e-01 -4.249124e-01 -4.128702e-01 -4.586841e-01   \n",
       "50%    5.081663e-03  4.921314e-02  4.765765e-02  2.349049e-02  2.576197e-02   \n",
       "75%    3.827306e-01  4.466236e-01  4.656015e-01  4.699518e-01  4.827687e-01   \n",
       "max    1.052245e+01  5.726670e+00  6.446423e+00  7.070150e+00  7.093082e+00   \n",
       "\n",
       "           IPDCONGD  ...  DDURRG3M086SBEA  DNDGRG3M086SBEA  DSERRG3M086SBEA  \\\n",
       "count  7.560000e+02  ...     7.560000e+02     7.560000e+02       756.000000   \n",
       "mean   1.174839e-17  ...    -5.580486e-18     1.116097e-17         0.000000   \n",
       "std    1.000662e+00  ...     1.000662e+00     1.000662e+00         1.000662   \n",
       "min   -1.462878e+01  ...    -4.340731e+00    -6.232716e+00        -5.904988   \n",
       "25%   -3.179502e-01  ...    -5.374330e-01    -4.393429e-01        -0.523145   \n",
       "50%    1.645651e-02  ...    -1.503014e-03     7.905672e-03        -0.050272   \n",
       "75%    3.406371e-01  ...     5.464641e-01     4.836568e-01         0.490176   \n",
       "max    9.693228e+00  ...     5.174846e+00     4.609044e+00         9.988570   \n",
       "\n",
       "       CES0600000008  CES2000000008  CES3000000008   DTCOLNVHFNM  \\\n",
       "count   7.560000e+02   7.560000e+02   7.560000e+02  7.560000e+02   \n",
       "mean    7.930164e-18  -1.468549e-19  -5.139921e-18  2.937098e-18   \n",
       "std     1.000662e+00   1.000662e+00   1.000662e+00  1.000662e+00   \n",
       "min    -7.396798e+00  -7.533595e+00  -5.659297e+00 -7.378700e+00   \n",
       "25%    -5.477844e-01  -3.829426e-01  -5.045325e-01 -2.922384e-01   \n",
       "50%    -3.094968e-03  -2.777845e-03  -1.257342e-03  2.131623e-02   \n",
       "75%     5.006779e-01   3.861573e-01   4.482282e-01  2.869060e-01   \n",
       "max     4.838749e+00   5.870688e+00   5.231250e+00  7.855875e+00   \n",
       "\n",
       "           DTCTHFNM        INVEST       VIXCLSx  \n",
       "count  7.560000e+02  7.560000e+02  7.560000e+02  \n",
       "mean   8.077019e-18 -2.643388e-17 -6.579099e-17  \n",
       "std    1.000662e+00  1.000662e+00  1.000662e+00  \n",
       "min   -1.309921e+01 -7.485062e+00 -1.414470e+00  \n",
       "25%   -2.086809e-01 -5.459749e-01 -7.034632e-01  \n",
       "50%    2.979170e-02  3.746222e-02 -1.833793e-01  \n",
       "75%    2.472941e-01  5.585715e-01  4.293951e-01  \n",
       "max    1.302253e+01  4.636349e+00  6.283231e+00  \n",
       "\n",
       "[8 rows x 123 columns]"
      ]
     },
     "execution_count": 7,
     "metadata": {},
     "output_type": "execute_result"
    }
   ],
   "source": [
    "import sklearn.preprocessing\n",
    "sklearn.preprocessing.scale(dt, copy = False)\n",
    "dt.describe()"
   ]
  },
  {
   "cell_type": "markdown",
   "metadata": {},
   "source": [
    "Create a variable called `IS` to hold a boolean mask for the InSample data.  Then, define `dt_train` and `dt_test`, as the insample (training) and out-of-sample (testing) versions of our dataset. We define as insample everything up to 1999-12-01, so that our first forecast is for 2000-01-01."
   ]
  },
  {
   "cell_type": "code",
   "execution_count": 8,
   "metadata": {},
   "outputs": [],
   "source": [
    "IS = dt.index > '1999-12-01'\n",
    "dt_train = dt.loc[~IS, :]\n",
    "dt_test = dt.loc[IS, :]"
   ]
  },
  {
   "cell_type": "markdown",
   "metadata": {},
   "source": [
    "\n",
    "**Remember**: our forecasting model should be a function of the past! \n",
    "$$ \\hat{y}_{t+1} = f(\\bf{x}_{t})$$\n",
    "Keeping this observation in mind and using `dt_train` and `dt_test`, construct the variables `y_train`, `y_test`, `X_train` and `X_test`.\n",
    "Remember that our goal is to forecast Industrial Production (INDPRO).\n",
    "_hint_: you may want to use `.iloc`."
   ]
  },
  {
   "cell_type": "code",
   "execution_count": 9,
   "metadata": {},
   "outputs": [],
   "source": [
    "X_train = dt_train.iloc[ :-1]\n",
    "y_train = dt_train['INDPRO'].iloc[1: ]\n",
    "\n",
    "X_test = dt_test.iloc[ :-1]\n",
    "y_test = dt_test['INDPRO'].iloc[1: ]"
   ]
  },
  {
   "cell_type": "markdown",
   "metadata": {},
   "source": [
    "If everything is good, the output of\n",
    "```python\n",
    "X_train.index[0] , y_train.index[0], X_test.index[0], y_test.index[0]\n",
    "```\n",
    "should be\n",
    "```python\n",
    "('1959-03-01', '1959-04-01', '1999-12-01', '2000-01-01')\n",
    "```\n",
    "highlighting that we are using information from 1999-12-01 to forecast 2000-01-01."
   ]
  },
  {
   "cell_type": "code",
   "execution_count": 10,
   "metadata": {},
   "outputs": [
    {
     "data": {
      "text/plain": [
       "('1959-03-01', '1959-04-01', '2000-01-01', '2000-02-01')"
      ]
     },
     "execution_count": 10,
     "metadata": {},
     "output_type": "execute_result"
    }
   ],
   "source": [
    "X_train.index[0], y_train.index[0], X_test.index[0], y_test.index[0]"
   ]
  },
  {
   "cell_type": "markdown",
   "metadata": {},
   "source": [
    "Next, we create pandas dataframes to hold our (out of sample) forecasts, our forecast errors and the mean squared error of our forecasts.\n",
    "The rows of `forecasts` and `forecast_err` dataframes should be indexed by the date for which the forecast is made."
   ]
  },
  {
   "cell_type": "code",
   "execution_count": 11,
   "metadata": {},
   "outputs": [
    {
     "data": {
      "text/plain": [
       "'2000-02-01'"
      ]
     },
     "execution_count": 11,
     "metadata": {},
     "output_type": "execute_result"
    }
   ],
   "source": [
    "forecasts = pd.DataFrame(index = y_test.index)\n",
    "forecast_err = pd.DataFrame(index = y_test.index)\n",
    "forecasts.index[0]"
   ]
  },
  {
   "cell_type": "markdown",
   "metadata": {},
   "source": [
    "## Forecasting Models\n",
    "\n",
    "Now we will define our forecasting models. Lets keep the unconditional mean for benchmarking purposes.\n",
    "\n",
    "## Unconditinal mean\n",
    "\n",
    "First, define a function `naive_forecaster`, that takes as argument `y_train` and returns the mean of `y_train`"
   ]
  },
  {
   "cell_type": "code",
   "execution_count": 12,
   "metadata": {},
   "outputs": [],
   "source": [
    "def naive_forcaster(y_train):\n",
    "  return np.mean(y_train)"
   ]
  },
  {
   "cell_type": "markdown",
   "metadata": {},
   "source": [
    "Again, better coding practice would be to define a function to handle all forecasting for us. But to develop understanding, we split this into many tasks."
   ]
  },
  {
   "cell_type": "markdown",
   "metadata": {},
   "source": [
    "## K-Nearest Neighbors\n",
    "\n",
    "Lets consider K-Nearest Neighbors to forecast. Recall that the tuning parameter of kNN is the choice of $k$, the number of neighbors to consider when averaging.\n",
    "Lets define an instance of KNN for regression."
   ]
  },
  {
   "cell_type": "code",
   "execution_count": 13,
   "metadata": {},
   "outputs": [],
   "source": [
    "from sklearn.neighbors import KNeighborsRegressor\n",
    "from sklearn.model_selection import GridSearchCV\n",
    "\n",
    "knn = KNeighborsRegressor()"
   ]
  },
  {
   "cell_type": "markdown",
   "metadata": {},
   "source": [
    "Next, we need to define a grid for tuning parameters. kNN is computationally fast, so we can try a large grid. Create a grid starting from 1 and ending at 100."
   ]
  },
  {
   "cell_type": "code",
   "execution_count": 14,
   "metadata": {},
   "outputs": [],
   "source": [
    "neighbors = np.arange(1, 100, 1)"
   ]
  },
  {
   "cell_type": "markdown",
   "metadata": {},
   "source": [
    "Lets set up the GridSearch for parameters. A useful starting point is understanding the docs:"
   ]
  },
  {
   "cell_type": "markdown",
   "metadata": {},
   "source": [
    "It is important to notice that the tuning parameters must be passed as a dictionary (or a list of dictionaries). We also want to set `return_train_score` to True.\n",
    "Create the parameters dictionary, and use it to instantiate the GridSearchCV."
   ]
  },
  {
   "cell_type": "code",
   "execution_count": 15,
   "metadata": {},
   "outputs": [],
   "source": [
    "param = {'n_neighbors': neighbors}\n",
    "knnCV = GridSearchCV(estimator = knn,\n",
    "                     param_grid = param,\n",
    "                     cv = 5,\n",
    "                     return_train_score = True,\n",
    "                     verbose = 0,\n",
    "                     refit = True,\n",
    "                     scoring = 'neg_mean_squared_error')\n",
    "\n",
    "# string for scoring https://scikit-learn.org/stable/modules/model_evaluation.html#scoring-parameter"
   ]
  },
  {
   "cell_type": "markdown",
   "metadata": {},
   "source": [
    "Next, we fit the instance just created to our training data."
   ]
  },
  {
   "cell_type": "code",
   "execution_count": 16,
   "metadata": {},
   "outputs": [
    {
     "data": {
      "text/html": [
       "<style>#sk-container-id-1 {color: black;background-color: white;}#sk-container-id-1 pre{padding: 0;}#sk-container-id-1 div.sk-toggleable {background-color: white;}#sk-container-id-1 label.sk-toggleable__label {cursor: pointer;display: block;width: 100%;margin-bottom: 0;padding: 0.3em;box-sizing: border-box;text-align: center;}#sk-container-id-1 label.sk-toggleable__label-arrow:before {content: \"▸\";float: left;margin-right: 0.25em;color: #696969;}#sk-container-id-1 label.sk-toggleable__label-arrow:hover:before {color: black;}#sk-container-id-1 div.sk-estimator:hover label.sk-toggleable__label-arrow:before {color: black;}#sk-container-id-1 div.sk-toggleable__content {max-height: 0;max-width: 0;overflow: hidden;text-align: left;background-color: #f0f8ff;}#sk-container-id-1 div.sk-toggleable__content pre {margin: 0.2em;color: black;border-radius: 0.25em;background-color: #f0f8ff;}#sk-container-id-1 input.sk-toggleable__control:checked~div.sk-toggleable__content {max-height: 200px;max-width: 100%;overflow: auto;}#sk-container-id-1 input.sk-toggleable__control:checked~label.sk-toggleable__label-arrow:before {content: \"▾\";}#sk-container-id-1 div.sk-estimator input.sk-toggleable__control:checked~label.sk-toggleable__label {background-color: #d4ebff;}#sk-container-id-1 div.sk-label input.sk-toggleable__control:checked~label.sk-toggleable__label {background-color: #d4ebff;}#sk-container-id-1 input.sk-hidden--visually {border: 0;clip: rect(1px 1px 1px 1px);clip: rect(1px, 1px, 1px, 1px);height: 1px;margin: -1px;overflow: hidden;padding: 0;position: absolute;width: 1px;}#sk-container-id-1 div.sk-estimator {font-family: monospace;background-color: #f0f8ff;border: 1px dotted black;border-radius: 0.25em;box-sizing: border-box;margin-bottom: 0.5em;}#sk-container-id-1 div.sk-estimator:hover {background-color: #d4ebff;}#sk-container-id-1 div.sk-parallel-item::after {content: \"\";width: 100%;border-bottom: 1px solid gray;flex-grow: 1;}#sk-container-id-1 div.sk-label:hover label.sk-toggleable__label {background-color: #d4ebff;}#sk-container-id-1 div.sk-serial::before {content: \"\";position: absolute;border-left: 1px solid gray;box-sizing: border-box;top: 0;bottom: 0;left: 50%;z-index: 0;}#sk-container-id-1 div.sk-serial {display: flex;flex-direction: column;align-items: center;background-color: white;padding-right: 0.2em;padding-left: 0.2em;position: relative;}#sk-container-id-1 div.sk-item {position: relative;z-index: 1;}#sk-container-id-1 div.sk-parallel {display: flex;align-items: stretch;justify-content: center;background-color: white;position: relative;}#sk-container-id-1 div.sk-item::before, #sk-container-id-1 div.sk-parallel-item::before {content: \"\";position: absolute;border-left: 1px solid gray;box-sizing: border-box;top: 0;bottom: 0;left: 50%;z-index: -1;}#sk-container-id-1 div.sk-parallel-item {display: flex;flex-direction: column;z-index: 1;position: relative;background-color: white;}#sk-container-id-1 div.sk-parallel-item:first-child::after {align-self: flex-end;width: 50%;}#sk-container-id-1 div.sk-parallel-item:last-child::after {align-self: flex-start;width: 50%;}#sk-container-id-1 div.sk-parallel-item:only-child::after {width: 0;}#sk-container-id-1 div.sk-dashed-wrapped {border: 1px dashed gray;margin: 0 0.4em 0.5em 0.4em;box-sizing: border-box;padding-bottom: 0.4em;background-color: white;}#sk-container-id-1 div.sk-label label {font-family: monospace;font-weight: bold;display: inline-block;line-height: 1.2em;}#sk-container-id-1 div.sk-label-container {text-align: center;}#sk-container-id-1 div.sk-container {/* jupyter's `normalize.less` sets `[hidden] { display: none; }` but bootstrap.min.css set `[hidden] { display: none !important; }` so we also need the `!important` here to be able to override the default hidden behavior on the sphinx rendered scikit-learn.org. See: https://github.com/scikit-learn/scikit-learn/issues/21755 */display: inline-block !important;position: relative;}#sk-container-id-1 div.sk-text-repr-fallback {display: none;}</style><div id=\"sk-container-id-1\" class=\"sk-top-container\"><div class=\"sk-text-repr-fallback\"><pre>GridSearchCV(cv=5, estimator=KNeighborsRegressor(),\n",
       "             param_grid={&#x27;n_neighbors&#x27;: array([ 1,  2,  3,  4,  5,  6,  7,  8,  9, 10, 11, 12, 13, 14, 15, 16, 17,\n",
       "       18, 19, 20, 21, 22, 23, 24, 25, 26, 27, 28, 29, 30, 31, 32, 33, 34,\n",
       "       35, 36, 37, 38, 39, 40, 41, 42, 43, 44, 45, 46, 47, 48, 49, 50, 51,\n",
       "       52, 53, 54, 55, 56, 57, 58, 59, 60, 61, 62, 63, 64, 65, 66, 67, 68,\n",
       "       69, 70, 71, 72, 73, 74, 75, 76, 77, 78, 79, 80, 81, 82, 83, 84, 85,\n",
       "       86, 87, 88, 89, 90, 91, 92, 93, 94, 95, 96, 97, 98, 99])},\n",
       "             return_train_score=True, scoring=&#x27;neg_mean_squared_error&#x27;)</pre><b>In a Jupyter environment, please rerun this cell to show the HTML representation or trust the notebook. <br />On GitHub, the HTML representation is unable to render, please try loading this page with nbviewer.org.</b></div><div class=\"sk-container\" hidden><div class=\"sk-item sk-dashed-wrapped\"><div class=\"sk-label-container\"><div class=\"sk-label sk-toggleable\"><input class=\"sk-toggleable__control sk-hidden--visually\" id=\"sk-estimator-id-1\" type=\"checkbox\" ><label for=\"sk-estimator-id-1\" class=\"sk-toggleable__label sk-toggleable__label-arrow\">GridSearchCV</label><div class=\"sk-toggleable__content\"><pre>GridSearchCV(cv=5, estimator=KNeighborsRegressor(),\n",
       "             param_grid={&#x27;n_neighbors&#x27;: array([ 1,  2,  3,  4,  5,  6,  7,  8,  9, 10, 11, 12, 13, 14, 15, 16, 17,\n",
       "       18, 19, 20, 21, 22, 23, 24, 25, 26, 27, 28, 29, 30, 31, 32, 33, 34,\n",
       "       35, 36, 37, 38, 39, 40, 41, 42, 43, 44, 45, 46, 47, 48, 49, 50, 51,\n",
       "       52, 53, 54, 55, 56, 57, 58, 59, 60, 61, 62, 63, 64, 65, 66, 67, 68,\n",
       "       69, 70, 71, 72, 73, 74, 75, 76, 77, 78, 79, 80, 81, 82, 83, 84, 85,\n",
       "       86, 87, 88, 89, 90, 91, 92, 93, 94, 95, 96, 97, 98, 99])},\n",
       "             return_train_score=True, scoring=&#x27;neg_mean_squared_error&#x27;)</pre></div></div></div><div class=\"sk-parallel\"><div class=\"sk-parallel-item\"><div class=\"sk-item\"><div class=\"sk-label-container\"><div class=\"sk-label sk-toggleable\"><input class=\"sk-toggleable__control sk-hidden--visually\" id=\"sk-estimator-id-2\" type=\"checkbox\" ><label for=\"sk-estimator-id-2\" class=\"sk-toggleable__label sk-toggleable__label-arrow\">estimator: KNeighborsRegressor</label><div class=\"sk-toggleable__content\"><pre>KNeighborsRegressor()</pre></div></div></div><div class=\"sk-serial\"><div class=\"sk-item\"><div class=\"sk-estimator sk-toggleable\"><input class=\"sk-toggleable__control sk-hidden--visually\" id=\"sk-estimator-id-3\" type=\"checkbox\" ><label for=\"sk-estimator-id-3\" class=\"sk-toggleable__label sk-toggleable__label-arrow\">KNeighborsRegressor</label><div class=\"sk-toggleable__content\"><pre>KNeighborsRegressor()</pre></div></div></div></div></div></div></div></div></div></div>"
      ],
      "text/plain": [
       "GridSearchCV(cv=5, estimator=KNeighborsRegressor(),\n",
       "             param_grid={'n_neighbors': array([ 1,  2,  3,  4,  5,  6,  7,  8,  9, 10, 11, 12, 13, 14, 15, 16, 17,\n",
       "       18, 19, 20, 21, 22, 23, 24, 25, 26, 27, 28, 29, 30, 31, 32, 33, 34,\n",
       "       35, 36, 37, 38, 39, 40, 41, 42, 43, 44, 45, 46, 47, 48, 49, 50, 51,\n",
       "       52, 53, 54, 55, 56, 57, 58, 59, 60, 61, 62, 63, 64, 65, 66, 67, 68,\n",
       "       69, 70, 71, 72, 73, 74, 75, 76, 77, 78, 79, 80, 81, 82, 83, 84, 85,\n",
       "       86, 87, 88, 89, 90, 91, 92, 93, 94, 95, 96, 97, 98, 99])},\n",
       "             return_train_score=True, scoring='neg_mean_squared_error')"
      ]
     },
     "execution_count": 16,
     "metadata": {},
     "output_type": "execute_result"
    }
   ],
   "source": [
    "knnCV.fit(X_train, y_train)"
   ]
  },
  {
   "cell_type": "markdown",
   "metadata": {},
   "source": [
    "How many neighbors does the best estimator use?"
   ]
  },
  {
   "cell_type": "code",
   "execution_count": 17,
   "metadata": {},
   "outputs": [
    {
     "name": "stdout",
     "output_type": "stream",
     "text": [
      "The best estimater uses 9 neighbors\n"
     ]
    }
   ],
   "source": [
    "print('The best estimater uses %s neighbors' % knnCV.best_estimator_.n_neighbors )"
   ]
  },
  {
   "cell_type": "markdown",
   "metadata": {},
   "source": [
    "We will always want to look at the plot of our tuning parameters (number of neighbors, in this case) versus the model's score (remember the Ridge \"fiasco\"). So lets plot it here.\n",
    "_Hint_: you may want to check the attribute `.cv_results_` from our fitted instance. It may also be useful to convert it into a pd.DataFrame."
   ]
  },
  {
   "cell_type": "code",
   "execution_count": 18,
   "metadata": {},
   "outputs": [
    {
     "data": {
      "text/plain": [
       "<matplotlib.legend.Legend at 0x28fdbe392d0>"
      ]
     },
     "execution_count": 18,
     "metadata": {},
     "output_type": "execute_result"
    },
    {
     "data": {
      "image/png": "[encoded data removed]",
      "text/plain": [
       "<Figure size 640x480 with 1 Axes>"
      ]
     },
     "metadata": {},
     "output_type": "display_data"
    }
   ],
   "source": [
    "cv_result = pd.DataFrame(knnCV.cv_results_)\n",
    "plt.plot(neighbors, cv_result.mean_test_score, label = 'test')\n",
    "plt.plot(neighbors, cv_result.mean_train_score, label = 'train')\n",
    "plt.legend()"
   ]
  },
  {
   "cell_type": "markdown",
   "metadata": {},
   "source": [
    "## Decision Trees(CART)\n",
    "\n",
    "Next, we consider Decision trees. We need to load the appropriate functions and define the tuning parameters. Unfortunately, unlike LASSO, Ridge and Logistic, there is no built in method CV for DecisionTrees, so we have to code it ourselves (with the help of `GridSearchCV`.  "
   ]
  },
  {
   "cell_type": "code",
   "execution_count": 19,
   "metadata": {},
   "outputs": [],
   "source": [
    "from sklearn.tree import DecisionTreeRegressor"
   ]
  },
  {
   "cell_type": "markdown",
   "metadata": {},
   "source": [
    "Create an instance of a decision tree regressor"
   ]
  },
  {
   "cell_type": "code",
   "execution_count": 20,
   "metadata": {},
   "outputs": [],
   "source": [
    "dtree = DecisionTreeRegressor()"
   ]
  },
  {
   "cell_type": "markdown",
   "metadata": {},
   "source": [
    "Remember that the tuning parameter of a decision tree relates to the complexity of the tree. In other words, it relates to how large the tree should be. \n",
    "We will tune the `min_samples_split`, which controls the minimum number of observations required so that a split can be made (no split that splits more than `min_samples_split` is made."
   ]
  },
  {
   "cell_type": "code",
   "execution_count": 21,
   "metadata": {},
   "outputs": [],
   "source": [
    "splits = [1.0, 0.75, 0.5, 0.4, 0.25, 0.20, 0.15, 0.10, 0.05, 0.01]"
   ]
  },
  {
   "cell_type": "markdown",
   "metadata": {},
   "source": [
    "Do a gridsearch over all possible splits on our grid, using 5-fold cross validation. _Hint_: we will need `GridSearchCV` again."
   ]
  },
  {
   "cell_type": "code",
   "execution_count": 22,
   "metadata": {},
   "outputs": [],
   "source": [
    "param = {'min_samples_split': splits}\n",
    "dtreeCV = GridSearchCV(estimator = dtree,\n",
    "                       param_grid = param,\n",
    "                       scoring = \"neg_mean_squared_error\",\n",
    "                       return_train_score = True)"
   ]
  },
  {
   "cell_type": "markdown",
   "metadata": {},
   "source": [
    "Fit the model."
   ]
  },
  {
   "cell_type": "code",
   "execution_count": 23,
   "metadata": {},
   "outputs": [
    {
     "data": {
      "text/html": [
       "<style>#sk-container-id-2 {color: black;background-color: white;}#sk-container-id-2 pre{padding: 0;}#sk-container-id-2 div.sk-toggleable {background-color: white;}#sk-container-id-2 label.sk-toggleable__label {cursor: pointer;display: block;width: 100%;margin-bottom: 0;padding: 0.3em;box-sizing: border-box;text-align: center;}#sk-container-id-2 label.sk-toggleable__label-arrow:before {content: \"▸\";float: left;margin-right: 0.25em;color: #696969;}#sk-container-id-2 label.sk-toggleable__label-arrow:hover:before {color: black;}#sk-container-id-2 div.sk-estimator:hover label.sk-toggleable__label-arrow:before {color: black;}#sk-container-id-2 div.sk-toggleable__content {max-height: 0;max-width: 0;overflow: hidden;text-align: left;background-color: #f0f8ff;}#sk-container-id-2 div.sk-toggleable__content pre {margin: 0.2em;color: black;border-radius: 0.25em;background-color: #f0f8ff;}#sk-container-id-2 input.sk-toggleable__control:checked~div.sk-toggleable__content {max-height: 200px;max-width: 100%;overflow: auto;}#sk-container-id-2 input.sk-toggleable__control:checked~label.sk-toggleable__label-arrow:before {content: \"▾\";}#sk-container-id-2 div.sk-estimator input.sk-toggleable__control:checked~label.sk-toggleable__label {background-color: #d4ebff;}#sk-container-id-2 div.sk-label input.sk-toggleable__control:checked~label.sk-toggleable__label {background-color: #d4ebff;}#sk-container-id-2 input.sk-hidden--visually {border: 0;clip: rect(1px 1px 1px 1px);clip: rect(1px, 1px, 1px, 1px);height: 1px;margin: -1px;overflow: hidden;padding: 0;position: absolute;width: 1px;}#sk-container-id-2 div.sk-estimator {font-family: monospace;background-color: #f0f8ff;border: 1px dotted black;border-radius: 0.25em;box-sizing: border-box;margin-bottom: 0.5em;}#sk-container-id-2 div.sk-estimator:hover {background-color: #d4ebff;}#sk-container-id-2 div.sk-parallel-item::after {content: \"\";width: 100%;border-bottom: 1px solid gray;flex-grow: 1;}#sk-container-id-2 div.sk-label:hover label.sk-toggleable__label {background-color: #d4ebff;}#sk-container-id-2 div.sk-serial::before {content: \"\";position: absolute;border-left: 1px solid gray;box-sizing: border-box;top: 0;bottom: 0;left: 50%;z-index: 0;}#sk-container-id-2 div.sk-serial {display: flex;flex-direction: column;align-items: center;background-color: white;padding-right: 0.2em;padding-left: 0.2em;position: relative;}#sk-container-id-2 div.sk-item {position: relative;z-index: 1;}#sk-container-id-2 div.sk-parallel {display: flex;align-items: stretch;justify-content: center;background-color: white;position: relative;}#sk-container-id-2 div.sk-item::before, #sk-container-id-2 div.sk-parallel-item::before {content: \"\";position: absolute;border-left: 1px solid gray;box-sizing: border-box;top: 0;bottom: 0;left: 50%;z-index: -1;}#sk-container-id-2 div.sk-parallel-item {display: flex;flex-direction: column;z-index: 1;position: relative;background-color: white;}#sk-container-id-2 div.sk-parallel-item:first-child::after {align-self: flex-end;width: 50%;}#sk-container-id-2 div.sk-parallel-item:last-child::after {align-self: flex-start;width: 50%;}#sk-container-id-2 div.sk-parallel-item:only-child::after {width: 0;}#sk-container-id-2 div.sk-dashed-wrapped {border: 1px dashed gray;margin: 0 0.4em 0.5em 0.4em;box-sizing: border-box;padding-bottom: 0.4em;background-color: white;}#sk-container-id-2 div.sk-label label {font-family: monospace;font-weight: bold;display: inline-block;line-height: 1.2em;}#sk-container-id-2 div.sk-label-container {text-align: center;}#sk-container-id-2 div.sk-container {/* jupyter's `normalize.less` sets `[hidden] { display: none; }` but bootstrap.min.css set `[hidden] { display: none !important; }` so we also need the `!important` here to be able to override the default hidden behavior on the sphinx rendered scikit-learn.org. See: https://github.com/scikit-learn/scikit-learn/issues/21755 */display: inline-block !important;position: relative;}#sk-container-id-2 div.sk-text-repr-fallback {display: none;}</style><div id=\"sk-container-id-2\" class=\"sk-top-container\"><div class=\"sk-text-repr-fallback\"><pre>GridSearchCV(estimator=DecisionTreeRegressor(),\n",
       "             param_grid={&#x27;min_samples_split&#x27;: [1.0, 0.75, 0.5, 0.4, 0.25, 0.2,\n",
       "                                               0.15, 0.1, 0.05, 0.01]},\n",
       "             return_train_score=True, scoring=&#x27;neg_mean_squared_error&#x27;)</pre><b>In a Jupyter environment, please rerun this cell to show the HTML representation or trust the notebook. <br />On GitHub, the HTML representation is unable to render, please try loading this page with nbviewer.org.</b></div><div class=\"sk-container\" hidden><div class=\"sk-item sk-dashed-wrapped\"><div class=\"sk-label-container\"><div class=\"sk-label sk-toggleable\"><input class=\"sk-toggleable__control sk-hidden--visually\" id=\"sk-estimator-id-4\" type=\"checkbox\" ><label for=\"sk-estimator-id-4\" class=\"sk-toggleable__label sk-toggleable__label-arrow\">GridSearchCV</label><div class=\"sk-toggleable__content\"><pre>GridSearchCV(estimator=DecisionTreeRegressor(),\n",
       "             param_grid={&#x27;min_samples_split&#x27;: [1.0, 0.75, 0.5, 0.4, 0.25, 0.2,\n",
       "                                               0.15, 0.1, 0.05, 0.01]},\n",
       "             return_train_score=True, scoring=&#x27;neg_mean_squared_error&#x27;)</pre></div></div></div><div class=\"sk-parallel\"><div class=\"sk-parallel-item\"><div class=\"sk-item\"><div class=\"sk-label-container\"><div class=\"sk-label sk-toggleable\"><input class=\"sk-toggleable__control sk-hidden--visually\" id=\"sk-estimator-id-5\" type=\"checkbox\" ><label for=\"sk-estimator-id-5\" class=\"sk-toggleable__label sk-toggleable__label-arrow\">estimator: DecisionTreeRegressor</label><div class=\"sk-toggleable__content\"><pre>DecisionTreeRegressor()</pre></div></div></div><div class=\"sk-serial\"><div class=\"sk-item\"><div class=\"sk-estimator sk-toggleable\"><input class=\"sk-toggleable__control sk-hidden--visually\" id=\"sk-estimator-id-6\" type=\"checkbox\" ><label for=\"sk-estimator-id-6\" class=\"sk-toggleable__label sk-toggleable__label-arrow\">DecisionTreeRegressor</label><div class=\"sk-toggleable__content\"><pre>DecisionTreeRegressor()</pre></div></div></div></div></div></div></div></div></div></div>"
      ],
      "text/plain": [
       "GridSearchCV(estimator=DecisionTreeRegressor(),\n",
       "             param_grid={'min_samples_split': [1.0, 0.75, 0.5, 0.4, 0.25, 0.2,\n",
       "                                               0.15, 0.1, 0.05, 0.01]},\n",
       "             return_train_score=True, scoring='neg_mean_squared_error')"
      ]
     },
     "execution_count": 23,
     "metadata": {},
     "output_type": "execute_result"
    }
   ],
   "source": [
    "dtreeCV.fit(X_train, y_train)"
   ]
  },
  {
   "cell_type": "markdown",
   "metadata": {},
   "source": [
    "What is the optimal value for `min_sample_split`?"
   ]
  },
  {
   "cell_type": "code",
   "execution_count": 24,
   "metadata": {},
   "outputs": [
    {
     "name": "stdout",
     "output_type": "stream",
     "text": [
      "The best estimater uses 0.75 splits\n"
     ]
    }
   ],
   "source": [
    "print('The best estimater uses %s splits' % dtreeCV.best_estimator_.min_samples_split )"
   ]
  },
  {
   "cell_type": "markdown",
   "metadata": {},
   "source": [
    "Lets look at the plot of the tuning parameter (splits) against the score. \n",
    "_Hint_: you may want to check the attribute `.cv_results_` from our fitted instance. It may also be useful to convert it into a pd.DataFrame."
   ]
  },
  {
   "cell_type": "code",
   "execution_count": 25,
   "metadata": {},
   "outputs": [
    {
     "data": {
      "text/plain": [
       "<matplotlib.legend.Legend at 0x28fdbe08f10>"
      ]
     },
     "execution_count": 25,
     "metadata": {},
     "output_type": "execute_result"
    },
    {
     "data": {
      "image/png": "[encoded data removed]",
      "text/plain": [
       "<Figure size 640x480 with 1 Axes>"
      ]
     },
     "metadata": {},
     "output_type": "display_data"
    }
   ],
   "source": [
    "cv_result = pd.DataFrame(dtreeCV.cv_results_)\n",
    "plt.plot(1-np.array(splits), -cv_result.mean_test_score, label = 'test')\n",
    "plt.plot(1-np.array(splits), -cv_result.mean_train_score, label = 'train')\n",
    "plt.legend()"
   ]
  },
  {
   "cell_type": "markdown",
   "metadata": {},
   "source": [
    "As expected, test accuracy is much worse than train accuracy, and very complex models do well in sample, but perform very poorly out-of-sample.\n",
    "\n",
    "Next, lets see the _feature importance_ of our features. _Hint:_ Inspect the attributes of `.best_estimator_`. We want to report the feature importances scaled by the maximal importance and in decreasing order. What is the most important feature in our selected tree?"
   ]
  },
  {
   "cell_type": "code",
   "execution_count": 26,
   "metadata": {},
   "outputs": [
    {
     "data": {
      "text/plain": [
       "TB6SMFFM         1.0\n",
       "RPI              0.0\n",
       "EXSZUSx          0.0\n",
       "AAAFFM           0.0\n",
       "T10YFFM          0.0\n",
       "                ... \n",
       "DMANEMP          0.0\n",
       "MANEMP           0.0\n",
       "USCONS           0.0\n",
       "CES1021000001    0.0\n",
       "VIXCLSx          0.0\n",
       "Length: 123, dtype: float64"
      ]
     },
     "execution_count": 26,
     "metadata": {},
     "output_type": "execute_result"
    }
   ],
   "source": [
    "\n",
    "features = dtreeCV.best_estimator_.feature_importances_\n",
    "features = features/features.max()\n",
    "features = pd.Series(features, index = X_train.columns)\n",
    "features.sort_values(ascending = False)"
   ]
  },
  {
   "cell_type": "markdown",
   "metadata": {},
   "source": [
    "Finally, plot the decision tree."
   ]
  },
  {
   "cell_type": "code",
   "execution_count": 27,
   "metadata": {},
   "outputs": [
    {
     "data": {
      "text/plain": [
       "[Text(0.5, 0.75, 'TB6SMFFM <= -0.406\\nsquared_error = 0.696\\nsamples = 489\\nvalue = 0.082'),\n",
       " Text(0.25, 0.25, 'squared_error = 0.647\\nsamples = 143\\nvalue = -0.356'),\n",
       " Text(0.75, 0.25, 'squared_error = 0.605\\nsamples = 346\\nvalue = 0.262')]"
      ]
     },
     "execution_count": 27,
     "metadata": {},
     "output_type": "execute_result"
    },
    {
     "data": {
      "image/png": "[encoded data removed]",
      "text/plain": [
       "<Figure size 640x480 with 1 Axes>"
      ]
     },
     "metadata": {},
     "output_type": "display_data"
    }
   ],
   "source": [
    "from sklearn.tree import plot_tree\n",
    "plot_tree(dtreeCV.best_estimator_,\n",
    "          feature_names=X_train.columns, \n",
    "          filled=True)"
   ]
  },
  {
   "cell_type": "markdown",
   "metadata": {},
   "source": [
    "## Random Forests\n",
    "\n",
    "We next consider Random Forests to forecast our target. Lets grow 100 trees, and tune the `max_features` parameter. Recall that this parameter controls the number of  features considered at each split, and as such, the correlation across trees.\n"
   ]
  },
  {
   "cell_type": "code",
   "execution_count": 28,
   "metadata": {},
   "outputs": [],
   "source": [
    "from sklearn.ensemble import RandomForestRegressor"
   ]
  },
  {
   "cell_type": "markdown",
   "metadata": {},
   "source": [
    "We will consider the following `max_features` values:"
   ]
  },
  {
   "cell_type": "code",
   "execution_count": 1,
   "metadata": {},
   "outputs": [],
   "source": [
    "max_features = [5, 10, 20, 30, 40, 60, 80, 100]"
   ]
  },
  {
   "cell_type": "markdown",
   "metadata": {},
   "source": [
    "Next, set up the `GridSearchCV`, just as we have been doing"
   ]
  },
  {
   "cell_type": "code",
   "execution_count": 29,
   "metadata": {},
   "outputs": [],
   "source": [
    "# we fix 100 trees to grow\n",
    "rf = RandomForestRegressor(n_estimators = 100)\n",
    "\n",
    "parameters = {'max_features': max_features}\n",
    "rfCV = GridSearchCV(rf,\n",
    "                    parameters,\n",
    "                    cv = 10,\n",
    "                    verbose = 1,\n",
    "                    return_train_score = True,\n",
    "                    refit = True,\n",
    "                    scoring = 'neg_mean_squared_error')"
   ]
  },
  {
   "cell_type": "markdown",
   "metadata": {},
   "source": [
    "Fit the estimator"
   ]
  },
  {
   "cell_type": "code",
   "execution_count": 32,
   "metadata": {},
   "outputs": [
    {
     "name": "stdout",
     "output_type": "stream",
     "text": [
      "Fitting 10 folds for each of 8 candidates, totalling 80 fits\n"
     ]
    },
    {
     "data": {
      "text/html": [
       "<style>#sk-container-id-3 {color: black;background-color: white;}#sk-container-id-3 pre{padding: 0;}#sk-container-id-3 div.sk-toggleable {background-color: white;}#sk-container-id-3 label.sk-toggleable__label {cursor: pointer;display: block;width: 100%;margin-bottom: 0;padding: 0.3em;box-sizing: border-box;text-align: center;}#sk-container-id-3 label.sk-toggleable__label-arrow:before {content: \"▸\";float: left;margin-right: 0.25em;color: #696969;}#sk-container-id-3 label.sk-toggleable__label-arrow:hover:before {color: black;}#sk-container-id-3 div.sk-estimator:hover label.sk-toggleable__label-arrow:before {color: black;}#sk-container-id-3 div.sk-toggleable__content {max-height: 0;max-width: 0;overflow: hidden;text-align: left;background-color: #f0f8ff;}#sk-container-id-3 div.sk-toggleable__content pre {margin: 0.2em;color: black;border-radius: 0.25em;background-color: #f0f8ff;}#sk-container-id-3 input.sk-toggleable__control:checked~div.sk-toggleable__content {max-height: 200px;max-width: 100%;overflow: auto;}#sk-container-id-3 input.sk-toggleable__control:checked~label.sk-toggleable__label-arrow:before {content: \"▾\";}#sk-container-id-3 div.sk-estimator input.sk-toggleable__control:checked~label.sk-toggleable__label {background-color: #d4ebff;}#sk-container-id-3 div.sk-label input.sk-toggleable__control:checked~label.sk-toggleable__label {background-color: #d4ebff;}#sk-container-id-3 input.sk-hidden--visually {border: 0;clip: rect(1px 1px 1px 1px);clip: rect(1px, 1px, 1px, 1px);height: 1px;margin: -1px;overflow: hidden;padding: 0;position: absolute;width: 1px;}#sk-container-id-3 div.sk-estimator {font-family: monospace;background-color: #f0f8ff;border: 1px dotted black;border-radius: 0.25em;box-sizing: border-box;margin-bottom: 0.5em;}#sk-container-id-3 div.sk-estimator:hover {background-color: #d4ebff;}#sk-container-id-3 div.sk-parallel-item::after {content: \"\";width: 100%;border-bottom: 1px solid gray;flex-grow: 1;}#sk-container-id-3 div.sk-label:hover label.sk-toggleable__label {background-color: #d4ebff;}#sk-container-id-3 div.sk-serial::before {content: \"\";position: absolute;border-left: 1px solid gray;box-sizing: border-box;top: 0;bottom: 0;left: 50%;z-index: 0;}#sk-container-id-3 div.sk-serial {display: flex;flex-direction: column;align-items: center;background-color: white;padding-right: 0.2em;padding-left: 0.2em;position: relative;}#sk-container-id-3 div.sk-item {position: relative;z-index: 1;}#sk-container-id-3 div.sk-parallel {display: flex;align-items: stretch;justify-content: center;background-color: white;position: relative;}#sk-container-id-3 div.sk-item::before, #sk-container-id-3 div.sk-parallel-item::before {content: \"\";position: absolute;border-left: 1px solid gray;box-sizing: border-box;top: 0;bottom: 0;left: 50%;z-index: -1;}#sk-container-id-3 div.sk-parallel-item {display: flex;flex-direction: column;z-index: 1;position: relative;background-color: white;}#sk-container-id-3 div.sk-parallel-item:first-child::after {align-self: flex-end;width: 50%;}#sk-container-id-3 div.sk-parallel-item:last-child::after {align-self: flex-start;width: 50%;}#sk-container-id-3 div.sk-parallel-item:only-child::after {width: 0;}#sk-container-id-3 div.sk-dashed-wrapped {border: 1px dashed gray;margin: 0 0.4em 0.5em 0.4em;box-sizing: border-box;padding-bottom: 0.4em;background-color: white;}#sk-container-id-3 div.sk-label label {font-family: monospace;font-weight: bold;display: inline-block;line-height: 1.2em;}#sk-container-id-3 div.sk-label-container {text-align: center;}#sk-container-id-3 div.sk-container {/* jupyter's `normalize.less` sets `[hidden] { display: none; }` but bootstrap.min.css set `[hidden] { display: none !important; }` so we also need the `!important` here to be able to override the default hidden behavior on the sphinx rendered scikit-learn.org. See: https://github.com/scikit-learn/scikit-learn/issues/21755 */display: inline-block !important;position: relative;}#sk-container-id-3 div.sk-text-repr-fallback {display: none;}</style><div id=\"sk-container-id-3\" class=\"sk-top-container\"><div class=\"sk-text-repr-fallback\"><pre>GridSearchCV(cv=10, estimator=RandomForestRegressor(),\n",
       "             param_grid={&#x27;max_features&#x27;: [5, 10, 20, 30, 40, 60, 80, 100]},\n",
       "             return_train_score=True, scoring=&#x27;neg_mean_squared_error&#x27;,\n",
       "             verbose=1)</pre><b>In a Jupyter environment, please rerun this cell to show the HTML representation or trust the notebook. <br />On GitHub, the HTML representation is unable to render, please try loading this page with nbviewer.org.</b></div><div class=\"sk-container\" hidden><div class=\"sk-item sk-dashed-wrapped\"><div class=\"sk-label-container\"><div class=\"sk-label sk-toggleable\"><input class=\"sk-toggleable__control sk-hidden--visually\" id=\"sk-estimator-id-7\" type=\"checkbox\" ><label for=\"sk-estimator-id-7\" class=\"sk-toggleable__label sk-toggleable__label-arrow\">GridSearchCV</label><div class=\"sk-toggleable__content\"><pre>GridSearchCV(cv=10, estimator=RandomForestRegressor(),\n",
       "             param_grid={&#x27;max_features&#x27;: [5, 10, 20, 30, 40, 60, 80, 100]},\n",
       "             return_train_score=True, scoring=&#x27;neg_mean_squared_error&#x27;,\n",
       "             verbose=1)</pre></div></div></div><div class=\"sk-parallel\"><div class=\"sk-parallel-item\"><div class=\"sk-item\"><div class=\"sk-label-container\"><div class=\"sk-label sk-toggleable\"><input class=\"sk-toggleable__control sk-hidden--visually\" id=\"sk-estimator-id-8\" type=\"checkbox\" ><label for=\"sk-estimator-id-8\" class=\"sk-toggleable__label sk-toggleable__label-arrow\">estimator: RandomForestRegressor</label><div class=\"sk-toggleable__content\"><pre>RandomForestRegressor()</pre></div></div></div><div class=\"sk-serial\"><div class=\"sk-item\"><div class=\"sk-estimator sk-toggleable\"><input class=\"sk-toggleable__control sk-hidden--visually\" id=\"sk-estimator-id-9\" type=\"checkbox\" ><label for=\"sk-estimator-id-9\" class=\"sk-toggleable__label sk-toggleable__label-arrow\">RandomForestRegressor</label><div class=\"sk-toggleable__content\"><pre>RandomForestRegressor()</pre></div></div></div></div></div></div></div></div></div></div>"
      ],
      "text/plain": [
       "GridSearchCV(cv=10, estimator=RandomForestRegressor(),\n",
       "             param_grid={'max_features': [5, 10, 20, 30, 40, 60, 80, 100]},\n",
       "             return_train_score=True, scoring='neg_mean_squared_error',\n",
       "             verbose=1)"
      ]
     },
     "execution_count": 32,
     "metadata": {},
     "output_type": "execute_result"
    }
   ],
   "source": [
    "rfCV.fit(X_train, y_train)"
   ]
  },
  {
   "cell_type": "markdown",
   "metadata": {},
   "source": [
    "What is the number of `max_features` chosen for the best estimator? "
   ]
  },
  {
   "cell_type": "code",
   "execution_count": 33,
   "metadata": {},
   "outputs": [
    {
     "name": "stdout",
     "output_type": "stream",
     "text": [
      "The best estimator chooses from 60 features at each split\n"
     ]
    }
   ],
   "source": [
    "print('The best estimator chooses from %s features at each split' % rfCV.best_estimator_.max_features)"
   ]
  },
  {
   "cell_type": "markdown",
   "metadata": {},
   "source": [
    "Proceed analogously to the Descision Trees case by plotting the `max_features` against the scores. _Hint_ `cv_results_.mean_test_scores`."
   ]
  },
  {
   "cell_type": "code",
   "execution_count": 40,
   "metadata": {},
   "outputs": [
    {
     "data": {
      "text/plain": [
       "[<matplotlib.lines.Line2D at 0x28fe357fd90>]"
      ]
     },
     "execution_count": 40,
     "metadata": {},
     "output_type": "execute_result"
    },
    {
     "data": {
      "image/png": "[encoded data removed]",
      "text/plain": [
       "<Figure size 640x480 with 2 Axes>"
      ]
     },
     "metadata": {},
     "output_type": "display_data"
    }
   ],
   "source": [
    "cv_result = pd.DataFrame(rfCV.cv_results_)\n",
    "\n",
    "# plotting\n",
    "fig, ax = plt.subplots()\n",
    "ax.plot(max_features, -cv_result.mean_test_score)\n",
    "ax1 = ax.twinx()\n",
    "ax1.plot(max_features, -cv_result.mean_train_score, 'r--')"
   ]
  },
  {
   "cell_type": "markdown",
   "metadata": {},
   "source": [
    "Next, lets visualize feature importance again. As before, make sure to scale by the most important feature and report them in decreasing order. What is the most imortant feature for Random Forests?"
   ]
  },
  {
   "cell_type": "code",
   "execution_count": 41,
   "metadata": {},
   "outputs": [
    {
     "data": {
      "text/plain": [
       "IPDCONGD     1.000000\n",
       "IPDMAT       0.902215\n",
       "IPMANSICS    0.721041\n",
       "TB6SMFFM     0.686850\n",
       "IPMAT        0.686247\n",
       "MANEMP       0.645032\n",
       "USGOOD       0.489181\n",
       "IPNMAT       0.479859\n",
       "HWIURATIO    0.456723\n",
       "TB3SMFFM     0.411519\n",
       "dtype: float64"
      ]
     },
     "execution_count": 41,
     "metadata": {},
     "output_type": "execute_result"
    }
   ],
   "source": [
    "importance = rfCV.best_estimator_.feature_importances_\n",
    "features = X_train.columns\n",
    "important_features = pd.Series(data = importance/importance.max(),\n",
    "                               index = features)\n",
    "important_features.sort_values(ascending = False).head(10)"
   ]
  },
  {
   "cell_type": "markdown",
   "metadata": {},
   "source": [
    "## Gradient Boosting\n",
    "\n",
    "Lets try a few flavours of gradient boosting machines. Recall that an important tuning parameter(although not the only one) for Gradient Boosting is the learning rate. Lets use the following values."
   ]
  },
  {
   "cell_type": "markdown",
   "metadata": {},
   "source": [
    "### Standard GBM"
   ]
  },
  {
   "cell_type": "code",
   "execution_count": 42,
   "metadata": {},
   "outputs": [],
   "source": [
    "from sklearn.ensemble import GradientBoostingRegressor\n",
    "learning = [0.01, 0.05, 0.2, 0.3, 0.4, 0.5, 0.9]"
   ]
  },
  {
   "cell_type": "markdown",
   "metadata": {},
   "source": [
    "Then, set up the grid search. As before, read the docs to make sure you know what is happening. In particular, we may want to set `return_train_score` to True."
   ]
  },
  {
   "cell_type": "code",
   "execution_count": 52,
   "metadata": {},
   "outputs": [],
   "source": [
    "gbm = GradientBoostingRegressor(n_estimators = 100)\n",
    "parameters = {'learning_rate': learning}\n",
    "gbmCV = GridSearchCV(gbm,\n",
    "                     parameters, \n",
    "                     cv = 5,\n",
    "                     verbose = 1,\n",
    "                     return_train_score = True,\n",
    "                     refit = True,\n",
    "                     scoring = 'neg_mean_squared_error')"
   ]
  },
  {
   "cell_type": "markdown",
   "metadata": {},
   "source": [
    "Fit the model."
   ]
  },
  {
   "cell_type": "code",
   "execution_count": 53,
   "metadata": {},
   "outputs": [
    {
     "name": "stdout",
     "output_type": "stream",
     "text": [
      "Fitting 5 folds for each of 7 candidates, totalling 35 fits\n"
     ]
    },
    {
     "data": {
      "text/html": [
       "<style>#sk-container-id-5 {color: black;background-color: white;}#sk-container-id-5 pre{padding: 0;}#sk-container-id-5 div.sk-toggleable {background-color: white;}#sk-container-id-5 label.sk-toggleable__label {cursor: pointer;display: block;width: 100%;margin-bottom: 0;padding: 0.3em;box-sizing: border-box;text-align: center;}#sk-container-id-5 label.sk-toggleable__label-arrow:before {content: \"▸\";float: left;margin-right: 0.25em;color: #696969;}#sk-container-id-5 label.sk-toggleable__label-arrow:hover:before {color: black;}#sk-container-id-5 div.sk-estimator:hover label.sk-toggleable__label-arrow:before {color: black;}#sk-container-id-5 div.sk-toggleable__content {max-height: 0;max-width: 0;overflow: hidden;text-align: left;background-color: #f0f8ff;}#sk-container-id-5 div.sk-toggleable__content pre {margin: 0.2em;color: black;border-radius: 0.25em;background-color: #f0f8ff;}#sk-container-id-5 input.sk-toggleable__control:checked~div.sk-toggleable__content {max-height: 200px;max-width: 100%;overflow: auto;}#sk-container-id-5 input.sk-toggleable__control:checked~label.sk-toggleable__label-arrow:before {content: \"▾\";}#sk-container-id-5 div.sk-estimator input.sk-toggleable__control:checked~label.sk-toggleable__label {background-color: #d4ebff;}#sk-container-id-5 div.sk-label input.sk-toggleable__control:checked~label.sk-toggleable__label {background-color: #d4ebff;}#sk-container-id-5 input.sk-hidden--visually {border: 0;clip: rect(1px 1px 1px 1px);clip: rect(1px, 1px, 1px, 1px);height: 1px;margin: -1px;overflow: hidden;padding: 0;position: absolute;width: 1px;}#sk-container-id-5 div.sk-estimator {font-family: monospace;background-color: #f0f8ff;border: 1px dotted black;border-radius: 0.25em;box-sizing: border-box;margin-bottom: 0.5em;}#sk-container-id-5 div.sk-estimator:hover {background-color: #d4ebff;}#sk-container-id-5 div.sk-parallel-item::after {content: \"\";width: 100%;border-bottom: 1px solid gray;flex-grow: 1;}#sk-container-id-5 div.sk-label:hover label.sk-toggleable__label {background-color: #d4ebff;}#sk-container-id-5 div.sk-serial::before {content: \"\";position: absolute;border-left: 1px solid gray;box-sizing: border-box;top: 0;bottom: 0;left: 50%;z-index: 0;}#sk-container-id-5 div.sk-serial {display: flex;flex-direction: column;align-items: center;background-color: white;padding-right: 0.2em;padding-left: 0.2em;position: relative;}#sk-container-id-5 div.sk-item {position: relative;z-index: 1;}#sk-container-id-5 div.sk-parallel {display: flex;align-items: stretch;justify-content: center;background-color: white;position: relative;}#sk-container-id-5 div.sk-item::before, #sk-container-id-5 div.sk-parallel-item::before {content: \"\";position: absolute;border-left: 1px solid gray;box-sizing: border-box;top: 0;bottom: 0;left: 50%;z-index: -1;}#sk-container-id-5 div.sk-parallel-item {display: flex;flex-direction: column;z-index: 1;position: relative;background-color: white;}#sk-container-id-5 div.sk-parallel-item:first-child::after {align-self: flex-end;width: 50%;}#sk-container-id-5 div.sk-parallel-item:last-child::after {align-self: flex-start;width: 50%;}#sk-container-id-5 div.sk-parallel-item:only-child::after {width: 0;}#sk-container-id-5 div.sk-dashed-wrapped {border: 1px dashed gray;margin: 0 0.4em 0.5em 0.4em;box-sizing: border-box;padding-bottom: 0.4em;background-color: white;}#sk-container-id-5 div.sk-label label {font-family: monospace;font-weight: bold;display: inline-block;line-height: 1.2em;}#sk-container-id-5 div.sk-label-container {text-align: center;}#sk-container-id-5 div.sk-container {/* jupyter's `normalize.less` sets `[hidden] { display: none; }` but bootstrap.min.css set `[hidden] { display: none !important; }` so we also need the `!important` here to be able to override the default hidden behavior on the sphinx rendered scikit-learn.org. See: https://github.com/scikit-learn/scikit-learn/issues/21755 */display: inline-block !important;position: relative;}#sk-container-id-5 div.sk-text-repr-fallback {display: none;}</style><div id=\"sk-container-id-5\" class=\"sk-top-container\"><div class=\"sk-text-repr-fallback\"><pre>GridSearchCV(cv=5, estimator=GradientBoostingRegressor(),\n",
       "             param_grid={&#x27;learning_rate&#x27;: [0.01, 0.05, 0.2, 0.3, 0.4, 0.5,\n",
       "                                           0.9]},\n",
       "             return_train_score=True, scoring=&#x27;neg_mean_squared_error&#x27;,\n",
       "             verbose=1)</pre><b>In a Jupyter environment, please rerun this cell to show the HTML representation or trust the notebook. <br />On GitHub, the HTML representation is unable to render, please try loading this page with nbviewer.org.</b></div><div class=\"sk-container\" hidden><div class=\"sk-item sk-dashed-wrapped\"><div class=\"sk-label-container\"><div class=\"sk-label sk-toggleable\"><input class=\"sk-toggleable__control sk-hidden--visually\" id=\"sk-estimator-id-13\" type=\"checkbox\" ><label for=\"sk-estimator-id-13\" class=\"sk-toggleable__label sk-toggleable__label-arrow\">GridSearchCV</label><div class=\"sk-toggleable__content\"><pre>GridSearchCV(cv=5, estimator=GradientBoostingRegressor(),\n",
       "             param_grid={&#x27;learning_rate&#x27;: [0.01, 0.05, 0.2, 0.3, 0.4, 0.5,\n",
       "                                           0.9]},\n",
       "             return_train_score=True, scoring=&#x27;neg_mean_squared_error&#x27;,\n",
       "             verbose=1)</pre></div></div></div><div class=\"sk-parallel\"><div class=\"sk-parallel-item\"><div class=\"sk-item\"><div class=\"sk-label-container\"><div class=\"sk-label sk-toggleable\"><input class=\"sk-toggleable__control sk-hidden--visually\" id=\"sk-estimator-id-14\" type=\"checkbox\" ><label for=\"sk-estimator-id-14\" class=\"sk-toggleable__label sk-toggleable__label-arrow\">estimator: GradientBoostingRegressor</label><div class=\"sk-toggleable__content\"><pre>GradientBoostingRegressor()</pre></div></div></div><div class=\"sk-serial\"><div class=\"sk-item\"><div class=\"sk-estimator sk-toggleable\"><input class=\"sk-toggleable__control sk-hidden--visually\" id=\"sk-estimator-id-15\" type=\"checkbox\" ><label for=\"sk-estimator-id-15\" class=\"sk-toggleable__label sk-toggleable__label-arrow\">GradientBoostingRegressor</label><div class=\"sk-toggleable__content\"><pre>GradientBoostingRegressor()</pre></div></div></div></div></div></div></div></div></div></div>"
      ],
      "text/plain": [
       "GridSearchCV(cv=5, estimator=GradientBoostingRegressor(),\n",
       "             param_grid={'learning_rate': [0.01, 0.05, 0.2, 0.3, 0.4, 0.5,\n",
       "                                           0.9]},\n",
       "             return_train_score=True, scoring='neg_mean_squared_error',\n",
       "             verbose=1)"
      ]
     },
     "execution_count": 53,
     "metadata": {},
     "output_type": "execute_result"
    }
   ],
   "source": [
    "gbmCV.fit(X_train, y_train)"
   ]
  },
  {
   "cell_type": "markdown",
   "metadata": {},
   "source": [
    "What is the learning rate for the best estimator?\n"
   ]
  },
  {
   "cell_type": "code",
   "execution_count": 54,
   "metadata": {},
   "outputs": [
    {
     "name": "stdout",
     "output_type": "stream",
     "text": [
      "The best learning rate is 0.05\n"
     ]
    }
   ],
   "source": [
    "print('The best learning rate is %s' % gbmCV.best_estimator_.learning_rate)"
   ]
  },
  {
   "cell_type": "markdown",
   "metadata": {},
   "source": [
    "Lets see the usual plot of tuning parameter and scores. Recall that we are interested in `.cv_result_`."
   ]
  },
  {
   "cell_type": "code",
   "execution_count": 59,
   "metadata": {},
   "outputs": [
    {
     "data": {
      "text/plain": [
       "<matplotlib.legend.Legend at 0x28fe7234d00>"
      ]
     },
     "execution_count": 59,
     "metadata": {},
     "output_type": "execute_result"
    },
    {
     "data": {
      "image/png": "[encoded data removed]",
      "text/plain": [
       "<Figure size 640x480 with 1 Axes>"
      ]
     },
     "metadata": {},
     "output_type": "display_data"
    }
   ],
   "source": [
    "cv_results = pd.DataFrame(gbmCV.cv_results_)\n",
    "plt.plot(learning, -cv_results.mean_test_score, label = 'Test')\n",
    "plt.plot(learning, -cv_results.mean_train_score, label = 'Train')\n",
    "plt.legend()"
   ]
  },
  {
   "cell_type": "code",
   "execution_count": 60,
   "metadata": {},
   "outputs": [
    {
     "data": {
      "text/html": [
       "<div>\n",
       "<style scoped>\n",
       "    .dataframe tbody tr th:only-of-type {\n",
       "        vertical-align: middle;\n",
       "    }\n",
       "\n",
       "    .dataframe tbody tr th {\n",
       "        vertical-align: top;\n",
       "    }\n",
       "\n",
       "    .dataframe thead th {\n",
       "        text-align: right;\n",
       "    }\n",
       "</style>\n",
       "<table border=\"1\" class=\"dataframe\">\n",
       "  <thead>\n",
       "    <tr style=\"text-align: right;\">\n",
       "      <th></th>\n",
       "      <th>mean_fit_time</th>\n",
       "      <th>std_fit_time</th>\n",
       "      <th>mean_score_time</th>\n",
       "      <th>std_score_time</th>\n",
       "      <th>param_learning_rate</th>\n",
       "      <th>params</th>\n",
       "      <th>split0_test_score</th>\n",
       "      <th>split1_test_score</th>\n",
       "      <th>split2_test_score</th>\n",
       "      <th>split3_test_score</th>\n",
       "      <th>...</th>\n",
       "      <th>mean_test_score</th>\n",
       "      <th>std_test_score</th>\n",
       "      <th>rank_test_score</th>\n",
       "      <th>split0_train_score</th>\n",
       "      <th>split1_train_score</th>\n",
       "      <th>split2_train_score</th>\n",
       "      <th>split3_train_score</th>\n",
       "      <th>split4_train_score</th>\n",
       "      <th>mean_train_score</th>\n",
       "      <th>std_train_score</th>\n",
       "    </tr>\n",
       "  </thead>\n",
       "  <tbody>\n",
       "    <tr>\n",
       "      <th>0</th>\n",
       "      <td>1.250971</td>\n",
       "      <td>0.386174</td>\n",
       "      <td>0.004670</td>\n",
       "      <td>0.003955</td>\n",
       "      <td>0.01</td>\n",
       "      <td>{'learning_rate': 0.01}</td>\n",
       "      <td>-1.273158</td>\n",
       "      <td>-0.701737</td>\n",
       "      <td>-0.625993</td>\n",
       "      <td>-0.226244</td>\n",
       "      <td>...</td>\n",
       "      <td>-0.612785</td>\n",
       "      <td>0.383396</td>\n",
       "      <td>3</td>\n",
       "      <td>-3.021698e-01</td>\n",
       "      <td>-3.786159e-01</td>\n",
       "      <td>-3.863346e-01</td>\n",
       "      <td>-4.376600e-01</td>\n",
       "      <td>-4.263690e-01</td>\n",
       "      <td>-3.862299e-01</td>\n",
       "      <td>4.770805e-02</td>\n",
       "    </tr>\n",
       "    <tr>\n",
       "      <th>1</th>\n",
       "      <td>1.311604</td>\n",
       "      <td>0.453183</td>\n",
       "      <td>0.004588</td>\n",
       "      <td>0.002148</td>\n",
       "      <td>0.05</td>\n",
       "      <td>{'learning_rate': 0.05}</td>\n",
       "      <td>-1.183802</td>\n",
       "      <td>-0.651566</td>\n",
       "      <td>-0.545644</td>\n",
       "      <td>-0.201298</td>\n",
       "      <td>...</td>\n",
       "      <td>-0.569837</td>\n",
       "      <td>0.349807</td>\n",
       "      <td>1</td>\n",
       "      <td>-9.406509e-02</td>\n",
       "      <td>-1.151939e-01</td>\n",
       "      <td>-1.073755e-01</td>\n",
       "      <td>-1.423285e-01</td>\n",
       "      <td>-1.371641e-01</td>\n",
       "      <td>-1.192254e-01</td>\n",
       "      <td>1.813980e-02</td>\n",
       "    </tr>\n",
       "    <tr>\n",
       "      <th>2</th>\n",
       "      <td>1.047667</td>\n",
       "      <td>0.218032</td>\n",
       "      <td>0.002395</td>\n",
       "      <td>0.002937</td>\n",
       "      <td>0.2</td>\n",
       "      <td>{'learning_rate': 0.2}</td>\n",
       "      <td>-1.191927</td>\n",
       "      <td>-0.746508</td>\n",
       "      <td>-0.560677</td>\n",
       "      <td>-0.255141</td>\n",
       "      <td>...</td>\n",
       "      <td>-0.610780</td>\n",
       "      <td>0.341159</td>\n",
       "      <td>2</td>\n",
       "      <td>-5.718109e-03</td>\n",
       "      <td>-4.847463e-03</td>\n",
       "      <td>-6.883336e-03</td>\n",
       "      <td>-8.156875e-03</td>\n",
       "      <td>-7.964497e-03</td>\n",
       "      <td>-6.714056e-03</td>\n",
       "      <td>1.276720e-03</td>\n",
       "    </tr>\n",
       "    <tr>\n",
       "      <th>3</th>\n",
       "      <td>0.921672</td>\n",
       "      <td>0.029756</td>\n",
       "      <td>0.001335</td>\n",
       "      <td>0.001326</td>\n",
       "      <td>0.3</td>\n",
       "      <td>{'learning_rate': 0.3}</td>\n",
       "      <td>-1.148550</td>\n",
       "      <td>-0.785703</td>\n",
       "      <td>-0.722049</td>\n",
       "      <td>-0.303542</td>\n",
       "      <td>...</td>\n",
       "      <td>-0.649949</td>\n",
       "      <td>0.323067</td>\n",
       "      <td>4</td>\n",
       "      <td>-1.204021e-03</td>\n",
       "      <td>-9.247015e-04</td>\n",
       "      <td>-1.023305e-03</td>\n",
       "      <td>-1.714539e-03</td>\n",
       "      <td>-2.127479e-03</td>\n",
       "      <td>-1.398809e-03</td>\n",
       "      <td>4.548337e-04</td>\n",
       "    </tr>\n",
       "    <tr>\n",
       "      <th>4</th>\n",
       "      <td>1.012883</td>\n",
       "      <td>0.103742</td>\n",
       "      <td>0.002218</td>\n",
       "      <td>0.001216</td>\n",
       "      <td>0.4</td>\n",
       "      <td>{'learning_rate': 0.4}</td>\n",
       "      <td>-1.312159</td>\n",
       "      <td>-0.897069</td>\n",
       "      <td>-0.730547</td>\n",
       "      <td>-0.274195</td>\n",
       "      <td>...</td>\n",
       "      <td>-0.708666</td>\n",
       "      <td>0.382836</td>\n",
       "      <td>6</td>\n",
       "      <td>-1.514498e-04</td>\n",
       "      <td>-2.810637e-04</td>\n",
       "      <td>-1.916489e-04</td>\n",
       "      <td>-3.078889e-04</td>\n",
       "      <td>-3.299414e-04</td>\n",
       "      <td>-2.523985e-04</td>\n",
       "      <td>6.898542e-05</td>\n",
       "    </tr>\n",
       "    <tr>\n",
       "      <th>5</th>\n",
       "      <td>1.019981</td>\n",
       "      <td>0.140841</td>\n",
       "      <td>0.001504</td>\n",
       "      <td>0.001469</td>\n",
       "      <td>0.5</td>\n",
       "      <td>{'learning_rate': 0.5}</td>\n",
       "      <td>-1.245833</td>\n",
       "      <td>-0.848821</td>\n",
       "      <td>-0.748518</td>\n",
       "      <td>-0.302412</td>\n",
       "      <td>...</td>\n",
       "      <td>-0.697724</td>\n",
       "      <td>0.348686</td>\n",
       "      <td>5</td>\n",
       "      <td>-5.114735e-05</td>\n",
       "      <td>-4.547646e-05</td>\n",
       "      <td>-5.983312e-05</td>\n",
       "      <td>-3.725704e-05</td>\n",
       "      <td>-7.782376e-05</td>\n",
       "      <td>-5.430755e-05</td>\n",
       "      <td>1.387256e-05</td>\n",
       "    </tr>\n",
       "    <tr>\n",
       "      <th>6</th>\n",
       "      <td>1.542822</td>\n",
       "      <td>0.296576</td>\n",
       "      <td>0.004862</td>\n",
       "      <td>0.004670</td>\n",
       "      <td>0.9</td>\n",
       "      <td>{'learning_rate': 0.9}</td>\n",
       "      <td>-2.016298</td>\n",
       "      <td>-1.598416</td>\n",
       "      <td>-1.243444</td>\n",
       "      <td>-0.447581</td>\n",
       "      <td>...</td>\n",
       "      <td>-1.162497</td>\n",
       "      <td>0.611010</td>\n",
       "      <td>7</td>\n",
       "      <td>-4.890036e-07</td>\n",
       "      <td>-4.694297e-07</td>\n",
       "      <td>-3.589156e-07</td>\n",
       "      <td>-5.444058e-07</td>\n",
       "      <td>-3.978492e-07</td>\n",
       "      <td>-4.519208e-07</td>\n",
       "      <td>6.604374e-08</td>\n",
       "    </tr>\n",
       "  </tbody>\n",
       "</table>\n",
       "<p>7 rows × 21 columns</p>\n",
       "</div>"
      ],
      "text/plain": [
       "   mean_fit_time  std_fit_time  mean_score_time  std_score_time  \\\n",
       "0       1.250971      0.386174         0.004670        0.003955   \n",
       "1       1.311604      0.453183         0.004588        0.002148   \n",
       "2       1.047667      0.218032         0.002395        0.002937   \n",
       "3       0.921672      0.029756         0.001335        0.001326   \n",
       "4       1.012883      0.103742         0.002218        0.001216   \n",
       "5       1.019981      0.140841         0.001504        0.001469   \n",
       "6       1.542822      0.296576         0.004862        0.004670   \n",
       "\n",
       "  param_learning_rate                   params  split0_test_score  \\\n",
       "0                0.01  {'learning_rate': 0.01}          -1.273158   \n",
       "1                0.05  {'learning_rate': 0.05}          -1.183802   \n",
       "2                 0.2   {'learning_rate': 0.2}          -1.191927   \n",
       "3                 0.3   {'learning_rate': 0.3}          -1.148550   \n",
       "4                 0.4   {'learning_rate': 0.4}          -1.312159   \n",
       "5                 0.5   {'learning_rate': 0.5}          -1.245833   \n",
       "6                 0.9   {'learning_rate': 0.9}          -2.016298   \n",
       "\n",
       "   split1_test_score  split2_test_score  split3_test_score  ...  \\\n",
       "0          -0.701737          -0.625993          -0.226244  ...   \n",
       "1          -0.651566          -0.545644          -0.201298  ...   \n",
       "2          -0.746508          -0.560677          -0.255141  ...   \n",
       "3          -0.785703          -0.722049          -0.303542  ...   \n",
       "4          -0.897069          -0.730547          -0.274195  ...   \n",
       "5          -0.848821          -0.748518          -0.302412  ...   \n",
       "6          -1.598416          -1.243444          -0.447581  ...   \n",
       "\n",
       "   mean_test_score  std_test_score  rank_test_score  split0_train_score  \\\n",
       "0        -0.612785        0.383396                3       -3.021698e-01   \n",
       "1        -0.569837        0.349807                1       -9.406509e-02   \n",
       "2        -0.610780        0.341159                2       -5.718109e-03   \n",
       "3        -0.649949        0.323067                4       -1.204021e-03   \n",
       "4        -0.708666        0.382836                6       -1.514498e-04   \n",
       "5        -0.697724        0.348686                5       -5.114735e-05   \n",
       "6        -1.162497        0.611010                7       -4.890036e-07   \n",
       "\n",
       "   split1_train_score  split2_train_score  split3_train_score  \\\n",
       "0       -3.786159e-01       -3.863346e-01       -4.376600e-01   \n",
       "1       -1.151939e-01       -1.073755e-01       -1.423285e-01   \n",
       "2       -4.847463e-03       -6.883336e-03       -8.156875e-03   \n",
       "3       -9.247015e-04       -1.023305e-03       -1.714539e-03   \n",
       "4       -2.810637e-04       -1.916489e-04       -3.078889e-04   \n",
       "5       -4.547646e-05       -5.983312e-05       -3.725704e-05   \n",
       "6       -4.694297e-07       -3.589156e-07       -5.444058e-07   \n",
       "\n",
       "   split4_train_score  mean_train_score  std_train_score  \n",
       "0       -4.263690e-01     -3.862299e-01     4.770805e-02  \n",
       "1       -1.371641e-01     -1.192254e-01     1.813980e-02  \n",
       "2       -7.964497e-03     -6.714056e-03     1.276720e-03  \n",
       "3       -2.127479e-03     -1.398809e-03     4.548337e-04  \n",
       "4       -3.299414e-04     -2.523985e-04     6.898542e-05  \n",
       "5       -7.782376e-05     -5.430755e-05     1.387256e-05  \n",
       "6       -3.978492e-07     -4.519208e-07     6.604374e-08  \n",
       "\n",
       "[7 rows x 21 columns]"
      ]
     },
     "execution_count": 60,
     "metadata": {},
     "output_type": "execute_result"
    }
   ],
   "source": [
    "cv_results"
   ]
  },
  {
   "cell_type": "markdown",
   "metadata": {},
   "source": [
    "Same as usual: learning rate can be thought of as (the inverse) of shrinkage: a smaller learning rate implies a lot of shrinkage (and hence smaller model complexity and training set performance). In contrast, gbm with no shrinkage performs very well on the training set, but overfits on the test."
   ]
  },
  {
   "cell_type": "markdown",
   "metadata": {},
   "source": [
    "Finally, lets take a look at feature importance in our gbm. Remember: scale by the maximum and show them decreasing. What is the most important feature?"
   ]
  },
  {
   "cell_type": "code",
   "execution_count": 61,
   "metadata": {},
   "outputs": [
    {
     "data": {
      "text/plain": [
       "IPDCONGD     1.000000\n",
       "TB6SMFFM     0.859474\n",
       "HWIURATIO    0.618648\n",
       "IPMAT        0.609174\n",
       "PERMITW      0.559329\n",
       "IPMANSICS    0.544544\n",
       "CLAIMSx      0.408407\n",
       "AMDMUOx      0.355731\n",
       "MANEMP       0.335319\n",
       "IPDMAT       0.300944\n",
       "dtype: float64"
      ]
     },
     "execution_count": 61,
     "metadata": {},
     "output_type": "execute_result"
    }
   ],
   "source": [
    "importance = gbmCV.best_estimator_.feature_importances_\n",
    "features = X_train.columns\n",
    "important_features = pd.Series(data = importance/importance.max(),\n",
    "                               index = features)\n",
    "important_features.sort_values(ascending = False).head(10)"
   ]
  },
  {
   "cell_type": "markdown",
   "metadata": {},
   "source": [
    "## XGBoost\n",
    "\n",
    "Lets try XGBoost now."
   ]
  },
  {
   "cell_type": "code",
   "execution_count": 62,
   "metadata": {},
   "outputs": [],
   "source": [
    "from xgboost import XGBRegressor"
   ]
  },
  {
   "cell_type": "markdown",
   "metadata": {},
   "source": [
    "We will again tune the learning rate, although we could have explored other tuning parameters as well. Set up the GridSearchCV. **Note**: to aviod a warning, create the XGBRegressor instance with `objective` set to `'reg:squarederror'`"
   ]
  },
  {
   "cell_type": "code",
   "execution_count": 63,
   "metadata": {},
   "outputs": [],
   "source": [
    "xgb = XGBRegressor(n_estimators = 100,\n",
    "                   objective = 'reg:squarederror')\n",
    "\n",
    "parameters = {'learning_rate': learning}\n",
    "\n",
    "xgbCV = GridSearchCV(xgb,\n",
    "                     parameters,\n",
    "                     cv = 5,\n",
    "                     verbose = 0,\n",
    "                     return_train_score = True,\n",
    "                     refit = True,\n",
    "                     scoring = 'neg_mean_squared_error')"
   ]
  },
  {
   "cell_type": "markdown",
   "metadata": {},
   "source": [
    "fit the model"
   ]
  },
  {
   "cell_type": "code",
   "execution_count": 64,
   "metadata": {},
   "outputs": [
    {
     "data": {
      "text/html": [
       "<style>#sk-container-id-6 {color: black;background-color: white;}#sk-container-id-6 pre{padding: 0;}#sk-container-id-6 div.sk-toggleable {background-color: white;}#sk-container-id-6 label.sk-toggleable__label {cursor: pointer;display: block;width: 100%;margin-bottom: 0;padding: 0.3em;box-sizing: border-box;text-align: center;}#sk-container-id-6 label.sk-toggleable__label-arrow:before {content: \"▸\";float: left;margin-right: 0.25em;color: #696969;}#sk-container-id-6 label.sk-toggleable__label-arrow:hover:before {color: black;}#sk-container-id-6 div.sk-estimator:hover label.sk-toggleable__label-arrow:before {color: black;}#sk-container-id-6 div.sk-toggleable__content {max-height: 0;max-width: 0;overflow: hidden;text-align: left;background-color: #f0f8ff;}#sk-container-id-6 div.sk-toggleable__content pre {margin: 0.2em;color: black;border-radius: 0.25em;background-color: #f0f8ff;}#sk-container-id-6 input.sk-toggleable__control:checked~div.sk-toggleable__content {max-height: 200px;max-width: 100%;overflow: auto;}#sk-container-id-6 input.sk-toggleable__control:checked~label.sk-toggleable__label-arrow:before {content: \"▾\";}#sk-container-id-6 div.sk-estimator input.sk-toggleable__control:checked~label.sk-toggleable__label {background-color: #d4ebff;}#sk-container-id-6 div.sk-label input.sk-toggleable__control:checked~label.sk-toggleable__label {background-color: #d4ebff;}#sk-container-id-6 input.sk-hidden--visually {border: 0;clip: rect(1px 1px 1px 1px);clip: rect(1px, 1px, 1px, 1px);height: 1px;margin: -1px;overflow: hidden;padding: 0;position: absolute;width: 1px;}#sk-container-id-6 div.sk-estimator {font-family: monospace;background-color: #f0f8ff;border: 1px dotted black;border-radius: 0.25em;box-sizing: border-box;margin-bottom: 0.5em;}#sk-container-id-6 div.sk-estimator:hover {background-color: #d4ebff;}#sk-container-id-6 div.sk-parallel-item::after {content: \"\";width: 100%;border-bottom: 1px solid gray;flex-grow: 1;}#sk-container-id-6 div.sk-label:hover label.sk-toggleable__label {background-color: #d4ebff;}#sk-container-id-6 div.sk-serial::before {content: \"\";position: absolute;border-left: 1px solid gray;box-sizing: border-box;top: 0;bottom: 0;left: 50%;z-index: 0;}#sk-container-id-6 div.sk-serial {display: flex;flex-direction: column;align-items: center;background-color: white;padding-right: 0.2em;padding-left: 0.2em;position: relative;}#sk-container-id-6 div.sk-item {position: relative;z-index: 1;}#sk-container-id-6 div.sk-parallel {display: flex;align-items: stretch;justify-content: center;background-color: white;position: relative;}#sk-container-id-6 div.sk-item::before, #sk-container-id-6 div.sk-parallel-item::before {content: \"\";position: absolute;border-left: 1px solid gray;box-sizing: border-box;top: 0;bottom: 0;left: 50%;z-index: -1;}#sk-container-id-6 div.sk-parallel-item {display: flex;flex-direction: column;z-index: 1;position: relative;background-color: white;}#sk-container-id-6 div.sk-parallel-item:first-child::after {align-self: flex-end;width: 50%;}#sk-container-id-6 div.sk-parallel-item:last-child::after {align-self: flex-start;width: 50%;}#sk-container-id-6 div.sk-parallel-item:only-child::after {width: 0;}#sk-container-id-6 div.sk-dashed-wrapped {border: 1px dashed gray;margin: 0 0.4em 0.5em 0.4em;box-sizing: border-box;padding-bottom: 0.4em;background-color: white;}#sk-container-id-6 div.sk-label label {font-family: monospace;font-weight: bold;display: inline-block;line-height: 1.2em;}#sk-container-id-6 div.sk-label-container {text-align: center;}#sk-container-id-6 div.sk-container {/* jupyter's `normalize.less` sets `[hidden] { display: none; }` but bootstrap.min.css set `[hidden] { display: none !important; }` so we also need the `!important` here to be able to override the default hidden behavior on the sphinx rendered scikit-learn.org. See: https://github.com/scikit-learn/scikit-learn/issues/21755 */display: inline-block !important;position: relative;}#sk-container-id-6 div.sk-text-repr-fallback {display: none;}</style><div id=\"sk-container-id-6\" class=\"sk-top-container\"><div class=\"sk-text-repr-fallback\"><pre>GridSearchCV(cv=5,\n",
       "             estimator=XGBRegressor(base_score=None, booster=None,\n",
       "                                    callbacks=None, colsample_bylevel=None,\n",
       "                                    colsample_bynode=None,\n",
       "                                    colsample_bytree=None,\n",
       "                                    early_stopping_rounds=None,\n",
       "                                    enable_categorical=False, eval_metric=None,\n",
       "                                    gamma=None, gpu_id=None, grow_policy=None,\n",
       "                                    importance_type=None,\n",
       "                                    interaction_constraints=None,\n",
       "                                    learning_rate=None, max_bin=None,\n",
       "                                    max_cat...max_delta_step=None,\n",
       "                                    max_depth=None, max_leaves=None,\n",
       "                                    min_child_weight=None, missing=nan,\n",
       "                                    monotone_constraints=None, n_estimators=100,\n",
       "                                    n_jobs=None, num_parallel_tree=None,\n",
       "                                    predictor=None, random_state=None,\n",
       "                                    reg_alpha=None, reg_lambda=None, ...),\n",
       "             param_grid={&#x27;learning_rate&#x27;: [0.01, 0.05, 0.2, 0.3, 0.4, 0.5,\n",
       "                                           0.9]},\n",
       "             return_train_score=True, scoring=&#x27;neg_mean_squared_error&#x27;)</pre><b>In a Jupyter environment, please rerun this cell to show the HTML representation or trust the notebook. <br />On GitHub, the HTML representation is unable to render, please try loading this page with nbviewer.org.</b></div><div class=\"sk-container\" hidden><div class=\"sk-item sk-dashed-wrapped\"><div class=\"sk-label-container\"><div class=\"sk-label sk-toggleable\"><input class=\"sk-toggleable__control sk-hidden--visually\" id=\"sk-estimator-id-16\" type=\"checkbox\" ><label for=\"sk-estimator-id-16\" class=\"sk-toggleable__label sk-toggleable__label-arrow\">GridSearchCV</label><div class=\"sk-toggleable__content\"><pre>GridSearchCV(cv=5,\n",
       "             estimator=XGBRegressor(base_score=None, booster=None,\n",
       "                                    callbacks=None, colsample_bylevel=None,\n",
       "                                    colsample_bynode=None,\n",
       "                                    colsample_bytree=None,\n",
       "                                    early_stopping_rounds=None,\n",
       "                                    enable_categorical=False, eval_metric=None,\n",
       "                                    gamma=None, gpu_id=None, grow_policy=None,\n",
       "                                    importance_type=None,\n",
       "                                    interaction_constraints=None,\n",
       "                                    learning_rate=None, max_bin=None,\n",
       "                                    max_cat...max_delta_step=None,\n",
       "                                    max_depth=None, max_leaves=None,\n",
       "                                    min_child_weight=None, missing=nan,\n",
       "                                    monotone_constraints=None, n_estimators=100,\n",
       "                                    n_jobs=None, num_parallel_tree=None,\n",
       "                                    predictor=None, random_state=None,\n",
       "                                    reg_alpha=None, reg_lambda=None, ...),\n",
       "             param_grid={&#x27;learning_rate&#x27;: [0.01, 0.05, 0.2, 0.3, 0.4, 0.5,\n",
       "                                           0.9]},\n",
       "             return_train_score=True, scoring=&#x27;neg_mean_squared_error&#x27;)</pre></div></div></div><div class=\"sk-parallel\"><div class=\"sk-parallel-item\"><div class=\"sk-item\"><div class=\"sk-label-container\"><div class=\"sk-label sk-toggleable\"><input class=\"sk-toggleable__control sk-hidden--visually\" id=\"sk-estimator-id-17\" type=\"checkbox\" ><label for=\"sk-estimator-id-17\" class=\"sk-toggleable__label sk-toggleable__label-arrow\">estimator: XGBRegressor</label><div class=\"sk-toggleable__content\"><pre>XGBRegressor(base_score=None, booster=None, callbacks=None,\n",
       "             colsample_bylevel=None, colsample_bynode=None,\n",
       "             colsample_bytree=None, early_stopping_rounds=None,\n",
       "             enable_categorical=False, eval_metric=None, gamma=None,\n",
       "             gpu_id=None, grow_policy=None, importance_type=None,\n",
       "             interaction_constraints=None, learning_rate=None, max_bin=None,\n",
       "             max_cat_to_onehot=None, max_delta_step=None, max_depth=None,\n",
       "             max_leaves=None, min_child_weight=None, missing=nan,\n",
       "             monotone_constraints=None, n_estimators=100, n_jobs=None,\n",
       "             num_parallel_tree=None, predictor=None, random_state=None,\n",
       "             reg_alpha=None, reg_lambda=None, ...)</pre></div></div></div><div class=\"sk-serial\"><div class=\"sk-item\"><div class=\"sk-estimator sk-toggleable\"><input class=\"sk-toggleable__control sk-hidden--visually\" id=\"sk-estimator-id-18\" type=\"checkbox\" ><label for=\"sk-estimator-id-18\" class=\"sk-toggleable__label sk-toggleable__label-arrow\">XGBRegressor</label><div class=\"sk-toggleable__content\"><pre>XGBRegressor(base_score=None, booster=None, callbacks=None,\n",
       "             colsample_bylevel=None, colsample_bynode=None,\n",
       "             colsample_bytree=None, early_stopping_rounds=None,\n",
       "             enable_categorical=False, eval_metric=None, gamma=None,\n",
       "             gpu_id=None, grow_policy=None, importance_type=None,\n",
       "             interaction_constraints=None, learning_rate=None, max_bin=None,\n",
       "             max_cat_to_onehot=None, max_delta_step=None, max_depth=None,\n",
       "             max_leaves=None, min_child_weight=None, missing=nan,\n",
       "             monotone_constraints=None, n_estimators=100, n_jobs=None,\n",
       "             num_parallel_tree=None, predictor=None, random_state=None,\n",
       "             reg_alpha=None, reg_lambda=None, ...)</pre></div></div></div></div></div></div></div></div></div></div>"
      ],
      "text/plain": [
       "GridSearchCV(cv=5,\n",
       "             estimator=XGBRegressor(base_score=None, booster=None,\n",
       "                                    callbacks=None, colsample_bylevel=None,\n",
       "                                    colsample_bynode=None,\n",
       "                                    colsample_bytree=None,\n",
       "                                    early_stopping_rounds=None,\n",
       "                                    enable_categorical=False, eval_metric=None,\n",
       "                                    gamma=None, gpu_id=None, grow_policy=None,\n",
       "                                    importance_type=None,\n",
       "                                    interaction_constraints=None,\n",
       "                                    learning_rate=None, max_bin=None,\n",
       "                                    max_cat...max_delta_step=None,\n",
       "                                    max_depth=None, max_leaves=None,\n",
       "                                    min_child_weight=None, missing=nan,\n",
       "                                    monotone_constraints=None, n_estimators=100,\n",
       "                                    n_jobs=None, num_parallel_tree=None,\n",
       "                                    predictor=None, random_state=None,\n",
       "                                    reg_alpha=None, reg_lambda=None, ...),\n",
       "             param_grid={'learning_rate': [0.01, 0.05, 0.2, 0.3, 0.4, 0.5,\n",
       "                                           0.9]},\n",
       "             return_train_score=True, scoring='neg_mean_squared_error')"
      ]
     },
     "execution_count": 64,
     "metadata": {},
     "output_type": "execute_result"
    }
   ],
   "source": [
    "xgbCV.fit(X_train, y_train)"
   ]
  },
  {
   "cell_type": "markdown",
   "metadata": {},
   "source": [
    "What is the best learning rate of the best xgb estimator?\n"
   ]
  },
  {
   "cell_type": "code",
   "execution_count": 67,
   "metadata": {},
   "outputs": [
    {
     "name": "stdout",
     "output_type": "stream",
     "text": [
      "The best learning rate for xgb estimator is 0.05\n"
     ]
    }
   ],
   "source": [
    "print('The best learning rate for xgb estimator is %s' % xgbCV.best_estimator_.learning_rate)"
   ]
  },
  {
   "cell_type": "markdown",
   "metadata": {},
   "source": [
    "Lets visualize our result by standard plot of tuning parameters and scores"
   ]
  },
  {
   "cell_type": "code",
   "execution_count": 72,
   "metadata": {},
   "outputs": [
    {
     "data": {
      "text/plain": [
       "<matplotlib.legend.Legend at 0x28fe9eedfc0>"
      ]
     },
     "execution_count": 72,
     "metadata": {},
     "output_type": "execute_result"
    },
    {
     "data": {
      "image/png": "[encoded data removed]",
      "text/plain": [
       "<Figure size 640x480 with 1 Axes>"
      ]
     },
     "metadata": {},
     "output_type": "display_data"
    }
   ],
   "source": [
    "cv_results = pd.Series(xgbCV.cv_results_)\n",
    "plt.plot(learning, -cv_results.mean_test_score, label = 'Test')\n",
    "plt.plot(learning, -cv_results.mean_train_score, label = 'Train')\n",
    "plt.legend()"
   ]
  },
  {
   "cell_type": "markdown",
   "metadata": {},
   "source": [
    "Show the feature importance"
   ]
  },
  {
   "cell_type": "code",
   "execution_count": 74,
   "metadata": {},
   "outputs": [
    {
     "data": {
      "text/plain": [
       "IPDCONGD     1.000000\n",
       "TB6SMFFM     0.859474\n",
       "HWIURATIO    0.618648\n",
       "IPMAT        0.609174\n",
       "PERMITW      0.559329\n",
       "IPMANSICS    0.544544\n",
       "CLAIMSx      0.408407\n",
       "AMDMUOx      0.355731\n",
       "MANEMP       0.335319\n",
       "IPDMAT       0.300944\n",
       "dtype: float64"
      ]
     },
     "execution_count": 74,
     "metadata": {},
     "output_type": "execute_result"
    }
   ],
   "source": [
    "impportance = xgbCV.best_estimator_.feature_importances_\n",
    "features = X_train.columns\n",
    "important_features = pd.Series(data = importance/importance.max(),\n",
    "                               index = features)\n",
    "important_features.sort_values(ascending = False).head(10)"
   ]
  },
  {
   "cell_type": "markdown",
   "metadata": {},
   "source": [
    "## AdaBoost\n",
    "\n",
    "Finally, lets look at AdaBoost. Again, we will tune the learning rate."
   ]
  },
  {
   "cell_type": "code",
   "execution_count": 76,
   "metadata": {},
   "outputs": [],
   "source": [
    "from sklearn.ensemble import AdaBoostRegressor"
   ]
  },
  {
   "cell_type": "markdown",
   "metadata": {},
   "source": [
    "Set up the GradSearch"
   ]
  },
  {
   "cell_type": "code",
   "execution_count": 78,
   "metadata": {},
   "outputs": [],
   "source": [
    "ab = AdaBoostRegressor(n_estimators = 100)\n",
    "parameters = {'learning_rate': learning}\n",
    "abCV = GridSearchCV(ab,\n",
    "                    parameters,\n",
    "                    return_train_score = True,\n",
    "                    scoring = 'neg_mean_squared_error')"
   ]
  },
  {
   "cell_type": "markdown",
   "metadata": {},
   "source": [
    "Lets fit the model"
   ]
  },
  {
   "cell_type": "code",
   "execution_count": 79,
   "metadata": {},
   "outputs": [
    {
     "data": {
      "text/html": [
       "<style>#sk-container-id-7 {color: black;background-color: white;}#sk-container-id-7 pre{padding: 0;}#sk-container-id-7 div.sk-toggleable {background-color: white;}#sk-container-id-7 label.sk-toggleable__label {cursor: pointer;display: block;width: 100%;margin-bottom: 0;padding: 0.3em;box-sizing: border-box;text-align: center;}#sk-container-id-7 label.sk-toggleable__label-arrow:before {content: \"▸\";float: left;margin-right: 0.25em;color: #696969;}#sk-container-id-7 label.sk-toggleable__label-arrow:hover:before {color: black;}#sk-container-id-7 div.sk-estimator:hover label.sk-toggleable__label-arrow:before {color: black;}#sk-container-id-7 div.sk-toggleable__content {max-height: 0;max-width: 0;overflow: hidden;text-align: left;background-color: #f0f8ff;}#sk-container-id-7 div.sk-toggleable__content pre {margin: 0.2em;color: black;border-radius: 0.25em;background-color: #f0f8ff;}#sk-container-id-7 input.sk-toggleable__control:checked~div.sk-toggleable__content {max-height: 200px;max-width: 100%;overflow: auto;}#sk-container-id-7 input.sk-toggleable__control:checked~label.sk-toggleable__label-arrow:before {content: \"▾\";}#sk-container-id-7 div.sk-estimator input.sk-toggleable__control:checked~label.sk-toggleable__label {background-color: #d4ebff;}#sk-container-id-7 div.sk-label input.sk-toggleable__control:checked~label.sk-toggleable__label {background-color: #d4ebff;}#sk-container-id-7 input.sk-hidden--visually {border: 0;clip: rect(1px 1px 1px 1px);clip: rect(1px, 1px, 1px, 1px);height: 1px;margin: -1px;overflow: hidden;padding: 0;position: absolute;width: 1px;}#sk-container-id-7 div.sk-estimator {font-family: monospace;background-color: #f0f8ff;border: 1px dotted black;border-radius: 0.25em;box-sizing: border-box;margin-bottom: 0.5em;}#sk-container-id-7 div.sk-estimator:hover {background-color: #d4ebff;}#sk-container-id-7 div.sk-parallel-item::after {content: \"\";width: 100%;border-bottom: 1px solid gray;flex-grow: 1;}#sk-container-id-7 div.sk-label:hover label.sk-toggleable__label {background-color: #d4ebff;}#sk-container-id-7 div.sk-serial::before {content: \"\";position: absolute;border-left: 1px solid gray;box-sizing: border-box;top: 0;bottom: 0;left: 50%;z-index: 0;}#sk-container-id-7 div.sk-serial {display: flex;flex-direction: column;align-items: center;background-color: white;padding-right: 0.2em;padding-left: 0.2em;position: relative;}#sk-container-id-7 div.sk-item {position: relative;z-index: 1;}#sk-container-id-7 div.sk-parallel {display: flex;align-items: stretch;justify-content: center;background-color: white;position: relative;}#sk-container-id-7 div.sk-item::before, #sk-container-id-7 div.sk-parallel-item::before {content: \"\";position: absolute;border-left: 1px solid gray;box-sizing: border-box;top: 0;bottom: 0;left: 50%;z-index: -1;}#sk-container-id-7 div.sk-parallel-item {display: flex;flex-direction: column;z-index: 1;position: relative;background-color: white;}#sk-container-id-7 div.sk-parallel-item:first-child::after {align-self: flex-end;width: 50%;}#sk-container-id-7 div.sk-parallel-item:last-child::after {align-self: flex-start;width: 50%;}#sk-container-id-7 div.sk-parallel-item:only-child::after {width: 0;}#sk-container-id-7 div.sk-dashed-wrapped {border: 1px dashed gray;margin: 0 0.4em 0.5em 0.4em;box-sizing: border-box;padding-bottom: 0.4em;background-color: white;}#sk-container-id-7 div.sk-label label {font-family: monospace;font-weight: bold;display: inline-block;line-height: 1.2em;}#sk-container-id-7 div.sk-label-container {text-align: center;}#sk-container-id-7 div.sk-container {/* jupyter's `normalize.less` sets `[hidden] { display: none; }` but bootstrap.min.css set `[hidden] { display: none !important; }` so we also need the `!important` here to be able to override the default hidden behavior on the sphinx rendered scikit-learn.org. See: https://github.com/scikit-learn/scikit-learn/issues/21755 */display: inline-block !important;position: relative;}#sk-container-id-7 div.sk-text-repr-fallback {display: none;}</style><div id=\"sk-container-id-7\" class=\"sk-top-container\"><div class=\"sk-text-repr-fallback\"><pre>GridSearchCV(estimator=AdaBoostRegressor(n_estimators=100),\n",
       "             param_grid={&#x27;learning_rate&#x27;: [0.01, 0.05, 0.2, 0.3, 0.4, 0.5,\n",
       "                                           0.9]},\n",
       "             return_train_score=True, scoring=&#x27;neg_mean_squared_error&#x27;)</pre><b>In a Jupyter environment, please rerun this cell to show the HTML representation or trust the notebook. <br />On GitHub, the HTML representation is unable to render, please try loading this page with nbviewer.org.</b></div><div class=\"sk-container\" hidden><div class=\"sk-item sk-dashed-wrapped\"><div class=\"sk-label-container\"><div class=\"sk-label sk-toggleable\"><input class=\"sk-toggleable__control sk-hidden--visually\" id=\"sk-estimator-id-19\" type=\"checkbox\" ><label for=\"sk-estimator-id-19\" class=\"sk-toggleable__label sk-toggleable__label-arrow\">GridSearchCV</label><div class=\"sk-toggleable__content\"><pre>GridSearchCV(estimator=AdaBoostRegressor(n_estimators=100),\n",
       "             param_grid={&#x27;learning_rate&#x27;: [0.01, 0.05, 0.2, 0.3, 0.4, 0.5,\n",
       "                                           0.9]},\n",
       "             return_train_score=True, scoring=&#x27;neg_mean_squared_error&#x27;)</pre></div></div></div><div class=\"sk-parallel\"><div class=\"sk-parallel-item\"><div class=\"sk-item\"><div class=\"sk-label-container\"><div class=\"sk-label sk-toggleable\"><input class=\"sk-toggleable__control sk-hidden--visually\" id=\"sk-estimator-id-20\" type=\"checkbox\" ><label for=\"sk-estimator-id-20\" class=\"sk-toggleable__label sk-toggleable__label-arrow\">estimator: AdaBoostRegressor</label><div class=\"sk-toggleable__content\"><pre>AdaBoostRegressor(n_estimators=100)</pre></div></div></div><div class=\"sk-serial\"><div class=\"sk-item\"><div class=\"sk-estimator sk-toggleable\"><input class=\"sk-toggleable__control sk-hidden--visually\" id=\"sk-estimator-id-21\" type=\"checkbox\" ><label for=\"sk-estimator-id-21\" class=\"sk-toggleable__label sk-toggleable__label-arrow\">AdaBoostRegressor</label><div class=\"sk-toggleable__content\"><pre>AdaBoostRegressor(n_estimators=100)</pre></div></div></div></div></div></div></div></div></div></div>"
      ],
      "text/plain": [
       "GridSearchCV(estimator=AdaBoostRegressor(n_estimators=100),\n",
       "             param_grid={'learning_rate': [0.01, 0.05, 0.2, 0.3, 0.4, 0.5,\n",
       "                                           0.9]},\n",
       "             return_train_score=True, scoring='neg_mean_squared_error')"
      ]
     },
     "execution_count": 79,
     "metadata": {},
     "output_type": "execute_result"
    }
   ],
   "source": [
    "abCV.fit(X_train, y_train)"
   ]
  },
  {
   "cell_type": "markdown",
   "metadata": {},
   "source": [
    "What is the learning rate of the best estimator?"
   ]
  },
  {
   "cell_type": "code",
   "execution_count": 80,
   "metadata": {},
   "outputs": [
    {
     "name": "stdout",
     "output_type": "stream",
     "text": [
      "The best learning rate is 0.4\n"
     ]
    }
   ],
   "source": [
    "print('The best learning rate is %s' % abCV.best_estimator_.learning_rate)"
   ]
  },
  {
   "cell_type": "markdown",
   "metadata": {},
   "source": [
    "And lets plot the learning rate versus the loss for both the training set and the test set."
   ]
  },
  {
   "cell_type": "code",
   "execution_count": 89,
   "metadata": {},
   "outputs": [
    {
     "data": {
      "text/plain": [
       "Text(0, 0.5, 'Train')"
      ]
     },
     "execution_count": 89,
     "metadata": {},
     "output_type": "execute_result"
    },
    {
     "data": {
      "image/png": "[encoded data removed]",
      "text/plain": [
       "<Figure size 640x480 with 2 Axes>"
      ]
     },
     "metadata": {},
     "output_type": "display_data"
    }
   ],
   "source": [
    "cv_results = pd.Series(abCV.cv_results_)\n",
    "\n",
    "fig, ax = plt.subplots()\n",
    "ax.plot(learning, -cv_results.mean_test_score)\n",
    "ax.set_ylabel('Test')\n",
    "\n",
    "ax1 = ax.twinx()\n",
    "ax1.plot(learning, -cv_results.mean_train_score, 'r-')\n",
    "ax.set_ylabel('Train')\n",
    "\n"
   ]
  },
  {
   "cell_type": "markdown",
   "metadata": {},
   "source": [
    "And feature importance, just as before"
   ]
  },
  {
   "cell_type": "code",
   "execution_count": 90,
   "metadata": {},
   "outputs": [
    {
     "data": {
      "text/plain": [
       "IPDCONGD         1.000000\n",
       "CLAIMSx          0.810454\n",
       "IPMAT            0.639004\n",
       "HWIURATIO        0.635520\n",
       "BUSINVx          0.420882\n",
       "IPMANSICS        0.326124\n",
       "TB3SMFFM         0.300588\n",
       "CES1021000001    0.299127\n",
       "AMDMUOx          0.246845\n",
       "BAA              0.234767\n",
       "dtype: float64"
      ]
     },
     "execution_count": 90,
     "metadata": {},
     "output_type": "execute_result"
    }
   ],
   "source": [
    "importance = abCV.best_estimator_.feature_importances_\n",
    "features = X_train.columns\n",
    "important_features = pd.Series(importance/importance.max(),\n",
    "                               index = features)\n",
    "\n",
    "important_features.sort_values(ascending = False).head(10)"
   ]
  },
  {
   "cell_type": "markdown",
   "metadata": {},
   "source": [
    "## Out-of-sample forecasting\n",
    "\n",
    "lets now construct our forecasts. There are many smarter and more efficient ways of doing this, but lets take it one step at a time."
   ]
  },
  {
   "cell_type": "code",
   "execution_count": 91,
   "metadata": {},
   "outputs": [],
   "source": [
    "forecasts['naive'] = naive_forcaster(y_train)\n",
    "forecast_err['naive'] = (y_test - forecasts['naive'])**2\n",
    "\n",
    "forecasts['kNN'] = knnCV.best_estimator_.predict(X_test)\n",
    "forecast_err['kNN'] = (y_test - forecasts['kNN'])**2\n",
    "\n",
    "forecasts['Dtree'] = dtreeCV.best_estimator_.predict(X_test)\n",
    "forecast_err['Dtree'] = (y_test - forecasts['Dtree'])**2\n",
    "\n",
    "forecasts['RF'] = rfCV.best_estimator_.predict(X_test)\n",
    "forecast_err['RF'] = (y_test - forecasts['RF'])**2\n",
    "np.sqrt( forecast_err.RF.mean() )\n",
    "\n",
    "forecasts['GB'] = gbmCV.best_estimator_.predict(X_test)\n",
    "forecast_err['GB'] = (y_test - forecasts['GB'])**2\n",
    "\n",
    "forecasts['XGB'] = xgbCV.best_estimator_.predict(X_test)\n",
    "forecast_err['XGB'] = (y_test - forecasts['XGB'])**2\n",
    "\n",
    "forecasts['AdaB'] = abCV.best_estimator_.predict(X_test)\n",
    "forecast_err['AdaB'] = (y_test - forecasts['AdaB'])**2"
   ]
  },
  {
   "cell_type": "markdown",
   "metadata": {},
   "source": [
    "And compute our MSE:"
   ]
  },
  {
   "cell_type": "code",
   "execution_count": 92,
   "metadata": {},
   "outputs": [
    {
     "data": {
      "text/html": [
       "<div>\n",
       "<style scoped>\n",
       "    .dataframe tbody tr th:only-of-type {\n",
       "        vertical-align: middle;\n",
       "    }\n",
       "\n",
       "    .dataframe tbody tr th {\n",
       "        vertical-align: top;\n",
       "    }\n",
       "\n",
       "    .dataframe thead th {\n",
       "        text-align: right;\n",
       "    }\n",
       "</style>\n",
       "<table border=\"1\" class=\"dataframe\">\n",
       "  <thead>\n",
       "    <tr style=\"text-align: right;\">\n",
       "      <th></th>\n",
       "      <th>naive</th>\n",
       "      <th>kNN</th>\n",
       "      <th>Dtree</th>\n",
       "      <th>RF</th>\n",
       "      <th>GB</th>\n",
       "      <th>XGB</th>\n",
       "      <th>AdaB</th>\n",
       "    </tr>\n",
       "  </thead>\n",
       "  <tbody>\n",
       "    <tr>\n",
       "      <th>MSE</th>\n",
       "      <td>1.581787</td>\n",
       "      <td>1.421853</td>\n",
       "      <td>1.671119</td>\n",
       "      <td>1.503498</td>\n",
       "      <td>1.578401</td>\n",
       "      <td>1.562527</td>\n",
       "      <td>1.464438</td>\n",
       "    </tr>\n",
       "  </tbody>\n",
       "</table>\n",
       "</div>"
      ],
      "text/plain": [
       "        naive       kNN     Dtree        RF        GB       XGB      AdaB\n",
       "MSE  1.581787  1.421853  1.671119  1.503498  1.578401  1.562527  1.464438"
      ]
     },
     "execution_count": 92,
     "metadata": {},
     "output_type": "execute_result"
    }
   ],
   "source": [
    "MSE = pd.DataFrame(forecast_err.mean(axis = 0), columns = ['MSE']).transpose()\n",
    "MSE"
   ]
  }
 ],
 "metadata": {
  "kernelspec": {
   "display_name": "Python 3.10.5 64-bit",
   "language": "python",
   "name": "python3"
  },
  "language_info": {
   "codemirror_mode": {
    "name": "ipython",
    "version": 3
   },
   "file_extension": ".py",
   "mimetype": "text/x-python",
   "name": "python",
   "nbconvert_exporter": "python",
   "pygments_lexer": "ipython3",
   "version": "3.10.5"
  },
  "orig_nbformat": 4,
  "vscode": {
   "interpreter": {
    "hash": "cb7eae22b3a28430044b167b2f91d2eb913632173e49b3dfc217d3fa48268c7b"
   }
  }
 },
 "nbformat": 4,
 "nbformat_minor": 2
}
